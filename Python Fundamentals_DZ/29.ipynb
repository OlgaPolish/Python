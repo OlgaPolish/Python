{
 "cells": [
  {
   "cell_type": "code",
   "execution_count": 1,
   "id": "1b1f2981-3ed5-46bd-a7c0-58082d379568",
   "metadata": {},
   "outputs": [
    {
     "name": "stdout",
     "output_type": "stream",
     "text": [
      "Площадь прямоугольника: 50\n"
     ]
    }
   ],
   "source": [
    "#1. Создайте класс Rectangle для представления прямоугольника. Класс должен иметь атрибуты \n",
    "# width (ширина) и height (высота), а также метод calculate_area(), который вычисляет площадь прямоугольника. \n",
    "# Затем создайте экземпляр класса Rectangle с заданными значениями ширины и высоты и выведите его площадь\n",
    "\n",
    "class Rectangle:\n",
    "    def __init__(self, width, height):\n",
    "        self.width = width\n",
    "        self.height = height\n",
    "\n",
    "    def calculate_area(self):\n",
    "        return self.width * self.height\n",
    "\n",
    "# Создаем экземпляр класса Rectangle\n",
    "rect = Rectangle(5, 10)\n",
    "\n",
    "print(\"Площадь прямоугольника:\", rect.calculate_area())"
   ]
  },
  {
   "cell_type": "code",
   "execution_count": null,
   "id": "eb549447-76e1-46f0-b0f4-cd40409f2f08",
   "metadata": {},
   "outputs": [],
   "source": []
  },
  {
   "cell_type": "code",
   "execution_count": 3,
   "id": "9c56d8c3-6792-4ce9-9128-24ad138d4395",
   "metadata": {},
   "outputs": [
    {
     "name": "stdout",
     "output_type": "stream",
     "text": [
      "Имя: Olga, Возраст: 35\n"
     ]
    }
   ],
   "source": [
    "# 2. Создайте класс Student для представления студента. Класс должен иметь атрибуты name (имя) и age (возраст), \n",
    "# а также метод display_info(), который выводит информацию о студенте. Затем создайте экземпляр класса Student \n",
    "# с заданным именем и возрастом и вызовите метод display_info().\n",
    "\n",
    "class Student:\n",
    "    def __init__(self, name, age):\n",
    "        self.name = name\n",
    "        self.age = age\n",
    "\n",
    "    def display_info(self):\n",
    "        print(f\"Имя: {self.name}, Возраст: {self.age}\")\n",
    "\n",
    "# Создаем экземпляр класса Student\n",
    "student = Student(\"Olga\", 35)\n",
    "\n",
    "student.display_info()\n"
   ]
  }
 ],
 "metadata": {
  "kernelspec": {
   "display_name": "Python 3 (ipykernel)",
   "language": "python",
   "name": "python3"
  },
  "language_info": {
   "codemirror_mode": {
    "name": "ipython",
    "version": 3
   },
   "file_extension": ".py",
   "mimetype": "text/x-python",
   "name": "python",
   "nbconvert_exporter": "python",
   "pygments_lexer": "ipython3",
   "version": "3.12.5"
  }
 },
 "nbformat": 4,
 "nbformat_minor": 5
}
