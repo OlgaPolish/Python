{
 "cells": [
  {
   "cell_type": "code",
   "execution_count": 13,
   "id": "9ff8f35b-76f6-41f3-9627-36c8243e3d05",
   "metadata": {},
   "outputs": [
    {
     "name": "stdin",
     "output_type": "stream",
     "text": [
      "Введите адрес страницы:  example.com\n"
     ]
    },
    {
     "name": "stdout",
     "output_type": "stream",
     "text": [
      "https://www.iana.org/domains/example\n"
     ]
    }
   ],
   "source": [
    "import requests\n",
    "from bs4 import BeautifulSoup\n",
    "\n",
    "def log_error(message):    # Пишем ошибки ошибки в лог-файл\n",
    "    with open(\"e:\\\\log.txt\", \"a\") as log_file:  \n",
    "        log_file.write(message + \"\\n\")\n",
    "\n",
    "def get_links(url):\n",
    "    try:\n",
    "        html = requests.get(\"https://\" + url).text\n",
    "        soup = BeautifulSoup(html, \"html.parser\")\n",
    "        links = soup.find_all(\"a\")\n",
    "        for link in links:\n",
    "            href = link.get(\"href\")\n",
    "            if href:\n",
    "                yield href  # Возвращаем ссылки по одной\n",
    "\n",
    "\n",
    "    except requests.exceptions.RequestException as e:\n",
    "        error_message = f\"Ошибка при запросе: {e}\"\n",
    "        log_error(error_message)\n",
    "        return []  # Возвращаем пустой список в случае ошибки\n",
    "\n",
    "address = input(\"Введите адрес страницы: \")\n",
    "links = get_links(address)\n",
    "\n",
    "if links:  # Проверяем, есть ли ссылки\n",
    "    for link in links:\n",
    "        print(link)\n",
    "else:\n",
    "    print(\"Ссылки не найдены или произошла ошибка.\")\n"
   ]
  },
  {
   "cell_type": "code",
   "execution_count": 8,
   "id": "1ca968f2-b621-4787-bcf9-2752d50cee59",
   "metadata": {},
   "outputs": [
    {
     "name": "stdin",
     "output_type": "stream",
     "text": [
      "Введите адрес страницы:  example.com\n",
      "Введите уровень заголовка:  1\n"
     ]
    },
    {
     "name": "stdout",
     "output_type": "stream",
     "text": [
      "<h1>Example Domain</h1>\n"
     ]
    }
   ],
   "source": [
    "# Напишите программу, которая запрашивает у пользователя URL-адрес веб-страницы и\n",
    "# уровень заголовков, а затем использует библиотеку Beautiful Soup для парсинга HTML и\n",
    "# извлекает заголовки нужного уровня (теги h1, h2, h3 и т.д.) с их текстом.\n",
    "import requests\n",
    "from bs4 import BeautifulSoup\n",
    "\n",
    "def log_error(message):\n",
    "    with open(\"e:\\\\log.txt\", \"a\") as log_file:\n",
    "        log_file.write(message + \"\\n\")\n",
    "\n",
    "def get_headers(url, level):\n",
    "    try:\n",
    "        html = requests.get(\"https://\" + url).text\n",
    "        soup = BeautifulSoup(html, \"html.parser\")\n",
    "        headers = soup.find_all(\"h\" + level)\n",
    "        return headers  # Возвращаем заголовки вместо их печати\n",
    "    except requests.exceptions.RequestException as e:\n",
    "        error_message = f\"Ошибка при запросе: {e}\"\n",
    "        log_error(error_message)\n",
    "        return []  # Возвращаем пустой список в случае ошибки\n",
    "    except Exception as e:\n",
    "        error_message = f\"Произошла ошибка: {e}\"\n",
    "        log_error(error_message)\n",
    "        return [] \n",
    "\n",
    "address = input(\"Введите адрес страницы: \")\n",
    "level = input(\"Введите уровень заголовка: \")\n",
    "headers = get_headers(address, level)\n",
    "\n",
    "if headers: \n",
    "    for header in headers:\n",
    "        print(header)\n",
    "else:\n",
    "    print(\"Заголовки не найдены или произошла ошибка.\")\n"
   ]
  },
  {
   "cell_type": "code",
   "execution_count": null,
   "id": "ab7c88ba-dd65-48a2-98e8-c7927453ce20",
   "metadata": {},
   "outputs": [],
   "source": []
  }
 ],
 "metadata": {
  "kernelspec": {
   "display_name": "Python 3 (ipykernel)",
   "language": "python",
   "name": "python3"
  },
  "language_info": {
   "codemirror_mode": {
    "name": "ipython",
    "version": 3
   },
   "file_extension": ".py",
   "mimetype": "text/x-python",
   "name": "python",
   "nbconvert_exporter": "python",
   "pygments_lexer": "ipython3",
   "version": "3.12.5"
  }
 },
 "nbformat": 4,
 "nbformat_minor": 5
}
