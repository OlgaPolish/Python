{
 "cells": [
  {
   "cell_type": "code",
   "execution_count": 15,
   "id": "cc7ef5d4-adee-43a1-996b-b4e9ffffc30e",
   "metadata": {},
   "outputs": [
    {
     "name": "stdin",
     "output_type": "stream",
     "text": [
      "Введите пороговое значение среднего балла:  91\n"
     ]
    },
    {
     "name": "stdout",
     "output_type": "stream",
     "text": [
      "\n",
      "Студенты с средним баллом выше 91.0: ['Charlie']\n"
     ]
    }
   ],
   "source": [
    "students = [(\"Alice\", 20, 90), (\"Bob\", 19, 80), (\"Charlie\", 21, 95), (\"David\", 18, 85)]\n",
    "high = float(input(\"Введите пороговое значение среднего балла: \"))\n",
    "spis_stud = []\n",
    "\n",
    "spis_stud = [name for name, age, score in students if score > high]\n",
    "print(f\"\\nСтуденты с средним баллом выше {high}: {spis_stud}\")\n",
    "\n",
    "#    for student in students:\n",
    "#        name, age, score = student\n",
    "#        if score > high:\n",
    "#            spis_stud.append(name)  \n"
   ]
  },
  {
   "cell_type": "code",
   "execution_count": 10,
   "id": "c854c9b0-e949-4e26-b1db-33b39c1b118a",
   "metadata": {},
   "outputs": [
    {
     "name": "stdin",
     "output_type": "stream",
     "text": [
      "Введите предложение:  Программирование это интересно и полезно\n"
     ]
    },
    {
     "name": "stdout",
     "output_type": "stream",
     "text": [
      "Длины слов в предложении: (16, 3, 9, 1, 7)\n"
     ]
    }
   ],
   "source": [
    "def get_word_lengths(text):\n",
    "    words = text.split()\n",
    "    lengths = []\n",
    "    for word in words:\n",
    "        lengths.append(len(word))\n",
    "    return tuple(lengths)\n",
    "\n",
    "user_input = input(\"Введите предложение: \")\n",
    "word_lengths = get_word_lengths(user_input)\n",
    "print(f\"Длины слов в предложении: {word_lengths}\")"
   ]
  },
  {
   "cell_type": "code",
   "execution_count": null,
   "id": "29b4172b-996f-4ec5-9574-aee8aaba3280",
   "metadata": {},
   "outputs": [],
   "source": []
  }
 ],
 "metadata": {
  "kernelspec": {
   "display_name": "Python 3 (ipykernel)",
   "language": "python",
   "name": "python3"
  },
  "language_info": {
   "codemirror_mode": {
    "name": "ipython",
    "version": 3
   },
   "file_extension": ".py",
   "mimetype": "text/x-python",
   "name": "python",
   "nbconvert_exporter": "python",
   "pygments_lexer": "ipython3",
   "version": "3.12.5"
  }
 },
 "nbformat": 4,
 "nbformat_minor": 5
}
