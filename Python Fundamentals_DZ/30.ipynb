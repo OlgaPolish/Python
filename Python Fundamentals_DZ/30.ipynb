{
 "cells": [
  {
   "cell_type": "code",
   "execution_count": 6,
   "id": "263633bf-733b-45e0-a859-37e3b8b5db7e",
   "metadata": {},
   "outputs": [
    {
     "name": "stdout",
     "output_type": "stream",
     "text": [
      "Площадь прямоугольника: 15\n",
      "Периметр прямоугольника: 16\n",
      "Прямоугольник со сторонами  (ширина =5, высота =3)\n",
      "Создание прямоугольника: Rectangle(5, 3)\n"
     ]
    }
   ],
   "source": [
    "# Создайте класс Rectangle для представления прямоугольника. \n",
    "# Класс должен иметь атрибуты width (ширина) и height (высота) со значениями по умолчанию, \n",
    "# а также методы calculate_area() для вычисления площади прямоугольника и calculate_perimeter() \n",
    "# для вычисления периметра прямоугольника. \n",
    "# Затем создайте экземпляр класса Rectangle и выведите информацию о нем, его площадь и периметр.\n",
    "\n",
    "class Rectangle:\n",
    "    def __init__(self, width=1, height=1):\n",
    "        self.width = width\n",
    "        self.height = height\n",
    "\n",
    "    def calculate_area(self):\n",
    "        return self.width * self.height\n",
    "\n",
    "    def calculate_perimeter(self):\n",
    "        return 2 * (self.width + self.height)\n",
    "        \n",
    "# Переопределить методы __str__, __repr__.\n",
    "    def __str__(self):\n",
    "        return f\"Прямоугольник со сторонами  (ширина ={self.width}, высота ={self.height})\"\n",
    "\n",
    "    def __repr__(self):\n",
    "        return f\"Rectangle({self.width}, {self.height})\"\n",
    "\n",
    "# Создание экземпляра класса Rectangle\n",
    "rect = Rectangle(5, 3)\n",
    "\n",
    "area = rect.calculate_area()\n",
    "print(f\"Площадь прямоугольника: {area}\")  \n",
    "\n",
    "perimeter = rect.calculate_perimeter()\n",
    "print(f\"Периметр прямоугольника: {perimeter}\")  \n",
    "\n",
    "print(rect) \n",
    "print(f\"Создание прямоугольника: {rect!r}\")\n"
   ]
  },
  {
   "cell_type": "code",
   "execution_count": 7,
   "id": "0236f0c6-6d6d-477c-aad0-061986e7e3c0",
   "metadata": {},
   "outputs": [
    {
     "name": "stdout",
     "output_type": "stream",
     "text": [
      "Внесено: 500. Новый баланс: 1500.\n",
      "Снято: 300. Остаток на счете: 1200.\n",
      "Недостаточно средств на счете.\n",
      "Оставшийся баланс: 1200\n"
     ]
    }
   ],
   "source": [
    "# Создайте класс Ban1Account для представления банковского счета. \n",
    "# Класс должен иметь атрибуты account_number (номер счета) и balance (баланс), а также \n",
    "# методы deposit() для внесения денег на счет и withdraw() для снятия денег со счета. \n",
    "# Затем создайте экземпляр класса BankAccount, внесите на счет некоторую сумму и снимите часть денег. \n",
    "# Выведите оставшийся баланс. Не забудьте предусмотреть вариант, при котором при снятии баланс \n",
    "# может стать меньше нуля. В этом случае уходить в минус не будем, вместо чего будем возвращать \n",
    "# сообщение \"Недостаточно средств на счете\".\n",
    "\n",
    "class BankAccount:\n",
    "    def __init__(self, account_number, initial_balance=0):\n",
    "        self.account_number = account_number\n",
    "        self.balance = initial_balance\n",
    "\n",
    "    def deposit(self, amount):\n",
    "        if amount > 0:\n",
    "            self.balance += amount\n",
    "            return f\"Внесено: {amount}. Новый баланс: {self.balance}.\"\n",
    "        else:\n",
    "            return \"Сумма для внесения должна быть > 0.\"\n",
    "\n",
    "    def withdraw(self, amount):\n",
    "        if amount > 0:\n",
    "            if self.balance >= amount:\n",
    "                self.balance -= amount\n",
    "                return f\"Снято: {amount}. Остаток на счете: {self.balance}.\"\n",
    "            else:\n",
    "                return \"Недостаточно средств на счете.\"\n",
    "        else:\n",
    "            return \"Сумма для снятия должна  быть > 0.\"\n",
    "\n",
    "# Создание экземпляра класса BankAccount\n",
    "account = BankAccount(\"123456789\", 1000)\n",
    "\n",
    "print(account.deposit(500)) # Внесение средств на счет\n",
    "print(account.withdraw(300)) # Снятие средств со счета\n",
    "print(account.withdraw(1500)) # Попытка снятия суммы, превышающей баланс\n",
    "\n",
    "print(f\"Оставшийся баланс: {account.balance}\")\n"
   ]
  },
  {
   "cell_type": "code",
   "execution_count": 2,
   "id": "10d4558a-bf18-48a2-9c64-e06c7a136c3a",
   "metadata": {},
   "outputs": [
    {
     "name": "stdout",
     "output_type": "stream",
     "text": [
      "Point(2, 3)\n",
      "Point(2, 3)\n"
     ]
    }
   ],
   "source": [
    "class Point:\n",
    "    def __init__(self, x, y):\n",
    "        self.x = x\n",
    "        self.y = y\n",
    "\n",
    "    def __str__(self):\n",
    "        return f\"Point({self.x}, {self.y})\"\n",
    "\n",
    "    def __repr__(self):\n",
    "        return f\"Point({self.x}, {self.y})\"\n",
    "# Создание экземпляра класса Point\n",
    "point1 = Point(2, 3)\n",
    "\n",
    "# Вывод информации о точке\n",
    "print(point1)        # Выводит: Point(2, 3)\n",
    "print(repr(point1))  # Выводит: Point(2, 3)"
   ]
  },
  {
   "cell_type": "code",
   "execution_count": null,
   "id": "79d66fa3-5600-419f-a7f2-861eb2708d5b",
   "metadata": {},
   "outputs": [],
   "source": [
    "import math\n",
    "\n",
    "class Point:\n",
    "    def __init__(self, x, y):\n",
    "        self.x = x\n",
    "        self.y = y\n",
    "\n",
    "    def __str__(self):\n",
    "        return f\"Point({self.x}, {self.y})\"\n",
    "\n",
    "    def __repr__(self):\n",
    "        return f\"Point({self.x}, {self.y})\"\n",
    "    \n",
    "    def distance_to(self, other):\n",
    "        return math.sqrt((self.x - other.x) ** 2 + (self.y - other.y) ** 2)\n",
    "\n",
    "# Пример использования метода distance_to\n",
    "point2 = Point(5, 7)\n",
    "distance = point1.distance_to(point2)\n",
    "print(f\"Расстояние между {point1} и {point2} равно {distance:.2f}\")"
   ]
  }
 ],
 "metadata": {
  "kernelspec": {
   "display_name": "Python 3 (ipykernel)",
   "language": "python",
   "name": "python3"
  },
  "language_info": {
   "codemirror_mode": {
    "name": "ipython",
    "version": 3
   },
   "file_extension": ".py",
   "mimetype": "text/x-python",
   "name": "python",
   "nbconvert_exporter": "python",
   "pygments_lexer": "ipython3",
   "version": "3.12.5"
  }
 },
 "nbformat": 4,
 "nbformat_minor": 5
}
