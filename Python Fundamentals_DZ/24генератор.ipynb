{
 "cells": [
  {
   "cell_type": "code",
   "execution_count": 31,
   "id": "17f7c0dc-8caf-4181-bfac-e9810c8495ae",
   "metadata": {},
   "outputs": [
    {
     "name": "stdout",
     "output_type": "stream",
     "text": [
      "Введите числа для суммирования (0 для окончания):\n"
     ]
    },
    {
     "name": "stdin",
     "output_type": "stream",
     "text": [
      "Введите число:  0\n"
     ]
    }
   ],
   "source": [
    "# 1. Напишите генератор, который будет принимать на вход числа и возвращать их сумму. \n",
    "# Генератор должен использовать инструкцию yield для возврата текущей суммы и должен \n",
    "# продолжать принимать новые числа для добавления к сумме. Если генератор получает на вход число 0, \n",
    "# он должен прекращать работу и вернуть окончательную сумму. #Напишите программу, которая будет \n",
    "#использовать этот генератор для пошагового расчета суммы чисел, вводимых пользователем.\n",
    "\n",
    "def sum_generator():\n",
    "    current_sum = 0\n",
    "    while True:\n",
    "        number = yield current_sum  # Возвращаем текущую сумму и ожидаем новое число\n",
    "        current_sum += number       # Добавляем число к текущей сумме\n",
    "\n",
    "print(\"Введите числа для суммирования (0 для окончания):\")\n",
    "\n",
    "gen = sum_generator()  \n",
    "next(gen)                           # Запускаем генератор до первого yield\n",
    "\n",
    "while True:\n",
    "    try:\n",
    "        user_input = int(input(\"Введите число: \"))\n",
    "        if user_input == 0:        # Если введено 0, завершаем работу генератора и выходим из цикла\n",
    "            gen.close()\n",
    "            break\n",
    "        current_sum = gen.send(user_input)  # Отправляем число генератору и получаем текущую сумму\n",
    "        print(f\"Текущая сумма: {current_sum}\")\n",
    "\n",
    "    except ValueError:\n",
    "        print(\"Ошибка: пожалуйста, введите числовое значение.\")\n",
    "    except Exception as e:\n",
    "        print(f\"Произошла ошибка: {e}\")"
   ]
  },
  {
   "cell_type": "code",
   "execution_count": 30,
   "id": "b50df397-1d32-4cb2-a4a1-a47add129032",
   "metadata": {},
   "outputs": [
    {
     "name": "stdin",
     "output_type": "stream",
     "text": [
      "Введите начальное значение:  0\n",
      "Введите шаг прогрессии:  0\n",
      "Введите количество элементов:  0\n"
     ]
    },
    {
     "name": "stdout",
     "output_type": "stream",
     "text": [
      "Арифметическая прогрессия:\n",
      "\n"
     ]
    }
   ],
   "source": [
    "# 2. Напишите генератор, который будет генерировать арифметическую прогрессию\n",
    "\n",
    "def gen_prog(start, step):\n",
    "    current = start           # Инициализируем текущее значение прогрессии с начального значения\n",
    "    while True: \n",
    "        yield current         # Возвращаем текущее значение\n",
    "        current += step       # Увеличиваем текущее значение на шаг прогрессии\n",
    "      \n",
    "try:\n",
    "    start = int(input(\"Введите начальное значение: \"))\n",
    "    step = int(input(\"Введите шаг прогрессии: \"))\n",
    "    count = int(input(\"Введите количество элементов: \"))\n",
    "\n",
    "    progression = gen_prog(start, step)\n",
    "\n",
    "    print(\"Арифметическая прогрессия:\")\n",
    "    print(*(next(progression) for _ in range(count)))\n",
    "    \n",
    "    #for _ in range(count):\n",
    "    #    print(next(progression))\n",
    "\n",
    "except ValueError:\n",
    "    print(\"Ошибка: пожалуйста, введите числовое значение.\")\n",
    "except Exception as e:\n",
    "    print(f\"Произошла ошибка: {e}\")"
   ]
  },
  {
   "cell_type": "code",
   "execution_count": 10,
   "id": "da7bd2c0-8e1d-4e05-94fa-a8c41d850627",
   "metadata": {},
   "outputs": [
    {
     "name": "stdout",
     "output_type": "stream",
     "text": [
      "4\n",
      "16\n",
      "36\n",
      "64\n"
     ]
    }
   ],
   "source": [
    "def generator_square(start, stop, step):\n",
    "    yield from(i ** 2 for i in range(start, stop, step)) # Неправильное\n",
    "y = generator_square(2, 10, 2)\n",
    "for i in y:\n",
    "    print(i)"
   ]
  },
  {
   "cell_type": "code",
   "execution_count": 9,
   "id": "bcb4b37f-dc86-4414-8174-5360de73de61",
   "metadata": {},
   "outputs": [
    {
     "name": "stdout",
     "output_type": "stream",
     "text": [
      "4\n",
      "16\n",
      "36\n",
      "64\n"
     ]
    }
   ],
   "source": [
    "def generator_2(start, stop, step):\n",
    "    for i in range(start, stop, step):\n",
    "        yield i ** 2\n",
    "\n",
    "def generator_3(start, stop, step):\n",
    "    for i in range(start, stop, step):\n",
    "        yield i ** 3\n",
    "\n",
    "def generator_final(start, stop, step):\n",
    "    yield from generator_2(start, stop, step)\n",
    "    yield from generator_3(start, stop, step)\n",
    "    \n",
    "y = generator_square(2, 10, 2)\n",
    "for i in y:\n",
    "    print(i)"
   ]
  },
  {
   "cell_type": "code",
   "execution_count": 14,
   "id": "4769db30-b2a6-4d27-bed9-786419ff6d38",
   "metadata": {},
   "outputs": [],
   "source": [
    "# Правильный способ создания списка\n",
    "my_list = list()  # Создает пустой список\n",
    "my_list_with_elements = list([1, 2, 3, 4])  # Создает список с элементами\n",
    "\n",
    "# Использование аннотации типов\n",
    "from typing import List\n",
    "\n",
    "def my_function() -> List[int]:\n",
    "    return [1, 2, 3, 4]  # Возвращает список целых чисел"
   ]
  },
  {
   "cell_type": "code",
   "execution_count": null,
   "id": "629aaef8-6e22-43e1-933b-fb37bb9b0ac1",
   "metadata": {},
   "outputs": [],
   "source": []
  }
 ],
 "metadata": {
  "kernelspec": {
   "display_name": "Python 3 (ipykernel)",
   "language": "python",
   "name": "python3"
  },
  "language_info": {
   "codemirror_mode": {
    "name": "ipython",
    "version": 3
   },
   "file_extension": ".py",
   "mimetype": "text/x-python",
   "name": "python",
   "nbconvert_exporter": "python",
   "pygments_lexer": "ipython3",
   "version": "3.12.5"
  }
 },
 "nbformat": 4,
 "nbformat_minor": 5
}
