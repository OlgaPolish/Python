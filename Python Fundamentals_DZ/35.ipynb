{
 "cells": [
  {
   "cell_type": "code",
   "execution_count": 66,
   "id": "9663ccc8-c0a2-46ca-9fe4-c2bb12d61abd",
   "metadata": {
    "scrolled": true
   },
   "outputs": [
    {
     "name": "stdout",
     "output_type": "stream",
     "text": [
      "Status Code: 200\n",
      "Response Text: <!doctype html>\n",
      "<html>\n",
      "<head>\n",
      "    <title>Example Domain</title>\n",
      "\n",
      "    <meta charset=\"utf-8\" />\n",
      "    <meta http-equiv=\"Content-type\" content=\"text/html; charset=utf-8\" />\n",
      "    <meta name=\"viewport\" content=\"width=device-width, initial-scale=1\" />\n",
      "    <style type=\"text/css\">\n",
      "    body {\n",
      "        background-color: #f0f0f2;\n",
      "        margin: 0;\n",
      "        padding: 0;\n",
      "        font-family: -apple-system, system-ui, BlinkMacSystemFont, \"Segoe UI\", \"Open Sans\", \"Helvetica Neue\", Helvetica, Arial, sans-serif;\n",
      "        \n",
      "    }\n",
      "    div {\n",
      "        width: 600px;\n",
      "        margin: 5em auto;\n",
      "        padding: 2em;\n",
      "        background-color: #fdfdff;\n",
      "        border-radius: 0.5em;\n",
      "        box-shadow: 2px 3px 7px 2px rgba(0,0,0,0.02);\n",
      "    }\n",
      "    a:link, a:visited {\n",
      "        color: #38488f;\n",
      "        text-decoration: none;\n",
      "    }\n",
      "    @media (max-width: 700px) {\n",
      "        div {\n",
      "            margin: 0 auto;\n",
      "            width: auto;\n",
      "        }\n",
      "    }\n",
      "    </style>    \n",
      "</head>\n",
      "\n",
      "<body>\n",
      "<div>\n",
      "    <h1>Example Domain</h1>\n",
      "    <p>This domain is for use in illustrative examples in documents. You may use this\n",
      "    domain in literature without prior coordination or asking for permission.</p>\n",
      "    <p><a href=\"https://www.iana.org/domains/example\">More information...</a></p>\n",
      "</div>\n",
      "</body>\n",
      "</html>\n",
      "\n",
      "Response Headers: {'Content-Encoding': 'gzip', 'Accept-Ranges': 'bytes', 'Age': '320091', 'Cache-Control': 'max-age=604800', 'Content-Type': 'text/html; charset=UTF-8', 'Date': 'Mon, 16 Dec 2024 11:38:00 GMT', 'Etag': '\"3147526947\"', 'Expires': 'Mon, 23 Dec 2024 11:38:00 GMT', 'Last-Modified': 'Thu, 17 Oct 2019 07:18:26 GMT', 'Server': 'ECAcc (dcd/7D45)', 'Vary': 'Accept-Encoding', 'X-Cache': 'HIT', 'Content-Length': '648'}\n"
     ]
    }
   ],
   "source": [
    "# Напишите функцию get_response(url), которая отправляет GET-запрос по заданному URL-адресу \n",
    "# и возвращает объект ответа. Затем выведите следующую информацию об ответе:\n",
    "# Код состояния (status code)\n",
    "# Текст ответа (response text)\n",
    "# Заголовки ответа (response headers)\n",
    "\n",
    "import requests\n",
    "\n",
    "def get_response(url):\n",
    "    try:\n",
    "        response = requests.get(url)\n",
    "        return response\n",
    "    except requests.exceptions.RequestException as e:\n",
    "        # Выбрасываем исключение с сообщением об ошибке\n",
    "        raise RuntimeError(f\"Произошла ошибка при выполнении запроса: {e}\")\n",
    "\n",
    "url = \"https://example.com\"\n",
    "\n",
    "try:\n",
    "    response = get_response(url) # Пытаемся получить ответ от сервера\n",
    "    if response:                 # Если ответ успешный, выводим информацию\n",
    "        print(\"Status Code:\", response.status_code)\n",
    "        print(\"Response Text:\", response.text)\n",
    "        print(\"Response Headers:\", response.headers)\n",
    "except RuntimeError as e:\n",
    "    print(e)\n",
    "    print(\"Пожалуйста, проверьте правильность URL-адресов или подключение к интернету.\")"
   ]
  },
  {
   "cell_type": "code",
   "execution_count": 62,
   "id": "45a58f2a-72fe-4377-8ba6-e33bce2981db",
   "metadata": {},
   "outputs": [
    {
     "name": "stdout",
     "output_type": "stream",
     "text": [
      "Часто используемые слова на странице https://example.com:\n",
      "width: 5\n",
      "html: 4\n",
      "div: 4\n",
      "a: 4\n",
      "p: 4\n",
      "Часто используемые слова на странице https://www.wikipedia.org:\n",
      "a: 781\n",
      "li: 693\n",
      "lang: 486\n",
      "org: 411\n",
      "wikipedia: 383\n"
     ]
    }
   ],
   "source": [
    "# Напишите функцию find_common_words(url_list), которая принимает список URL-адресов и\n",
    "# возвращает список наиболее часто встречающихся слов на веб-страницах. Для каждого URL\n",
    "# адреса функция должна получить содержимое страницы с помощью запроса GET и использовать\n",
    "# регулярные выражения для извлечения слов. Затем функция должна подсчитать количество\n",
    "# вхождений каждого слова и вернуть наиболее часто встречающиеся слова в порядке убывания частоты.\n",
    "\n",
    "import requests\n",
    "import re\n",
    "from collections import Counter\n",
    "\n",
    "def find_common_words(url_list):\n",
    "    for url1 in url_list:\n",
    "        combined_text = \"\"\n",
    "        try:\n",
    "            response = requests.get(url1)\n",
    "            response.raise_for_status()  # Проверяем наличие HTTP-ошибок\n",
    "            combined_text = response.text\n",
    "        except requests.exceptions.RequestException as e:\n",
    "            raise RuntimeError(f\"Ошибка при запросе к {url}: {e}\")\n",
    "            continue  # Переходим к следующему URL в списке\n",
    "\n",
    "    # Ищем все слова в собранном тексте\n",
    "        words = re.findall(r\"\\b[a-zA-Zа-яА-ЯёЁ]+\\b\", combined_text)      \n",
    "        for word, count in Counter(words).most_common(5):  # Считаем 5 самых частых слов\n",
    "             yield url1, word, count\n",
    "\n",
    "url_list = [\"https://example.com\",  \"https://www.wikipedia.org\"]\n",
    "current_url = None\n",
    "for url, word, count in find_common_words(url_list):\n",
    "    if url != current_url:\n",
    "        # Выводим имя веб-страницы только один раз\n",
    "        print(f\"Часто используемые слова на странице {url}:\")\n",
    "        current_url = url\n",
    "    print(f\"{word}: {count}\")"
   ]
  },
  {
   "cell_type": "code",
   "execution_count": null,
   "id": "efb582bf-fd70-4ebe-a52b-cc946ef76279",
   "metadata": {},
   "outputs": [],
   "source": []
  }
 ],
 "metadata": {
  "kernelspec": {
   "display_name": "Python 3 (ipykernel)",
   "language": "python",
   "name": "python3"
  },
  "language_info": {
   "codemirror_mode": {
    "name": "ipython",
    "version": 3
   },
   "file_extension": ".py",
   "mimetype": "text/x-python",
   "name": "python",
   "nbconvert_exporter": "python",
   "pygments_lexer": "ipython3",
   "version": "3.12.5"
  }
 },
 "nbformat": 4,
 "nbformat_minor": 5
}
