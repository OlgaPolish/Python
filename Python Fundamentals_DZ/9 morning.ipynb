{
 "cells": [
  {
   "cell_type": "code",
   "execution_count": 1,
   "id": "f138b044-ee59-4c9a-af89-397c3e76820c",
   "metadata": {},
   "outputs": [
    {
     "name": "stdin",
     "output_type": "stream",
     "text": [
      "Введите строку:  The quick brown fox jumps over the lazy dog\n"
     ]
    },
    {
     "name": "stdout",
     "output_type": "stream",
     "text": [
      "Строка является панграммой.\n"
     ]
    }
   ],
   "source": [
    "s = input(\"Введите строку: \")\n",
    "alle = set('abcdefghijklmnopqrstuvwxyz')\n",
    "s = s.lower()                       # Приводим строку к нижнему регистру\n",
    "print(\"Строка является панграммой.\") if set(s) >= alle else  print(\"Строка не является панграммой.\")"
   ]
  },
  {
   "cell_type": "code",
   "execution_count": 2,
   "id": "fad08447-abc5-4f20-a40a-f727db44f235",
   "metadata": {},
   "outputs": [
    {
     "name": "stdin",
     "output_type": "stream",
     "text": [
      "Введите строку:  Olga, hello\n"
     ]
    },
    {
     "name": "stdout",
     "output_type": "stream",
     "text": [
      "{'h', 'l', 'g'}\n",
      "Количество согласных букв: 3\n",
      "Количество гласных букв: 4\n"
     ]
    }
   ],
   "source": [
    "# Вариант 1\n",
    "input_string = input(\"Введите строку: \")\n",
    "print(set(input_string) & set(\"bcdfghjklmnpqrstvwxz\"))\n",
    "print(f\"Количество согласных букв: {len(set(input_string) & set(\"bcdfghjklmnpqrstvwxz\"))}\")\n",
    "print(f\"Количество гласных букв: {len(set(input_string) & set(\"aeiouAEIOU\"))}\")   # &: Оператор пересечения множеств."
   ]
  },
  {
   "cell_type": "code",
   "execution_count": 26,
   "id": "e48ec0f2-16dc-4535-8972-521bdb2c8d3f",
   "metadata": {},
   "outputs": [
    {
     "name": "stdin",
     "output_type": "stream",
     "text": [
      "Введите строку:  oiyoiu\n"
     ]
    },
    {
     "name": "stdout",
     "output_type": "stream",
     "text": [
      "Количество согласных букв: 1\n",
      "Количество гласных букв: 5\n"
     ]
    }
   ],
   "source": [
    "# Вариант 2 \n",
    "s = input(\"Введите строку: \")\n",
    "\n",
    "vowels = \"aeiouAEIOU\"\n",
    "v_count = 0\n",
    "c_count = 0\n",
    "i = 0\n",
    "    \n",
    "while i < len(s): \n",
    "    char = s[i]\n",
    "    if char.isalpha():  # Проверяем, является ли символ буквой\n",
    "        if char in vowels:\n",
    "            v_count += 1\n",
    "        else:\n",
    "            c_count += 1\n",
    "    i += 1  \n",
    "print(f\"Количество согласных букв: {c_count}\")\n",
    "print(f\"Количество гласных букв: {v_count}\")\n"
   ]
  },
  {
   "cell_type": "code",
   "execution_count": null,
   "id": "f2c47777-9751-475e-a1a9-e87694b7b1c2",
   "metadata": {},
   "outputs": [],
   "source": []
  }
 ],
 "metadata": {
  "kernelspec": {
   "display_name": "Python 3 (ipykernel)",
   "language": "python",
   "name": "python3"
  },
  "language_info": {
   "codemirror_mode": {
    "name": "ipython",
    "version": 3
   },
   "file_extension": ".py",
   "mimetype": "text/x-python",
   "name": "python",
   "nbconvert_exporter": "python",
   "pygments_lexer": "ipython3",
   "version": "3.12.5"
  }
 },
 "nbformat": 4,
 "nbformat_minor": 5
}
