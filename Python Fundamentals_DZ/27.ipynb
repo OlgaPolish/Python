{
 "cells": [
  {
   "cell_type": "code",
   "execution_count": 2,
   "id": "aa2aa796-df6d-49c2-be61-54905454e3e8",
   "metadata": {},
   "outputs": [
    {
     "name": "stdout",
     "output_type": "stream",
     "text": [
      "Результат: 72\n"
     ]
    }
   ],
   "source": [
    "# Напишите функцию, которая принимает на вход список чисел и возвращает сумму квадратов только четных чисел из списка, \n",
    "# используя функциональные подходы (например, map, filter и reduce).\n",
    "\n",
    "from functools import reduce\n",
    "\n",
    "def ex_f(numbers):\n",
    "    # Фильтруем только четные числа\n",
    "    even_numbers = filter(lambda x: x % 2 == 0, numbers)\n",
    "    # Возводим каждое четное число в квадрат\n",
    "    #squares = map(lambda x: x ** 2, even_numbers)\n",
    "    # Суммируем все квадраты\n",
    "    #result = reduce(lambda x, y: x + y, squares)\n",
    "#### 2 variant ####  \n",
    "    # return  reduce(lambda sq, x: sq + x ** 2, even_numbers, 0)\n",
    "#### 3 variant ####      \n",
    "    return reduce(\n",
    "    lambda sq, x: sq + x ** 2,\n",
    "    filter(lambda x: x % 2 == 0, numbers),\n",
    "    0\n",
    ")\n",
    "\n",
    "num = [4, 6, 3, 4, 2, 3, 9, 0, 7]\n",
    "result = ex_f(num)\n",
    "print(\"Результат:\", result)"
   ]
  },
  {
   "cell_type": "code",
   "execution_count": 13,
   "id": "dad312f0-2585-458d-ad86-62529540b361",
   "metadata": {},
   "outputs": [
    {
     "name": "stdout",
     "output_type": "stream",
     "text": [
      "Результат: 9\n"
     ]
    }
   ],
   "source": [
    "# Напишите функцию, которая принимает на вход список функций и значение, а затем применяет композицию этих функций \n",
    "# к значению, возвращая конечный результат.\n",
    "\n",
    "from functools import reduce\n",
    "\n",
    "def ex_func(f, x):    \n",
    "    return reduce(lambda res, ff: ff(res), f, x)\n",
    "\n",
    "add_one = lambda x: x + 1\n",
    "double = lambda x: x * 2\n",
    "subtract_three = lambda x: x - 3\n",
    "\n",
    "func = [add_one, double, subtract_three]\n",
    "result = ex_func(functions, 5)\n",
    "print(\"Результат:\", result)"
   ]
  },
  {
   "cell_type": "code",
   "execution_count": 3,
   "id": "a1b90933-b72c-4b08-94e7-68607ddec4e0",
   "metadata": {},
   "outputs": [],
   "source": [
    "import itertools\n",
    "\n",
    "def is_valid(password):\n",
    "    # Проверка на наличие хотя бы одной заглавной буквы, одной строчной и одной цифры\n",
    "    has_upper = any(c.isupper() for c in password)\n",
    "    has_lower = any(c.islower() for c in password)\n",
    "    has_digit = any(c.isdigit() for c in password)\n",
    "    \n",
    "    if not (has_upper and has_lower and has_digit):\n",
    "        return False\n",
    "   return True\n",
    "\n",
    "# characters = list(\"ABCDEFGHIJKLMNOPQRSTUVWXYZabcdefghijklmnopqrstuvwxyz0123456789\")\n",
    "characters = list(string.ascii_uppercase + string.ascii_lowercase + string.digits)\n",
    "\n",
    "# Генерация всех перестановок длиной 4\n",
    "permutations = itertools.permutations(characters, 4)\n",
    "\n",
    "# Фильтрация валидных паролей\n",
    "valid_passwords = [\"\".join(p) for p in permutations if is_valid(p)]\n",
    "\n",
    "# Запись паролей в файл\n",
    "with open(\"valid_passwords.txt\", \"w\") as file:\n",
    "    file.write(\"\\n\".join(valid_passwords))"
   ]
  }
 ],
 "metadata": {
  "kernelspec": {
   "display_name": "Python 3 (ipykernel)",
   "language": "python",
   "name": "python3"
  },
  "language_info": {
   "codemirror_mode": {
    "name": "ipython",
    "version": 3
   },
   "file_extension": ".py",
   "mimetype": "text/x-python",
   "name": "python",
   "nbconvert_exporter": "python",
   "pygments_lexer": "ipython3",
   "version": "3.12.5"
  }
 },
 "nbformat": 4,
 "nbformat_minor": 5
}
