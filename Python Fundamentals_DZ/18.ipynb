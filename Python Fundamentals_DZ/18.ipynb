{
 "cells": [
  {
   "cell_type": "code",
   "execution_count": 2,
   "id": "adb64475-8a9d-4c52-a86e-91001d204204",
   "metadata": {},
   "outputs": [
    {
     "name": "stdout",
     "output_type": "stream",
     "text": [
      "120\n",
      "1\n"
     ]
    }
   ],
   "source": [
    "# Написать программу, вычисляющую факториал числа.\n",
    "# Решить задачу с помощью рекурсии.\n",
    "def factorial(n):\n",
    "    if n == 0 or n == 1:\n",
    "        return 1\n",
    "    else:\n",
    "        return n * factorial(n - 1) # Рекурсия: n! = n * (n-1)!\n",
    "\n",
    "print(factorial(5))  \n",
    "print(factorial(0))  "
   ]
  },
  {
   "cell_type": "code",
   "execution_count": 5,
   "id": "28894c2c-430d-4695-a753-2a4445a552c0",
   "metadata": {},
   "outputs": [
    {
     "name": "stdin",
     "output_type": "stream",
     "text": [
      "Введите число:  12345\n"
     ]
    },
    {
     "name": "stdout",
     "output_type": "stream",
     "text": [
      "Сумма цифр числа 12345 равна 15\n"
     ]
    }
   ],
   "source": [
    "# Напишите программу, которая использует рекурсию для вычисления суммы цифр числа. \n",
    "# Создайте функцию sum_digits, которая принимает один аргумент - число, для которого нужно вычислить сумму цифр. \n",
    "# Используйте условие выхода из рекурсии, когда число состоит из одной цифры. Выведите результат на экран.\n",
    "\n",
    "def sum_digits(number):\n",
    "    if number < 10:\n",
    "        return number\n",
    "    return (number % 10) + sum_digits(number // 10) \n",
    "\n",
    "number = int(input(\"Введите число: \"))\n",
    "result = sum_digits(number)\n",
    "print(f\"Сумма цифр числа {number} равна {result}\")"
   ]
  },
  {
   "cell_type": "code",
   "execution_count": 5,
   "id": "dba14320-249f-4a34-a9c1-8358c0372e5c",
   "metadata": {},
   "outputs": [
    {
     "name": "stdout",
     "output_type": "stream",
     "text": [
      "5 4\n",
      "4 3\n",
      "3 2\n",
      "2 1\n",
      "15\n"
     ]
    }
   ],
   "source": [
    "def sum_digits_rec(n, seq):\n",
    "    if n == 0:\n",
    "        return seq[0]\n",
    "    else:\n",
    "        print(seq[n] , n)\n",
    "        return seq[n] + sum_digits_rec(n - 1, seq)\n",
    "\n",
    "x = '12345'\n",
    "x = list(map(int, x))\n",
    "\n",
    "print(sum_digits_rec(len(x) - 1, x))"
   ]
  },
  {
   "cell_type": "code",
   "execution_count": null,
   "id": "ebf526d5-b65c-4d34-bb11-c47610c23843",
   "metadata": {},
   "outputs": [],
   "source": []
  }
 ],
 "metadata": {
  "kernelspec": {
   "display_name": "Python 3 (ipykernel)",
   "language": "python",
   "name": "python3"
  },
  "language_info": {
   "codemirror_mode": {
    "name": "ipython",
    "version": 3
   },
   "file_extension": ".py",
   "mimetype": "text/x-python",
   "name": "python",
   "nbconvert_exporter": "python",
   "pygments_lexer": "ipython3",
   "version": "3.12.5"
  }
 },
 "nbformat": 4,
 "nbformat_minor": 5
}
