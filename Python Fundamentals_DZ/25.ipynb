{
 "cells": [
  {
   "cell_type": "code",
   "execution_count": 19,
   "id": "809ea34c-5e21-4d24-aab1-0dc7f1fcc8ff",
   "metadata": {},
   "outputs": [
    {
     "name": "stdout",
     "output_type": "stream",
     "text": [
      "dragonfruit\n",
      "Список пуст\n"
     ]
    }
   ],
   "source": [
    "# Напишите функцию find_longest_word, которая будет принимать список слов и \n",
    "# возвращать самое длинное слово из списка. \n",
    "# Аннотируйте типы аргументов и возвращаемого значения функции.\n",
    "\n",
    "from typing import List, Optional\n",
    "\n",
    "def find_longest_word(words: List[str]) -> Optional[str]:\n",
    "    return max(words, key=len) if words else 'Список пуст'\n",
    "\n",
    "words = [\"apple\", \"banana\", \"cherry\", \"dragonfruit\"]\n",
    "print(find_longest_word(words))\n",
    "print(find_longest_word([]))"
   ]
  },
  {
   "cell_type": "code",
   "execution_count": 27,
   "id": "aee06f0e-f85f-40d9-a3f4-b269d9e80cc3",
   "metadata": {},
   "outputs": [
    {
     "name": "stdout",
     "output_type": "stream",
     "text": [
      "Apple 50.0 10\n",
      "Banana 30.0 5\n",
      "Oranges 40.0 8\n",
      "Pears 45.0 6\n",
      "Grapes 60.0 4\n",
      "Общая стоимость продуктов: 1480.00\n"
     ]
    }
   ],
   "source": [
    "# Напишите программу, которая будет считывать данные о продуктах из файла и использовать \n",
    "# аннотации типов для аргументов и возвращаемых значений функций. Создайте текстовый файл \n",
    "# \"products.txt\", в котором каждая строка будет содержать информацию о продукте в формате \n",
    "# \"название, цена, количество\". В программе определите функцию calculate_total_price, \n",
    "# которая будет принимать список продуктов и возвращать общую стоимость. Продумайте, \n",
    "# какая аннотация должна быть у аргумента! Считайте данные из файла, разделите строки на \n",
    "# составляющие и создайте список продуктов. Затем вызовите функцию calculate_total_price с \n",
    "# этим списком и выведите результат.\n",
    "\n",
    "from typing import List, Tuple\n",
    "\n",
    "# Определяем тип Product как кортеж, содержащий строку, число с плавающей запятой и целое число\n",
    "Product = Tuple[str, float, int]\n",
    "\n",
    "def calculate_total_price(products: List[Product]) -> float:\n",
    "    total_price = 0.0\n",
    "    for product in products:\n",
    "        name, price, quantity = product\n",
    "        total_price += price * quantity\n",
    "    return total_price\n",
    "\n",
    "products = []\n",
    "with open('products.txt', 'r') as file:\n",
    "    for line in file:\n",
    "        name, price, quantity = line.strip().split(', ')\n",
    "        print(name, price, quantity)\n",
    "        products.append((name, float(price), int(quantity)))\n",
    "\n",
    "total_price = calculate_total_price(products)\n",
    "print(f'Общая стоимость продуктов: {total_price:.2f}')"
   ]
  },
  {
   "cell_type": "code",
   "execution_count": 10,
   "id": "7c34857a-8fc8-45d2-a15d-9d585048085d",
   "metadata": {},
   "outputs": [
    {
     "name": "stdout",
     "output_type": "stream",
     "text": [
      "Файл 'products.txt' успешно создан.\n"
     ]
    }
   ],
   "source": [
    "# PS. Cоздание 'products.txt' для предыдущей задачи.\n",
    "\n",
    "def create_products_file(filename: str):\n",
    "    products = [\n",
    "        (\"Apple\", 50.0, 10),\n",
    "        (\"Banana\", 30.0, 5),\n",
    "        (\"Oranges\", 40.0, 8),\n",
    "        (\"Pears\", 45.0, 6),\n",
    "        (\"Grapes\", 60.0, 4)\n",
    "    ]\n",
    "    try:\n",
    "        with open(filename,'w', encoding='utf-8') as file:\n",
    "            for product in products:\n",
    "                name, price, quantity = product\n",
    "                # Проверка на корректность данных\n",
    "                if not isinstance(name, str) or not isinstance(price, (int, float)) or not isinstance(quantity, int):\n",
    "                    raise ValueError(\"Некорректные данные о продукте.\")\n",
    "                \n",
    "                file.write(f\"{name}, {price}, {quantity}\\n\")\n",
    "        print(f\"Файл '{filename}' успешно создан.\")\n",
    "        \n",
    "    except IOError as e:\n",
    "        print(f\"Ошибка при записи в файл: {e}\")\n",
    "    except ValueError as e:\n",
    "        print(f\"Ошибка: {e}\")\n",
    "\n",
    "create_products_file('products.txt')"
   ]
  },
  {
   "cell_type": "code",
   "execution_count": 28,
   "id": "09f7c3d1-c761-4b6d-b023-a5c650256bf1",
   "metadata": {},
   "outputs": [
    {
     "name": "stdout",
     "output_type": "stream",
     "text": [
      "1480.0\n"
     ]
    }
   ],
   "source": [
    "def read_products_from_file(file_name: str):\n",
    "    with open(file_name) as file:\n",
    "        for line in file:\n",
    "            try:\n",
    "                product, price, quantity = line.split(', ')            \n",
    "                price = float(price.strip())\n",
    "                quantity = float(quantity.strip())\n",
    "            except ValueError as e:\n",
    "                raise ValueError(f'{line} is not CORRECT')\n",
    "            yield price, quantity\n",
    "\n",
    "def calculate_total_price(file_name):\n",
    "    return sum(price * quantity for price, quantity in read_products_from_file(file_name))\n",
    "\n",
    "try:\n",
    "    res = calculate_total_price('products.txt')\n",
    "    print(res)\n",
    "except Exception as e:\n",
    "    print(e)"
   ]
  },
  {
   "cell_type": "code",
   "execution_count": null,
   "id": "85704641-4371-45ec-8212-b2c243aa7ec5",
   "metadata": {},
   "outputs": [],
   "source": [
    "from typing import Itarator, Tuple\n",
    "\n",
    "def read_products_from_file(file_name: str) -> Iterator[Tuple[float, float]]:\n",
    "    with open(file_name) as file:\n",
    "        for line in file:\n",
    "            try:\n",
    "                product, price, quantity = line.split(',')\n",
    "                price = float(price.strip())\n",
    "                quantity = float(quantity.strip())\n",
    "            except ValueError as e:\n",
    "                raise ValueError(f'{line} is not CORRECT')\n",
    "            yield price, quantity\n",
    "\n",
    "def calculate_total_price(file_name: str) -> float:\n",
    "    return sum(price * quantity for price, quantity in read_products_from_file(file_name))\n",
    "\n",
    "try:\n",
    "    res = calculate_total_price('products.txt')\n",
    "    print(res)\n",
    "except Exception as e:\n",
    "    print(e)"
   ]
  }
 ],
 "metadata": {
  "kernelspec": {
   "display_name": "Python 3 (ipykernel)",
   "language": "python",
   "name": "python3"
  },
  "language_info": {
   "codemirror_mode": {
    "name": "ipython",
    "version": 3
   },
   "file_extension": ".py",
   "mimetype": "text/x-python",
   "name": "python",
   "nbconvert_exporter": "python",
   "pygments_lexer": "ipython3",
   "version": "3.12.5"
  }
 },
 "nbformat": 4,
 "nbformat_minor": 5
}
