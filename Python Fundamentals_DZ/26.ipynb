{
 "cells": [
  {
   "cell_type": "code",
   "execution_count": null,
   "id": "b2778af4-7812-4be1-95b2-cfd20d8ba3de",
   "metadata": {},
   "outputs": [],
   "source": [
    "import sys\n",
    "import os\n",
    "import subprocess\n",
    "\n",
    "# Запускаем из командной строки: python E:\\26.ipynb E:\\myFile.py\n",
    "file_path = sys.argv[1]\n",
    "file_name = os.path.basename(file_path)\n",
    "\n",
    "# Проверяем, существует ли файл\n",
    "if not os.path.isfile(file_path):\n",
    "    print(f\"Ошибка: Файл '{file_name}' не существует.\")\n",
    "    print(f\"Путь к файлу: {file_path}\")\n",
    "    sys.exit(1)\n",
    "\n",
    "try:\n",
    "    # Запускаем файл E:\\myFile.py как отдельный процесс\n",
    "    subprocess.run([sys.executable, file_path], check=True)\n",
    "    print(f\"Файл '{file_name}' успешно запущен.\")\n",
    "except subprocess.CalledProcessError as e:\n",
    "    print(f\"Ошибка при выполнении файла '{file_name}': {e}\")\n",
    "except Exception as e:\n",
    "    print(f\"Произошла непредвиденная ошибка: {e}\")"
   ]
  },
  {
   "cell_type": "code",
   "execution_count": null,
   "id": "f716a4f9-a244-4e34-97d8-9bc36d79521e",
   "metadata": {},
   "outputs": [],
   "source": [
    "\n",
    "import sys\n",
    "import os\n",
    "\n",
    "# Запускаем из командной строки  python E:\\test.ipynb 'E:\\Pyton\\'\n",
    "\n",
    "directory_path = sys.argv[1]\n",
    "\n",
    "# Проверяем, существует ли такой путь\n",
    "if not os.path.isdir(directory_path):\n",
    "    print(f\"Ошибка: Директория '{directory_path}' не существует.\")\n",
    "    sys.exit(1)\n",
    "\n",
    "# Используем os.walk для обхода директории\n",
    "for root, dirs, files in os.walk(directory_path):\n",
    "    for name in dirs:\n",
    "        print(os.path.join(root, name))\n",
    "#    for name in files:\n",
    "#        print(os.path.join(root, name))"
   ]
  },
  {
   "cell_type": "code",
   "execution_count": null,
   "id": "6e8dd12c-e5e8-4829-91a2-aaaaee58dcfe",
   "metadata": {},
   "outputs": [],
   "source": []
  }
 ],
 "metadata": {
  "kernelspec": {
   "display_name": "Python 3 (ipykernel)",
   "language": "python",
   "name": "python3"
  },
  "language_info": {
   "codemirror_mode": {
    "name": "ipython",
    "version": 3
   },
   "file_extension": ".py",
   "mimetype": "text/x-python",
   "name": "python",
   "nbconvert_exporter": "python",
   "pygments_lexer": "ipython3",
   "version": "3.12.5"
  }
 },
 "nbformat": 4,
 "nbformat_minor": 5
}
