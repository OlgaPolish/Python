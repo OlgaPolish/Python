{
 "cells": [
  {
   "cell_type": "code",
   "execution_count": 10,
   "id": "506ad340-1de3-41be-8d66-f7c8fe7571c9",
   "metadata": {},
   "outputs": [
    {
     "name": "stdout",
     "output_type": "stream",
     "text": [
      "1\n",
      "4\n",
      "9\n",
      "16\n",
      "25\n"
     ]
    }
   ],
   "source": [
    "# 1. Напишите программу, которая генерирует и выводит квадраты чисел от 1 до N \n",
    "# с использованием генераторного выражения. Реализуйте функцию generate_squares, \n",
    "# которая принимает число N в качестве аргумента и использует генераторное выражение \n",
    "# для генерации квадратов чисел. Затем выведите квадраты чисел на экран.\n",
    "\n",
    "def generate_squares(x):\n",
    "    yield from (i ** 2 for i in x)\n",
    "\n",
    "    \n",
    "# N = int(input(\"Введите число:\"))\n",
    "N = 5   \n",
    "squares = generate_squares(range(1, N + 1))\n",
    "\n",
    "for square in squares:\n",
    "    print(square)"
   ]
  },
  {
   "cell_type": "code",
   "execution_count": 5,
   "id": "352e54a2-b3ed-4673-952f-b5907d9af105",
   "metadata": {},
   "outputs": [
    {
     "name": "stdout",
     "output_type": "stream",
     "text": [
      "0\n",
      "1\n",
      "1\n",
      "2\n",
      "3\n",
      "5\n",
      "8\n",
      "13\n",
      "21\n",
      "34\n"
     ]
    }
   ],
   "source": [
    "def fib_generator():\n",
    "    a, b = 0, 1\n",
    "    while True:\n",
    "        yield a\n",
    "        a, b = b, a + b\n",
    "\n",
    "# N = int(input(\"Введите количество чисел Фибоначчи: \"))\n",
    "N = 10\n",
    "fib_gen = fib_generator()\n",
    "for _ in range(N):\n",
    "    print(next(fib_gen))"
   ]
  },
  {
   "cell_type": "code",
   "execution_count": null,
   "id": "27a00286-00cf-4f2d-b9ea-ddd6a265323a",
   "metadata": {},
   "outputs": [],
   "source": []
  }
 ],
 "metadata": {
  "kernelspec": {
   "display_name": "Python 3 (ipykernel)",
   "language": "python",
   "name": "python3"
  },
  "language_info": {
   "codemirror_mode": {
    "name": "ipython",
    "version": 3
   },
   "file_extension": ".py",
   "mimetype": "text/x-python",
   "name": "python",
   "nbconvert_exporter": "python",
   "pygments_lexer": "ipython3",
   "version": "3.12.5"
  }
 },
 "nbformat": 4,
 "nbformat_minor": 5
}
