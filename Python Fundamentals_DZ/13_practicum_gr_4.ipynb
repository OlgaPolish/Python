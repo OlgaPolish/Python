{
 "cells": [
  {
   "cell_type": "code",
   "execution_count": 1,
   "id": "67e40514-8435-4b35-982c-cefb11c1a9eb",
   "metadata": {},
   "outputs": [
    {
     "name": "stdout",
     "output_type": "stream",
     "text": [
      "['monkey', 'elephant']\n"
     ]
    }
   ],
   "source": [
    "# 1. Дана последовательность слов. Написать функцию, которая возвращает\n",
    "# последовательность слов из исходной последовательности, длина которых больше трех.\n",
    "# Использовать lambda-функции и filter. \n",
    "\n",
    "def word_len3(words):\n",
    "    return list(filter(lambda x: len(x) > 3, words)) \n",
    "    \n",
    "\n",
    "words = ['cat', 'dog', 'monkey', 'elephant']\n",
    "res = word_len3(words)\n",
    "print(res)\n",
    "\n"
   ]
  },
  {
   "cell_type": "code",
   "execution_count": 2,
   "id": "ae8c2c47-e72a-4289-bf6a-27613949004b",
   "metadata": {},
   "outputs": [
    {
     "name": "stdout",
     "output_type": "stream",
     "text": [
      "My name is Karina\n"
     ]
    }
   ],
   "source": [
    "# 2. Дана последовательность слов (строк). Вернуть предложение, составленное из строк\n",
    "# данной последовательности. Слова в полученном предложении разделены пробелами. \n",
    "\n",
    "def word_to_sentence(words):\n",
    "\n",
    "    return ' '.join(words)\n",
    "    \n",
    "\n",
    "words = ['My', 'name', 'is', 'Karina']\n",
    "\n",
    "res = word_to_sentence(words)\n",
    "print(res)\n",
    "\n"
   ]
  },
  {
   "cell_type": "code",
   "execution_count": 6,
   "id": "61785159-3524-4391-96a3-16aa839361c9",
   "metadata": {},
   "outputs": [
    {
     "name": "stdout",
     "output_type": "stream",
     "text": [
      "['THE', 'quick', 'brown', 'FOX']\n"
     ]
    }
   ],
   "source": [
    "# 3. Дана последовательность слов. Написать функцию, которая возвращает\n",
    "# последовательность слов, в которой в словах длины 3 все буквы заглавные. Пример: [“The”,\n",
    "# “quick”, “brown”, “fox”] → [“THE”, “quick”, “brown”, “FOX”]\n",
    "\n",
    "# def transform_word(word):\n",
    "#     return word.upper() if len(word) == 3 else word\n",
    "\n",
    "words = [\"The\", \"quick\", \"brown\", \"fox\"]\n",
    "\n",
    "res = list(map(lambda word: word.upper() if len(word) == 3 else word, words))\n",
    "\n",
    "print(res)"
   ]
  },
  {
   "cell_type": "code",
   "execution_count": 8,
   "id": "4dd9eaf4-27b4-4aa7-94e8-8f3a9bfcbb8b",
   "metadata": {},
   "outputs": [
    {
     "name": "stdout",
     "output_type": "stream",
     "text": [
      "['monkey', 'elephant']\n"
     ]
    }
   ],
   "source": [
    "# 4. Изменить решение задачи 1 так, чтобы последовательность слов вычитывалась из текстового\n",
    "# файла, где каждое слово было в новой строке. \n",
    "\n",
    "def word_len3(words):    \n",
    "    with open(words, 'r') as file:\n",
    "            res = [line.strip() for line in file]\n",
    "        \n",
    "    return list(filter(lambda x: len(x) > 3, res)) \n",
    "\n",
    "\n",
    "res = word_len3('words.txt')\n",
    "\n",
    "print(res)"
   ]
  },
  {
   "cell_type": "code",
   "execution_count": 3,
   "id": "81408ddc-2aa4-4b78-8b7a-688359743647",
   "metadata": {},
   "outputs": [
    {
     "name": "stdout",
     "output_type": "stream",
     "text": [
      "['Maria', '27']\n",
      "Maria\n"
     ]
    }
   ],
   "source": [
    "# 5. Дан текстовый файл, где каждая строка описывает человека в формате\n",
    "# <Name>; <Age>\n",
    "# Sergey;35\n",
    "# Ivan;25\n",
    "# Svetlana;20\n",
    "# Maria;27\n",
    "# Нужно написать программу, которая печатает имя самого старшего человека.\n",
    "# Поменяйте программу так, чтобы она печатала список людей, чем возраст больше 25 лет. \n",
    "\n",
    "def max_age(words):    \n",
    "    with open(words, 'r') as file:\n",
    "        person = (line.strip().split(';') for line in file)\n",
    "        # print(person)\n",
    "        old_person = max(person, key = lambda item: item[1])\n",
    "    print(old_person)\n",
    "    return old_person[0]\n",
    "    \n",
    "res = max_age('name_age.txt')\n",
    "\n",
    "print(res)"
   ]
  },
  {
   "cell_type": "code",
   "execution_count": 27,
   "id": "a08fd421-6aea-4895-9e0b-a550ed7f2def",
   "metadata": {},
   "outputs": [
    {
     "name": "stdout",
     "output_type": "stream",
     "text": [
      "Person(name='Sergey', age=35)\n"
     ]
    }
   ],
   "source": [
    "from collections import namedtuple\n",
    "\n",
    "Person = namedtuple('Person', ['name', 'age'])\n",
    "\n",
    "def max_age(words):    \n",
    "    with open(words, 'r') as file:\n",
    "        person = (Person(name.strip(), int(age.strip())) for name, age in (line.strip().split(';') for line in file))\n",
    "        old_person = max(person, key = lambda item: item.age)\n",
    "        # print(old_person)\n",
    "        return old_person\n",
    "\n",
    "\n",
    "res = max_age('name_age.txt')\n",
    "\n",
    "print(res)\n"
   ]
  },
  {
   "cell_type": "code",
   "execution_count": 28,
   "id": "aa4a40b8-c57e-4b10-9a31-402eb3005c6e",
   "metadata": {},
   "outputs": [
    {
     "name": "stdout",
     "output_type": "stream",
     "text": [
      "monkey\n",
      "elephant\n"
     ]
    }
   ],
   "source": [
    "# 4. Изменить решение задачи 1 так, чтобы последовательность слов вычитывалась из текстового\n",
    "# файла, где каждое слово было в новой строке. \n",
    "\n",
    "def word_len3(words):    \n",
    "    with open(words, 'r') as file:\n",
    "            res = [line.strip() for line in file]\n",
    "        \n",
    "    return list(filter(lambda x: len(x) > 3, res)) \n",
    "\n",
    "\n",
    "res = word_len3('words.txt')\n",
    "    \n",
    "for w in res:\n",
    "    print(w)\n",
    "    "
   ]
  },
  {
   "cell_type": "code",
   "execution_count": null,
   "id": "3600b5ce-1031-44b8-bebc-6d9509c76ecf",
   "metadata": {},
   "outputs": [],
   "source": []
  }
 ],
 "metadata": {
  "kernelspec": {
   "display_name": "Python 3 (ipykernel)",
   "language": "python",
   "name": "python3"
  },
  "language_info": {
   "codemirror_mode": {
    "name": "ipython",
    "version": 3
   },
   "file_extension": ".py",
   "mimetype": "text/x-python",
   "name": "python",
   "nbconvert_exporter": "python",
   "pygments_lexer": "ipython3",
   "version": "3.12.5"
  }
 },
 "nbformat": 4,
 "nbformat_minor": 5
}
