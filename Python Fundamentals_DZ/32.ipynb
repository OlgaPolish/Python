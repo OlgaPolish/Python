{
 "cells": [
  {
   "cell_type": "code",
   "execution_count": 2,
   "id": "b180450d-f2e6-44c5-876b-80809708f78e",
   "metadata": {},
   "outputs": [
    {
     "name": "stdout",
     "output_type": "stream",
     "text": [
      "8\n",
      "6\n"
     ]
    }
   ],
   "source": [
    "# Реализовать класс Counter, который представляет счетчик. Класс должен поддерживать следующие операции3:\n",
    "# - Увеличение значения счетчика на заданное число (оператор +=)\n",
    "# - Уменьшение значения счетчика на заданное число (оператор -=)\n",
    "# - Преобразование счетчика в строку (метод __str__)\n",
    "# - Получение текущего значения счетчика (метод __int__)class Counter:\n",
    "\n",
    "class Counter:\n",
    "    def __init__(self, value=0):\n",
    "        # Инициализация экземпляра класса со значением по умолчанию 0\n",
    "        self.value = value\n",
    "\n",
    "    def __iadd__(self, other):\n",
    "        # Метод для добавления значения к self.value\n",
    "        self.value += other\n",
    "        return self\n",
    "\n",
    "    def __isub__(self, other):\n",
    "        # Метод для вычитания значения из self.value\n",
    "        self.value -= other\n",
    "        return self\n",
    "\n",
    "    def __str__(self):\n",
    "        # Метод для представления объекта в виде строки\n",
    "        return str(self.value)\n",
    "\n",
    "    def __int__(self):\n",
    "        # Метод для преобразования объекта в целое число\n",
    "        return self.value\n",
    "\n",
    "\n",
    "counter = Counter(5)\n",
    "counter += 3\n",
    "print(counter)\n",
    "counter -= 2\n",
    "print(int(counter))\n"
   ]
  },
  {
   "cell_type": "code",
   "execution_count": 25,
   "id": "17597b50-4fb5-4de5-9213-def2c7c5882c",
   "metadata": {},
   "outputs": [
    {
     "name": "stdout",
     "output_type": "stream",
     "text": [
      "From: john@example.com\n",
      "To: jane@example.com\n",
      "Subject: Meeting\n",
      "\n",
      "Hi Jane, let's have a meeting tomorrow.\n",
      "25\n",
      "-4533793253754547102\n",
      "True\n",
      "True\n"
     ]
    }
   ],
   "source": [
    "# Реализовать класс Email, представляющий электронное письмо. Класс должен поддерживать следующие операции:\n",
    "# - Сравнение писем по дате (операторы <, >, <=, >=, ==, !=)\n",
    "# - Преобразование письма в строку (метод __str__)\n",
    "# - Получение длины текста письма (метод __len__)\n",
    "# - Получение хеш-значения письма (метод __hash__)\n",
    "# - Проверка наличия текста в письме (метод __bool__)from datetime import datetime\n",
    "\n",
    "class Email:\n",
    "    def __init__(self, from_address, to_address, subject, body, date):\n",
    "        self.from_address = from_address\n",
    "        self.to_address = to_address\n",
    "        self.subject = subject\n",
    "        self.body = body\n",
    "        self.date = datetime.strptime(date, \"%Y-%m-%d\")\n",
    "\n",
    "    def __str__(self):\n",
    "        return f\"From: {self.from_address}\\nTo: {self.to_address}\\nSubject: {self.subject}\\n\\n{self.body}\"\n",
    "\n",
    "    def __len__(self):\n",
    "        return len(self.body)\n",
    "\n",
    "    def __hash__(self):\n",
    "        return hash((self.from_address, self.to_address, self.subject, self.body, self.date))\n",
    "\n",
    "    def __bool__(self):\n",
    "        return bool(self.body.strip())\n",
    "\n",
    "    def __gt__(self, other):\n",
    "        # print(f'Дата {self.date}, {other.date} ')\n",
    "        return self.date > other.date\n",
    "\n",
    "\n",
    "email1 = Email(\"john@example.com\", \"jane@example.com\", \"Meeting\", \"Hi Jane, let's have a meeting tomorrow.\", \"2022-05-10\")\n",
    "email2 = Email(\"jane@example.com\", \"john@example.com\", \"Re: Meeting\", \"Sure, let's meet at 2 PM.\", \"2022-05-10\")\n",
    "email3 = Email(\"alice@example.com\", \"bob@example.com\", \"Hello\", \"Hi Bob, how are you?\", \"2022-05-09\")\n",
    "\n",
    "print(email1)  \n",
    "print(len(email2))  \n",
    "print(hash(email3))  \n",
    "print(bool(email1))  \n",
    "print(email2 > email3)\n"
   ]
  },
  {
   "cell_type": "code",
   "execution_count": null,
   "id": "235e7248-8001-4872-8630-73b163460c15",
   "metadata": {},
   "outputs": [],
   "source": []
  }
 ],
 "metadata": {
  "kernelspec": {
   "display_name": "Python 3 (ipykernel)",
   "language": "python",
   "name": "python3"
  },
  "language_info": {
   "codemirror_mode": {
    "name": "ipython",
    "version": 3
   },
   "file_extension": ".py",
   "mimetype": "text/x-python",
   "name": "python",
   "nbconvert_exporter": "python",
   "pygments_lexer": "ipython3",
   "version": "3.12.5"
  }
 },
 "nbformat": 4,
 "nbformat_minor": 5
}
