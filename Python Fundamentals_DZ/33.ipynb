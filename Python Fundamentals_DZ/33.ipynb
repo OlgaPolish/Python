{
 "cells": [
  {
   "cell_type": "code",
   "execution_count": 3,
   "id": "f2192190-a941-4948-92e8-a14687d6a2cc",
   "metadata": {},
   "outputs": [
    {
     "name": "stdout",
     "output_type": "stream",
     "text": [
      "Name: John\n",
      "Position: Manager\n",
      "Company: ABC Company\n",
      "Name: Alice\n",
      "Position: Developer\n",
      "Company: XYZ Company\n"
     ]
    }
   ],
   "source": [
    "# Реализуйте класс Employee, представляющий сотрудника компании. \n",
    "# Класс должен иметь статическое поле company с названием компании, а также методы:\n",
    "# set_company(cls, name): метод класса для изменения названия компании\n",
    "# __init__(self, name, position): конструктор, принимающий имя и должность сотрудника\n",
    "# get_info(self): метод, возвращающий информацию о сотруднике в виде строки (имя, должность, название компании)\n",
    "\n",
    "\n",
    "class Employee:\n",
    "    company = \"ABC Company\"  # Статическое поле с названием компании\n",
    "\n",
    "    @classmethod\n",
    "    def set_company(cls, name):\n",
    "        cls.company = name  # Изменение названия компании\n",
    "\n",
    "    def __init__(self, name, position):\n",
    "        self.name = name  # Имя сотрудника\n",
    "        self.position = position  # Должность сотрудника\n",
    "\n",
    "    def get_info(self):\n",
    "        return f\"Name: {self.name}\\nPosition: {self.position}\\nCompany: {self.company}\"\n",
    "\n",
    "employee1 = Employee(\"John\", \"Manager\")\n",
    "employee2 = Employee(\"Alice\", \"Developer\")\n",
    "\n",
    "print(employee1.get_info())\n",
    "\n",
    "Employee.set_company(\"XYZ Company\")\n",
    "print(employee2.get_info())\n",
    "\n",
    "\n"
   ]
  },
  {
   "cell_type": "code",
   "execution_count": 3,
   "id": "8dced17d-2236-480f-bed4-457946e940df",
   "metadata": {},
   "outputs": [
    {
     "name": "stdout",
     "output_type": "stream",
     "text": [
      "Rectangle area: 15\n",
      "Rectangle perimeter: 16\n",
      "Circle area: 12.566370614359172\n",
      "Circle perimeter: 12.566370614359172\n"
     ]
    }
   ],
   "source": [
    "# Реализуйте абстрактный базовый класс Shape (фигура), а от него унаследуйте \n",
    "#  классы Rectangle и Circle (круг). Класс Shape должен иметь абстрактный метод area, \n",
    "# который должен быть реализован  в каждом дочернем классе. \n",
    "# Классы Rectangle и Circle также должны иметь метод perimeter для расчета периметра.\n",
    "# Выведите площадь и периметр прямоугольника и круга на экран.\n",
    "\n",
    "from abc import ABC, abstractmethod\n",
    "import math\n",
    "\n",
    "class Shape(ABC):\n",
    "    @abstractmethod\n",
    "    def area(self):\n",
    "        pass\n",
    "\n",
    "    @abstractmethod\n",
    "    def perimeter(self):\n",
    "        pass\n",
    "\n",
    "\n",
    "class Rectangle(Shape):\n",
    "    def __init__(self, width, height):\n",
    "        self.width = width\n",
    "        self.height = height\n",
    "\n",
    "    def area(self):\n",
    "        return self.width * self.height\n",
    "\n",
    "    def perimeter(self):\n",
    "        return 2 * (self.width + self.height)\n",
    "\n",
    "class Circle(Shape):\n",
    "    def __init__(self, radius):\n",
    "        self.radius = radius\n",
    "\n",
    "    def area(self):\n",
    "        return math.pi * self.radius ** 2\n",
    "\n",
    "    def perimeter(self):\n",
    "        return 2 * math.pi * self.radius\n",
    "\n",
    "rectangle = Rectangle(5, 3)\n",
    "circle = Circle(2)\n",
    "\n",
    "print(f\"Rectangle area: {rectangle.area()}\") \n",
    "print(f\"Rectangle perimeter: {rectangle.perimeter()}\")  \n",
    "print(f\"Circle area: {circle.area()}\")  \n",
    "print(f\"Circle perimeter: {circle.perimeter()}\")  \n"
   ]
  },
  {
   "cell_type": "code",
   "execution_count": null,
   "id": "4faf1e42-4e08-481f-b948-25d728ac97da",
   "metadata": {},
   "outputs": [],
   "source": []
  }
 ],
 "metadata": {
  "kernelspec": {
   "display_name": "Python 3 (ipykernel)",
   "language": "python",
   "name": "python3"
  },
  "language_info": {
   "codemirror_mode": {
    "name": "ipython",
    "version": 3
   },
   "file_extension": ".py",
   "mimetype": "text/x-python",
   "name": "python",
   "nbconvert_exporter": "python",
   "pygments_lexer": "ipython3",
   "version": "3.12.5"
  }
 },
 "nbformat": 4,
 "nbformat_minor": 5
}
