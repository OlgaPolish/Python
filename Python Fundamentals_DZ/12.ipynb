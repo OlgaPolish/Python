{
 "cells": [
  {
   "cell_type": "code",
   "execution_count": 11,
   "id": "f4efd3eb-eb8a-421c-88ea-0f380b0de3af",
   "metadata": {},
   "outputs": [
    {
     "name": "stdin",
     "output_type": "stream",
     "text": [
      "Введите число:  5\n"
     ]
    },
    {
     "name": "stdout",
     "output_type": "stream",
     "text": [
      "  1   2   3   4   5 \n",
      "  2   4   6   8  10 \n",
      "  3   6   9  12  15 \n",
      "  4   8  12  16  20 \n",
      "  5  10  15  20  25 \n",
      "\n"
     ]
    }
   ],
   "source": [
    "num = int(input(\"Введите число: \"))\n",
    "res = ''\n",
    "for i in range(1,num+1):\n",
    "    for j in  range(1,num+1):       \n",
    "        print(f'{i*j:3}', end=' ')\n",
    "    print()    \n",
    "print(res)"
   ]
  },
  {
   "cell_type": "code",
   "execution_count": 19,
   "id": "f7c97cdf-ce6e-480c-8ae2-da980b22579e",
   "metadata": {},
   "outputs": [
    {
     "name": "stdin",
     "output_type": "stream",
     "text": [
      "Введите элементы первого списка, разделенные пробелом:  О Л Ь Г А\n",
      "Введите элементы второго списка, разделенные пробелом:  1 2 3 4 5\n"
     ]
    },
    {
     "name": "stdout",
     "output_type": "stream",
     "text": [
      "[('О', '1'), ('Л', '2'), ('Ь', '3'), ('Г', '4'), ('А', '5')]\n"
     ]
    }
   ],
   "source": [
    "list1 = input(\"Введите элементы первого списка, разделенные пробелом: \").split()\n",
    "list2 = input(\"Введите элементы второго списка, разделенные пробелом: \").split()\n",
    "if len(list1) != len(list2):\n",
    "    print(\"Списки должны иметь одинаковую длину.\")\n",
    "else:\n",
    "    print(list(zip(list1, list2)))"
   ]
  },
  {
   "cell_type": "code",
   "execution_count": 3,
   "id": "7a1ea4bf-ed12-4139-902f-5f225083992b",
   "metadata": {},
   "outputs": [
    {
     "name": "stdin",
     "output_type": "stream",
     "text": [
      "Введите число:  7\n"
     ]
    },
    {
     "name": "stdout",
     "output_type": "stream",
     "text": [
      "      1\n",
      "     1 1\n",
      "    1 2 1\n",
      "   1 3 3 1\n",
      "  1 4 6 4 1\n",
      " 1 5 10 10 5 1\n",
      "1 6 15 20 15 6 1\n"
     ]
    }
   ],
   "source": [
    "n = int(input(\"Введите число: \"))\n",
    "last_row = [1]\n",
    "for i in range(n):\n",
    "    row = [1]\n",
    "    if i > 0:\n",
    "        \n",
    "        for j in range(1, i):\n",
    "            row.append(last_row[j-1] + last_row[j])\n",
    "        row.append(1)\n",
    "    print(' ' * (n - i - 1) + ' '.join(map(str, row)))\n",
    "    last_row = row.copy()"
   ]
  },
  {
   "cell_type": "code",
   "execution_count": null,
   "id": "aa593c15-476c-4f7c-a386-d88e1bffde3b",
   "metadata": {},
   "outputs": [],
   "source": [
    "def binomial_coefficient(n, k):\n",
    "    if k == 0 or k == n:\n",
    "        return 1\n",
    "    else:\n",
    "        return (factorial(n) // (factorial(k) * factorial(n - k)))\n",
    "\n",
    "def factorial(n):\n",
    "    if n == 0:\n",
    "        return 1\n",
    "    else:\n",
    "        return n * factorial(n - 1)\n",
    "\n",
    "n = int(input(\"Введите число: \"))\n",
    "\n",
    "for i in range(n):\n",
    "    row = [binomial_coefficient(i, j) for j in range(i + 1)]\n",
    "    print(' ' * (n - i - 1) + ' '.join(map(str, row)))"
   ]
  },
  {
   "cell_type": "code",
   "execution_count": 4,
   "id": "39cdb84c-91a6-4624-902f-34a58a033b0d",
   "metadata": {},
   "outputs": [
    {
     "name": "stdout",
     "output_type": "stream",
     "text": [
      "result1 = 8\n",
      "result2 = 10\n"
     ]
    }
   ],
   "source": [
    "def double(number):\n",
    "    return 2 * number\n",
    "result1 = double(4)\n",
    "result2 = double(5)\n",
    "print(f\"result1 = {result1}\")\n",
    "print(f\"result2 = {result2}\") \n"
   ]
  },
  {
   "cell_type": "code",
   "execution_count": null,
   "id": "02193f27-7d88-4d44-bc00-227b8677d534",
   "metadata": {},
   "outputs": [],
   "source": []
  }
 ],
 "metadata": {
  "kernelspec": {
   "display_name": "Python 3 (ipykernel)",
   "language": "python",
   "name": "python3"
  },
  "language_info": {
   "codemirror_mode": {
    "name": "ipython",
    "version": 3
   },
   "file_extension": ".py",
   "mimetype": "text/x-python",
   "name": "python",
   "nbconvert_exporter": "python",
   "pygments_lexer": "ipython3",
   "version": "3.12.5"
  }
 },
 "nbformat": 4,
 "nbformat_minor": 5
}
