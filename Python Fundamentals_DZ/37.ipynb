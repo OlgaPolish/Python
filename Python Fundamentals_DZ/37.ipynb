{
 "cells": [
  {
   "cell_type": "code",
   "execution_count": 11,
   "id": "82351493-e674-4826-b231-d7c9864c1dd5",
   "metadata": {},
   "outputs": [
    {
     "name": "stdout",
     "output_type": "stream",
     "text": [
      "Соединение установлено.\n"
     ]
    },
    {
     "name": "stdin",
     "output_type": "stream",
     "text": [
      "Введите название таблицы (Users, Products, Sales или '0' для завершения):  Products\n"
     ]
    },
    {
     "name": "stdout",
     "output_type": "stream",
     "text": [
      "Содержимое таблицы 'Products':\n",
      "{'pid': 1, 'prod': 'Laptop', 'quantity': 10}\n",
      "{'pid': 2, 'prod': 'Mouse', 'quantity': 50}\n",
      "{'pid': 3, 'prod': 'Keyboard', 'quantity': 30}\n"
     ]
    },
    {
     "name": "stdin",
     "output_type": "stream",
     "text": [
      "Введите название таблицы (Users, Products, Sales или '0' для завершения):  Users\n"
     ]
    },
    {
     "name": "stdout",
     "output_type": "stream",
     "text": [
      "Содержимое таблицы 'Users':\n",
      "{'id': 1, 'name': 'Alice', 'age': 25}\n",
      "{'id': 2, 'name': 'Bob', 'age': 30}\n",
      "{'id': 3, 'name': 'Charlie', 'age': 22}\n",
      "\n",
      "Доступные имена пользователей:\n",
      "Alice, Bob, Charlie\n"
     ]
    },
    {
     "name": "stdin",
     "output_type": "stream",
     "text": [
      "\n",
      "Выберите имя пользователя для отображения покупок:  Alice\n"
     ]
    },
    {
     "name": "stdout",
     "output_type": "stream",
     "text": [
      "\n",
      "Покупки пользователя 'Alice':\n",
      "Товар: Laptop, Количество: 10\n",
      "Товар: Mouse, Количество: 50\n"
     ]
    },
    {
     "name": "stdin",
     "output_type": "stream",
     "text": [
      "Введите название таблицы (Users, Products, Sales или '0' для завершения):  0\n"
     ]
    },
    {
     "name": "stdout",
     "output_type": "stream",
     "text": [
      "Программа завершена.\n"
     ]
    }
   ],
   "source": [
    "import pymysql.cursors\n",
    "\n",
    "# Подключение к базе данных\n",
    "connection = pymysql.connect(\n",
    "    host='localhost',\n",
    "    user='root',\n",
    "    password='O1205lga+',\n",
    "    database='ich_edit',\n",
    "    cursorclass=pymysql.cursors.DictCursor\n",
    ")\n",
    "\n",
    "try:\n",
    "    connection.ping()\n",
    "    print(\"Соединение установлено.\")\n",
    "except Exception as e:\n",
    "    raise Exception(f\"Ошибка соединения: {e}\")\n",
    "\n",
    "def get_table_data(table_name):\n",
    "    \"\"\"\n",
    "    Получить данные из указанной таблицы.\n",
    "    \"\"\"\n",
    "    try:\n",
    "        with connection.cursor() as cursor:\n",
    "            # Проверяем, существует ли таблица\n",
    "            cursor.execute(f\"SHOW TABLES LIKE '{table_name}'\")\n",
    "            result = cursor.fetchone()\n",
    "            if not result:\n",
    "                return None\n",
    "\n",
    "            cursor.execute(f\"SELECT * FROM {table_name}\")\n",
    "            rows = cursor.fetchall()\n",
    "            return rows\n",
    "    except Exception as e:\n",
    "        raise Exception(f\"Error '{table_name}': {e}\")\n",
    "\n",
    "def get_user_purchases(user_name):\n",
    "    \"\"\"\n",
    "    Получить все покупки пользователя по имени.\n",
    "    \"\"\"\n",
    "    try:\n",
    "        with connection.cursor() as cursor:\n",
    "            cursor.execute(\"SELECT id FROM Users WHERE name = %s\", (user_name,))\n",
    "            user = cursor.fetchone()\n",
    "            if not user:\n",
    "                raise ValueError(f\"Пользователь с именем '{user_name}' не найден.\")\n",
    "            \n",
    "            user_id = user['id']\n",
    "            \n",
    "            # Получаем список покупок пользователя\n",
    "            cursor.execute(\"\"\"\n",
    "                SELECT Products.prod, Products.quantity \n",
    "                FROM Sales\n",
    "                JOIN Products ON Sales.pid = Products.pid\n",
    "                WHERE Sales.id = %s\n",
    "            \"\"\", (user_id,))\n",
    "            purchases = cursor.fetchall()\n",
    "                        \n",
    "            return purchases # Возвращаем список покупок\n",
    "    except Exception as e:\n",
    "        raise Exception(f\"Ошибка при получении покупок пользователя '{user_name}': {e}\")\n",
    "\n",
    "while True:\n",
    "    try:\n",
    "        table_name = input(\"Введите название таблицы (Users, Products, Sales или '0' для завершения): \")\n",
    "        \n",
    "        if table_name == '0':\n",
    "            print(\"Программа завершена.\")\n",
    "            break\n",
    "\n",
    "        rows = get_table_data(table_name)\n",
    "        if rows is None:\n",
    "            print(f\"Таблица '{table_name}' не найдена.\")\n",
    "        else:\n",
    "            print(f\"Содержимое таблицы '{table_name}':\")\n",
    "            for row in rows:\n",
    "                print(row)\n",
    "            \n",
    "        # Если выбрана таблица Users,можно выбрать имя и показать покупки\n",
    "        if table_name.lower() == 'users':\n",
    "            print(\"\\nДоступные имена пользователей:\")\n",
    "            user_names = [row['name'] for row in rows]\n",
    "            print(\", \".join(user_names))\n",
    "            \n",
    "            user_name = input(\"\\nВыберите имя пользователя для отображения покупок: \")\n",
    "            purchases = get_user_purchases(user_name)\n",
    "            \n",
    "            if purchases:\n",
    "                print(f\"\\nПокупки пользователя '{user_name}':\")\n",
    "                for purchase in purchases:\n",
    "                    print(f\"Товар: {purchase['prod']}, Количество: {purchase['quantity']}\")\n",
    "            else:\n",
    "                print(f\"У пользователя '{user_name}' нет покупок.\")\n",
    "    except ValueError as ve:\n",
    "        print(ve)\n",
    "    except Exception as e:\n",
    "        print(f\"Произошла ошибка: {e}\")\n"
   ]
  },
  {
   "cell_type": "code",
   "execution_count": null,
   "id": "bb2637b8-cfc5-4421-99e6-907e95313a00",
   "metadata": {},
   "outputs": [],
   "source": []
  }
 ],
 "metadata": {
  "kernelspec": {
   "display_name": "Python 3 (ipykernel)",
   "language": "python",
   "name": "python3"
  },
  "language_info": {
   "codemirror_mode": {
    "name": "ipython",
    "version": 3
   },
   "file_extension": ".py",
   "mimetype": "text/x-python",
   "name": "python",
   "nbconvert_exporter": "python",
   "pygments_lexer": "ipython3",
   "version": "3.12.5"
  }
 },
 "nbformat": 4,
 "nbformat_minor": 5
}
