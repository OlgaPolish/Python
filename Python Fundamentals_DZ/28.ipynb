{
 "cells": [
  {
   "cell_type": "code",
   "execution_count": 10,
   "id": "7ca58c25-0224-4f1f-b5d4-d4dac1bb617a",
   "metadata": {},
   "outputs": [
    {
     "name": "stdin",
     "output_type": "stream",
     "text": [
      "Введите список слов, разделенных пробелами:  А роза упала на лапу азора\n"
     ]
    },
    {
     "name": "stdout",
     "output_type": "stream",
     "text": [
      "Слова, начинающиеся с гласной и в верхнем регистре: ['А', 'АЗОРА']\n"
     ]
    }
   ],
   "source": [
    "# Напишите программу, которая принимает список слов от пользователя и использует\n",
    "# генераторное выражение (comprehension) для создания нового списка, содержащего\n",
    "# только те слова, которые начинаются с гласной буквы. Затем программа должна\n",
    "# использовать функцию map, чтобы преобразовать каждое слово в верхний регистр.\n",
    "# В результате программа должна вывести новый список, содержащий только слова,\n",
    "# начинающиеся с гласной буквы и записанные в верхнем регистре.\n",
    "  \n",
    "vowels = 'AEIOUaeiouАОЭЯИЮаоэяию'\n",
    "words_list = input(\"Введите список слов, разделенных пробелами: \").split()\n",
    "words_v=(word for word in words_list if word[0] in vowels) # Фильтруем слова, оставляя только те, которые начинаются с гласной\n",
    "result =  list(map(lambda word: word.upper(), (word for word in words_list if word[0] in vowels))) # Преобразуем отфильтрованные слова в верхний регистр\n",
    "print(\"Слова, начинающиеся с гласной и в верхнем регистре:\", result)"
   ]
  },
  {
   "cell_type": "code",
   "execution_count": 5,
   "id": "68f62e9d-0476-40cf-9893-8928665f4879",
   "metadata": {},
   "outputs": [
    {
     "name": "stdin",
     "output_type": "stream",
     "text": [
      "Введите список чисел, разделенных пробелами:  1 2 3\n"
     ]
    },
    {
     "name": "stdout",
     "output_type": "stream",
     "text": [
      "Произведение всех чисел: 6\n",
      "Накопленные произведения: [1, 2, 6]\n"
     ]
    }
   ],
   "source": [
    "# Напишите программу, которая принимает список чисел от пользователя и\n",
    "# использует функцию reduce из модуля functools, чтобы найти произведение всех\n",
    "# чисел в списке. Затем программа должна использовать функцию itertools.accumulate\n",
    "# для накопления произведений чисел в новом списке. В результате программа\n",
    "# должна вывести список, содержащий накопленные произведения.\n",
    "\n",
    "from functools import reduce\n",
    "from itertools import accumulate\n",
    "import operator\n",
    "\n",
    "user_input = input(\"Введите список чисел, разделенных пробелами: \").split()\n",
    "numbers = list(map(int, user_input))\n",
    "\n",
    "sum_mul = reduce(operator.mul, numbers, 1) # произведение всех чисел\n",
    "print(f\"Произведение всех чисел: {sum_mul}\")\n",
    "\n",
    "acc_mul = list(accumulate(numbers, operator.mul)) # получения списка накопленных произведений\n",
    "print(\"Накопленные произведения:\", acc_mul)"
   ]
  },
  {
   "cell_type": "code",
   "execution_count": null,
   "id": "cefb7ed5-f7e7-4cc1-8cf1-1aa19a466363",
   "metadata": {},
   "outputs": [],
   "source": []
  }
 ],
 "metadata": {
  "kernelspec": {
   "display_name": "Python 3 (ipykernel)",
   "language": "python",
   "name": "python3"
  },
  "language_info": {
   "codemirror_mode": {
    "name": "ipython",
    "version": 3
   },
   "file_extension": ".py",
   "mimetype": "text/x-python",
   "name": "python",
   "nbconvert_exporter": "python",
   "pygments_lexer": "ipython3",
   "version": "3.12.5"
  }
 },
 "nbformat": 4,
 "nbformat_minor": 5
}
