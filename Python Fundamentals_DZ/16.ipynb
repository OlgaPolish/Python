{
 "cells": [
  {
   "cell_type": "code",
   "execution_count": 16,
   "id": "8f68889d-2450-4fdc-8399-eb21ff778dd0",
   "metadata": {},
   "outputs": [
    {
     "name": "stdin",
     "output_type": "stream",
     "text": [
      "Введите количество строк матрицы:  2\n",
      "Введите количество столбцов матрицы:  2\n"
     ]
    },
    {
     "name": "stdout",
     "output_type": "stream",
     "text": [
      "Введите элементы матрицы:\n"
     ]
    },
    {
     "name": "stdin",
     "output_type": "stream",
     "text": [
      "Элемент [0][0]:  4\n",
      "Элемент [0][1]:  5\n",
      "Элемент [1][0]:  6\n",
      "Элемент [1][1]:  7\n"
     ]
    },
    {
     "name": "stdout",
     "output_type": "stream",
     "text": [
      "\n",
      "Введенная матрица:\n",
      "[4, 5] 0\n",
      "[6, 7] 9\n",
      "\n",
      "Сумма элементов в матрице: 22\n"
     ]
    }
   ],
   "source": [
    "# matrix = [[1, 2, 3], [4, 5, 6], [7, 8, 9]]\n",
    "\n",
    "matrix = []\n",
    "rows = int(input(\"Введите количество строк матрицы: \"))\n",
    "cols = int(input(\"Введите количество столбцов матрицы: \"))\n",
    "    \n",
    "print(\"Введите элементы матрицы:\")\n",
    "for i in range(rows):\n",
    "    row = []\n",
    "    for j in range(cols):\n",
    "        element = int(input(f\"Элемент [{i}][{j}]: \"))\n",
    "        row.append(element)\n",
    "    matrix.append(row)\n",
    "    \n",
    "total = 0\n",
    "print(\"\\nВведенная матрица:\")\n",
    "for row in matrix:\n",
    "    print(row)\n",
    "    for element in row:\n",
    "        total += element\n",
    "\n",
    "print(f\"\\nСумма элементов в матрице: {total}\")"
   ]
  },
  {
   "cell_type": "code",
   "execution_count": 13,
   "id": "7678e9cb-19a2-44a7-81d4-696e82178052",
   "metadata": {},
   "outputs": [
    {
     "name": "stdin",
     "output_type": "stream",
     "text": [
      "Введите список чисел, разделенных пробелами:  5 2 8 1 3\n"
     ]
    },
    {
     "name": "stdout",
     "output_type": "stream",
     "text": [
      "Отсортированный список чисел: [8, 5, 3, 2, 1]\n"
     ]
    }
   ],
   "source": [
    "input_string = input(\"Введите список чисел, разделенных пробелами: \")\n",
    "\n",
    "numbers = [int(num) for num in input_string.split()]\n",
    "numbers.sort(reverse=True)\n",
    "\n",
    "# for i, item in enumerate(str_1):\n",
    "# str_1[i] = int(item)\n",
    "# str_1.sort(reverse=True)\n",
    "# print(str_1)\n",
    "\n",
    "print(\"Отсортированный список чисел:\", numbers)"
   ]
  },
  {
   "cell_type": "code",
   "execution_count": 21,
   "id": "c2c59b59-e261-406c-ab4e-be9595a922b1",
   "metadata": {},
   "outputs": [
    {
     "ename": "NameError",
     "evalue": "name 'a' is not defined",
     "output_type": "error",
     "traceback": [
      "\u001b[1;31m---------------------------------------------------------------------------\u001b[0m",
      "\u001b[1;31mNameError\u001b[0m                                 Traceback (most recent call last)",
      "Cell \u001b[1;32mIn[21], line 3\u001b[0m\n\u001b[0;32m      1\u001b[0m \u001b[38;5;28;01mdef\u001b[39;00m \u001b[38;5;21msumma\u001b[39m(\u001b[38;5;241m*\u001b[39margs):\n\u001b[0;32m      2\u001b[0m     \u001b[38;5;28;01mreturn\u001b[39;00m a \u001b[38;5;241m+\u001b[39m b \u001b[38;5;241m+\u001b[39m c \u001b[38;5;241m+\u001b[39md\n\u001b[1;32m----> 3\u001b[0m \u001b[38;5;28mprint\u001b[39m(\u001b[43msumma\u001b[49m\u001b[43m(\u001b[49m\u001b[38;5;241;43m1\u001b[39;49m\u001b[43m,\u001b[49m\u001b[43m \u001b[49m\u001b[38;5;241;43m2\u001b[39;49m\u001b[43m,\u001b[49m\u001b[43m \u001b[49m\u001b[38;5;241;43m3\u001b[39;49m\u001b[43m)\u001b[49m)\n\u001b[0;32m      4\u001b[0m \u001b[38;5;28mprint\u001b[39m(summa(\u001b[38;5;241m1\u001b[39m, \u001b[38;5;241m2\u001b[39m, \u001b[38;5;241m3\u001b[39m, \u001b[38;5;241m4\u001b[39m, \u001b[38;5;241m5\u001b[39m, \u001b[38;5;241m6\u001b[39m, \u001b[38;5;241m7\u001b[39m, \u001b[38;5;241m8\u001b[39m, \u001b[38;5;241m8\u001b[39m))\n\u001b[0;32m      5\u001b[0m \u001b[38;5;28mprint\u001b[39m(summa(\u001b[38;5;241m1\u001b[39m, \u001b[38;5;241m2\u001b[39m))\n",
      "Cell \u001b[1;32mIn[21], line 2\u001b[0m, in \u001b[0;36msumma\u001b[1;34m(*args)\u001b[0m\n\u001b[0;32m      1\u001b[0m \u001b[38;5;28;01mdef\u001b[39;00m \u001b[38;5;21msumma\u001b[39m(\u001b[38;5;241m*\u001b[39margs):\n\u001b[1;32m----> 2\u001b[0m     \u001b[38;5;28;01mreturn\u001b[39;00m \u001b[43ma\u001b[49m \u001b[38;5;241m+\u001b[39m b \u001b[38;5;241m+\u001b[39m c \u001b[38;5;241m+\u001b[39md\n",
      "\u001b[1;31mNameError\u001b[0m: name 'a' is not defined"
     ]
    }
   ],
   "source": [
    "def summa(*args):\n",
    "    return a + b + c +d\n",
    "print(summa(1, 2, 3))\n",
    "print(summa(1, 2, 3, 4, 5, 6, 7, 8, 8))\n",
    "print(summa(1, 2))\n",
    "print(summa(1))"
   ]
  },
  {
   "cell_type": "code",
   "execution_count": 24,
   "id": "bec7e9d7-1250-4848-b6b8-d32ce63958ff",
   "metadata": {},
   "outputs": [
    {
     "name": "stdout",
     "output_type": "stream",
     "text": [
      "-60\n"
     ]
    }
   ],
   "source": [
    "def my_min(*args):\n",
    "    min_number = None\n",
    "    for item in args:\n",
    "        if isinstance(item, int):\n",
    "            min_number = min(item, min_number or item)  # None это FALSE\n",
    "    return min_number\n",
    "\n",
    "print(my_min(1, 2, 3, 4 -5,-60, 'Hello'))"
   ]
  },
  {
   "cell_type": "code",
   "execution_count": 25,
   "id": "cc075a9e-0535-40a9-8623-cbc0ddd63474",
   "metadata": {},
   "outputs": [
    {
     "name": "stdout",
     "output_type": "stream",
     "text": [
      "-60\n"
     ]
    }
   ],
   "source": [
    "def my_min(*args):\n",
    "    res = [item for item in args if isinstance(item, int)]\n",
    "    return min(res)\n",
    "print(my_min(1, 2, 3, 4 -5,-60, 'Hello'))"
   ]
  },
  {
   "cell_type": "code",
   "execution_count": null,
   "id": "2fa4770f-8ebb-4e2f-aaa6-b7707e8df161",
   "metadata": {},
   "outputs": [],
   "source": []
  }
 ],
 "metadata": {
  "kernelspec": {
   "display_name": "Python 3 (ipykernel)",
   "language": "python",
   "name": "python3"
  },
  "language_info": {
   "codemirror_mode": {
    "name": "ipython",
    "version": 3
   },
   "file_extension": ".py",
   "mimetype": "text/x-python",
   "name": "python",
   "nbconvert_exporter": "python",
   "pygments_lexer": "ipython3",
   "version": "3.12.5"
  }
 },
 "nbformat": 4,
 "nbformat_minor": 5
}
