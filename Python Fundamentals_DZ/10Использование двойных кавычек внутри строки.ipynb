{
 "cells": [
  {
   "cell_type": "code",
   "execution_count": 17,
   "id": "ab62e7ab-e0af-47a4-95c1-e08a50a942e6",
   "metadata": {},
   "outputs": [
    {
     "name": "stdin",
     "output_type": "stream",
     "text": [
      "Введите строку:  Hallo world\n"
     ]
    },
    {
     "name": "stdout",
     "output_type": "stream",
     "text": [
      "Результат: Hll wrld\n"
     ]
    }
   ],
   "source": [
    "#1 Напишите программу, которая запрашивает у пользователя строку и преобразует ее, удаляя все гласные буквы из строки. Используйте метод replace() для замены гласных букв на пустую строку. Выведите преобразованную строку на экран с помощью команды print.\n",
    "s = input(\"Введите строку: \")\n",
    "vowels = \"aeiouAEIOU\"\n",
    "result = \"\"\n",
    "i = 0\n",
    "while i < len(vowels):\n",
    "    s = s.replace(vowels[i], '')\n",
    "    i += 1\n",
    "print(\"Результат:\", s)"
   ]
  },
  {
   "cell_type": "code",
   "execution_count": 23,
   "id": "7f078a81-a131-4e54-88f2-90191c8b124f",
   "metadata": {},
   "outputs": [
    {
     "name": "stdin",
     "output_type": "stream",
     "text": [
      "Введите строку:  Hallo world\n"
     ]
    },
    {
     "name": "stdout",
     "output_type": "stream",
     "text": [
      "В строке есть повторяющиеся символы: ['l', 'o']\n"
     ]
    }
   ],
   "source": [
    "#2 Напишите программу, которая запрашивает у пользователя строку и определяет, содержит ли она только уникальные символы. Если все символы в строке уникальны, выведите соответствующее сообщение на экран. В противном случае выведите сообщение о том, какие символы повторяются. Не используйте множества и подобные структуры данных, которые мы пока не изучали, для проверки уникальности символов.\n",
    "\n",
    "\n",
    "# Variant 1\n",
    "s = input(\"Введите строку: \")\n",
    "r_chars = []   \n",
    "i = 0\n",
    "while i < len(s):  # проходим по каждому символу строки\n",
    "    if s.find(s[i], i+1) != -1 and s[i] not in r_chars:\n",
    "        r_chars.append(s[i])  # Добавляем повторяющийся символ            \n",
    "    i += 1  \n",
    "if r_chars:\n",
    "        print(f\"В строке есть повторяющиеся символы: {r_chars}\")\n",
    "else:\n",
    "        print(\"Все символы в строке уникальны.\")"
   ]
  },
  {
   "cell_type": "code",
   "execution_count": 16,
   "id": "220ef687-8213-4c36-b12c-b5f1c1fa3eb7",
   "metadata": {},
   "outputs": [
    {
     "name": "stdin",
     "output_type": "stream",
     "text": [
      "text>> hello\n"
     ]
    },
    {
     "name": "stdout",
     "output_type": "stream",
     "text": [
      "В строке есть повторяющиеся символы: ['l']\n"
     ]
    }
   ],
   "source": [
    "#2\n",
    "# Variant 2\n",
    "text = input('text>>')\n",
    "r_chars = []\n",
    "i = 0\n",
    "while i < len(text):\n",
    "    if text.count(text[i]) > 1 and text[i] not in r_chars:\n",
    "        r_chars.append(text[i])    \n",
    "    i += 1\n",
    "if s:\n",
    "        print(f\"В строке есть повторяющиеся символы: {r_chars}\")\n",
    "else:\n",
    "        print(\"Все символы в строке уникальны.\")"
   ]
  },
  {
   "cell_type": "code",
   "execution_count": 26,
   "id": "04472b97-3246-4725-a01c-82ae87f9c412",
   "metadata": {},
   "outputs": [
    {
     "name": "stdin",
     "output_type": "stream",
     "text": [
      "Введите строку:  Python\n",
      "Введите ширину:  10\n"
     ]
    },
    {
     "name": "stdout",
     "output_type": "stream",
     "text": [
      "*  Python  *\n"
     ]
    }
   ],
   "source": [
    "#3  Напишите программу, которая запрашивает у пользователя строку и выравнивает ее по центру с заданной шириной. Если строка не может быть выровнена по центру из-за нечетной ширины, она должна быть выровнена смещением вправо. Используйте методы center() и rjust() для выравнивания строки.\n",
    "s = input(\"Введите строку: \")\n",
    "d = int(input(\"Введите ширину: \"))\n",
    "while d<=len(s):\n",
    "    d = int(input(\"Ширина должна быть больше длины строки. Введите ширину: \"))\n",
    "if len(s)%2==d%2:\n",
    "    s = s.center(d)\n",
    "else:\n",
    "    s = s.rjust(d)\n",
    "print(f\"*{s}*\")"
   ]
  },
  {
   "cell_type": "code",
   "execution_count": 1,
   "id": "cb3ba0fa-f192-470d-8982-56e15e33a49c",
   "metadata": {},
   "outputs": [
    {
     "name": "stdout",
     "output_type": "stream",
     "text": [
      "Hello Adam, your balance is 230.2346.\n"
     ]
    }
   ],
   "source": [
    "print(\"Hello {}, your balance is {}.\".format(\"Adam\", 230.2346))"
   ]
  },
  {
   "cell_type": "code",
   "execution_count": 3,
   "id": "100201bd-e034-4fec-a072-f6302f85a5c7",
   "metadata": {},
   "outputs": [
    {
     "name": "stdout",
     "output_type": "stream",
     "text": [
      "Hello 230.2346, your balance is Adam.\n"
     ]
    }
   ],
   "source": [
    "print(\"Hello {1}, your balance is {0}.\".format(\"Adam\", 230.2346))"
   ]
  },
  {
   "cell_type": "code",
   "execution_count": 4,
   "id": "1e42048c-042b-4988-bcea-55ec38cc6381",
   "metadata": {},
   "outputs": [
    {
     "name": "stdout",
     "output_type": "stream",
     "text": [
      "  12.235\n"
     ]
    }
   ],
   "source": [
    "print(\"{:8.3f}\".format(12.2346))"
   ]
  },
  {
   "cell_type": "code",
   "execution_count": 5,
   "id": "d1abd3e1-1903-4844-b47f-c6b5b9322a53",
   "metadata": {},
   "outputs": [],
   "source": [
    "text1 = \"{0} {1} {0}\".format(\"I\", \"like\") # Вставка аргументов по индексу\n",
    "text2 = \"{name} is {age} years old\".format(name=\"John\", age=30)"
   ]
  },
  {
   "cell_type": "code",
   "execution_count": 7,
   "id": "a4c7b7db-d41b-4768-b9c5-8ed1b8f04d11",
   "metadata": {},
   "outputs": [
    {
     "name": "stdout",
     "output_type": "stream",
     "text": [
      "I like I\n"
     ]
    }
   ],
   "source": [
    "print (text1)"
   ]
  },
  {
   "cell_type": "code",
   "execution_count": 25,
   "id": "84e27487-3dc4-4f9c-a68c-32db64c16d59",
   "metadata": {},
   "outputs": [
    {
     "name": "stdin",
     "output_type": "stream",
     "text": [
      "Как тебя зовут?  Ольга\n",
      "Сколько тебе лет?  10\n"
     ]
    },
    {
     "name": "stdout",
     "output_type": "stream",
     "text": [
      "1. Привет Ольга, тебе 10 лет\n",
      "2. Привет Ольга, тебе 10 лет\n",
      "3. Привет Ольга, тебе 10 лет\n"
     ]
    }
   ],
   "source": [
    "name = input(\"Как тебя зовут? \")\n",
    "age = int(input(\"Сколько тебе лет? \"))\n",
    "print(\"1. Привет {}, тебе {} лет\".format(name, age))\n",
    "print(\"2. Привет %s, тебе %d лет\" % ( name, age))\n",
    "print(f\"3. Привет {name}, тебе {age} лет\")"
   ]
  },
  {
   "cell_type": "code",
   "execution_count": 9,
   "id": "16208d43-2209-40f6-940b-da02fe805bd6",
   "metadata": {},
   "outputs": [
    {
     "name": "stdout",
     "output_type": "stream",
     "text": [
      "This is number:   123\n",
      "This is number:  3456\n",
      "This is number:  6798\n",
      "This is number: 12345\n",
      "This is number:  4567\n"
     ]
    }
   ],
   "source": [
    "x = [123, 3456, 6798, 12345, 4567]\n",
    "d_length = len(str(max(x)))\n",
    "index = 0\n",
    "while index < len(x):\n",
    "    print(f'This is number: {x[index]:{d_length}d}' )\n",
    "    index += 1"
   ]
  },
  {
   "cell_type": "code",
   "execution_count": 10,
   "id": "0755101c-be96-4225-8726-7ba3bb60d566",
   "metadata": {},
   "outputs": [
    {
     "name": "stdout",
     "output_type": "stream",
     "text": [
      "*cat*\n"
     ]
    }
   ],
   "source": [
    "# динамический шаблон формата строки\n",
    "string = \"{:{fill}{align}{width}}\"\n",
    "# передача кодов формата в качестве аргументов\n",
    "print(string.format('cat', fill='*', align='^', width=5))\n"
   ]
  },
  {
   "cell_type": "code",
   "execution_count": 12,
   "id": "8a0051ea-5321-438b-a71d-24affceff8aa",
   "metadata": {},
   "outputs": [
    {
     "name": "stdin",
     "output_type": "stream",
     "text": [
      "name Ольга\n",
      "age 20\n"
     ]
    },
    {
     "name": "stdout",
     "output_type": "stream",
     "text": [
      "Hello, Ольга! You are 20 years old\n"
     ]
    }
   ],
   "source": [
    "template = 'Hello, {name}! You are {age} years old'\n",
    "name = input('name')\n",
    "age = int(input('age'))\n",
    "print(template.format (name = name, age = age))"
   ]
  },
  {
   "cell_type": "code",
   "execution_count": 13,
   "id": "21b56809-1c9a-4719-92e4-2fc35e72be70",
   "metadata": {},
   "outputs": [
    {
     "name": "stdout",
     "output_type": "stream",
     "text": [
      "My name is John and I'm 30 years old\n"
     ]
    }
   ],
   "source": [
    "name = \"John\"\n",
    "age = 30\n",
    "text = \"My name is %s and I'm %d years old\" % (name, age)\n",
    "print(text)"
   ]
  },
  {
   "cell_type": "code",
   "execution_count": 21,
   "id": "b8e20d13-3602-4187-a3fe-3c6a7daffd1b",
   "metadata": {},
   "outputs": [
    {
     "name": "stdout",
     "output_type": "stream",
     "text": [
      "Он сказал: \"Привет!\"\n",
      "Она сказала: 'Привет!'\n"
     ]
    }
   ],
   "source": [
    "print(\"Он сказал: \\\"Привет!\\\"\")  # Использование двойных кавычек внутри строки, заключенной в двойные кавычки\n",
    "print('Она сказала: \\'Привет!\\'' )  # Использование одинарных кавычек внутри строки, заключенной в одинарные кавычки"
   ]
  },
  {
   "cell_type": "code",
   "execution_count": null,
   "id": "66252227-e8b5-4cba-9c80-58f5a696b2d8",
   "metadata": {},
   "outputs": [],
   "source": [
    "name = \"John\"\n",
    "age = 30\n",
    "text = f\"My name is {name} and I'm {age} years old\""
   ]
  }
 ],
 "metadata": {
  "kernelspec": {
   "display_name": "Python 3 (ipykernel)",
   "language": "python",
   "name": "python3"
  },
  "language_info": {
   "codemirror_mode": {
    "name": "ipython",
    "version": 3
   },
   "file_extension": ".py",
   "mimetype": "text/x-python",
   "name": "python",
   "nbconvert_exporter": "python",
   "pygments_lexer": "ipython3",
   "version": "3.12.5"
  }
 },
 "nbformat": 4,
 "nbformat_minor": 5
}
