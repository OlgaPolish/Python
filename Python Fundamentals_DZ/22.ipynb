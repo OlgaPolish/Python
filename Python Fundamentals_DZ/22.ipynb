{
 "cells": [
  {
   "cell_type": "code",
   "execution_count": 58,
   "id": "c2db750b-90f6-43e8-a9e4-7cd82ff0d8a2",
   "metadata": {},
   "outputs": [
    {
     "name": "stdout",
     "output_type": "stream",
     "text": [
      "number1 < 0 or number2 < 0; number1 or number2 not int\n"
     ]
    }
   ],
   "source": [
    "# 1. Напишите программу, которая открывает файл, считывает из него два числа и выполняет операцию их деления. \n",
    "# Если число отрицательное, выбросите исключение ValueError с сообщением \"Число должно быть положительным\". \n",
    "# Обработайте исключение и выведите соответствующее сообщение.\n",
    "\n",
    "try:\n",
    "    with open('numbers.txt', 'r') as file:\n",
    "      \n",
    "        num1 = int(file.readline().strip())\n",
    "        num2 = int(file.readline().strip())\n",
    "        if num1 < 0 or num2 < 0:\n",
    "            raise ValueError\n",
    "        else:\n",
    "            print(f\"Числа: {num1, num2}\")\n",
    "            \n",
    "except (FileNotFoundError, ZeroDivisionError) as e:\n",
    "    print(f\"Ошибка: {e}\")\n",
    "except ValueError:\n",
    "    print('number1 < 0 or number2 < 0; number1 or number2 not int')"
   ]
  },
  {
   "cell_type": "code",
   "execution_count": 59,
   "id": "2a0902d2-b15a-491a-9390-12573cfa415e",
   "metadata": {},
   "outputs": [
    {
     "name": "stdout",
     "output_type": "stream",
     "text": [
      "Ошибка: [Errno 2] No such file or directory: 'numbers1.txt'\n"
     ]
    }
   ],
   "source": [
    "# 2. Напишите программу, которая открывает файл, считывает его содержимое и выполняет операции над числами в файле. \n",
    "# Обработайте возможные исключения при открытии файла (FileNotFoundError) и при выполнении операций над числами \n",
    "# (ValueError, ZeroDivisionError). Используйте конструкцию try-except-finally для обработки исключений \n",
    "# и закрытия файла в блоке finally.\n",
    "\n",
    "try:\n",
    "    file = open('numbers.txt', 'r')\n",
    "    content = file.read()\n",
    "    numbers = content.split()\n",
    "    result = int(numbers[0])\n",
    "    for number in numbers[1:]:\n",
    "            result /= int(number)\n",
    "    print(f\"Результат деления: {result}\")\n",
    "except (FileNotFoundError, ZeroDivisionError, ValueError) as e:\n",
    "    print(f\"Ошибка: {e}\")\n",
    "# except ZeroDivisionError:\n",
    "#    print(f\"Деление на ноль\")\n",
    "finally:\n",
    "    file.close()"
   ]
  }
 ],
 "metadata": {
  "kernelspec": {
   "display_name": "Python 3 (ipykernel)",
   "language": "python",
   "name": "python3"
  },
  "language_info": {
   "codemirror_mode": {
    "name": "ipython",
    "version": 3
   },
   "file_extension": ".py",
   "mimetype": "text/x-python",
   "name": "python",
   "nbconvert_exporter": "python",
   "pygments_lexer": "ipython3",
   "version": "3.12.5"
  }
 },
 "nbformat": 4,
 "nbformat_minor": 5
}
