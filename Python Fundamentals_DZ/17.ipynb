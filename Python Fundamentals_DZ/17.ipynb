{
 "cells": [
  {
   "cell_type": "code",
   "execution_count": 45,
   "id": "c509df8b-a0c6-427e-9315-3ad7c3d39342",
   "metadata": {},
   "outputs": [
    {
     "name": "stdin",
     "output_type": "stream",
     "text": [
      "Введите список чисел, разделенных пробелами:  1 2 3 4 5 \n"
     ]
    },
    {
     "name": "stdout",
     "output_type": "stream",
     "text": [
      "Измененный список чисел: [2, 1.0, 6, 2.0, 10]\n"
     ]
    }
   ],
   "source": [
    "''' 1. Напишите программу, которая принимает список чисел от пользователя и передает его в функцию modify_list, \n",
    "которая изменяет элементы списка. Функция должна умножить нечетные числа на 2, а четные числа разделить на 2.'''\n",
    "\n",
    "def modify_list(num):\n",
    "    for i in range(len(num)):\n",
    "        if num[i] % 2 == 0:  # Четное число\n",
    "            num[i] = num[i] / 2\n",
    "        else:  # Нечетное число\n",
    "            num[i] = num[i] * 2\n",
    "    return num\n",
    "\n",
    "user_input = input(\"Введите список чисел, разделенных пробелами: \")\n",
    "numbers = list(map(int, user_input.split()))\n",
    "modify_list(numbers)\n",
    "\n",
    "print(\"Измененный список чисел:\", numbers)"
   ]
  },
  {
   "cell_type": "code",
   "execution_count": 2,
   "id": "c3e5ca8f-0602-47f4-be78-9807c895cf0e",
   "metadata": {},
   "outputs": [
    {
     "name": "stdin",
     "output_type": "stream",
     "text": [
      "Введите список чисел:  1 2 3 4 5\n"
     ]
    },
    {
     "name": "stdout",
     "output_type": "stream",
     "text": [
      "[2, 1, 6, 2, 10]\n"
     ]
    }
   ],
   "source": [
    "d = map(int, input (\"Введите список чисел: \").split())\n",
    "modify_list = lambda item: item * 2 if item % 2 else item // 2\n",
    "res = list(map(modify_list, d))\n",
    "print(res)"
   ]
  },
  {
   "cell_type": "code",
   "execution_count": 35,
   "id": "4ba0fdea-4e8c-4492-a510-fa43863c8ed0",
   "metadata": {},
   "outputs": [
    {
     "name": "stdin",
     "output_type": "stream",
     "text": [
      "Введите список чисел, разделенных пробелами:  1 2 3 4 5\n"
     ]
    },
    {
     "name": "stdout",
     "output_type": "stream",
     "text": [
      "[1, 2, 3, 4, 5]\n",
      "Измененный список чисел: [2, 1.0, 6, 2.0, 10]\n"
     ]
    }
   ],
   "source": [
    "# c lambda функцией\n",
    "\n",
    "user_input = input(\"Введите список чисел, разделенных пробелами: \")\n",
    "\n",
    "numbers = list(map(int, user_input.split()))\n",
    "print(numbers)\n",
    "numbers = list(map(lambda num: num * 2 if num % 2 != 0 else num / 2, numbers))\n",
    "\n",
    "print(\"Измененный список чисел:\", numbers)"
   ]
  },
  {
   "cell_type": "code",
   "execution_count": 3,
   "id": "c5a9a112-3342-494e-9ffe-7018bbc4f36f",
   "metadata": {
    "jp-MarkdownHeadingCollapsed": true
   },
   "outputs": [
    {
     "name": "stdin",
     "output_type": "stream",
     "text": [
      "Введите числа, разделенные пробелами:  1 2 3 4 5\n"
     ]
    },
    {
     "name": "stdout",
     "output_type": "stream",
     "text": [
      "Сумма чисел: 15\n"
     ]
    }
   ],
   "source": [
    "'''Напишите программу, которая принимает произвольное количество аргументов от пользователя \n",
    " и передает их в функцию calculate_sum, которая возвращает сумму всех аргументов.'''\n",
    "\n",
    "def calculate_sum(*args):\n",
    "    return sum(*args)\n",
    "\n",
    "user_input = input(\"Введите числа, разделенные пробелами: \")\n",
    "\n",
    "numbers = list(map(int, user_input.split()))\n",
    "print(\"Сумма чисел:\", calculate_sum(numbers))"
   ]
  },
  {
   "cell_type": "code",
   "execution_count": null,
   "id": "e5e3b7db-1b01-4060-b6f8-28b511e55fb9",
   "metadata": {},
   "outputs": [],
   "source": []
  }
 ],
 "metadata": {
  "kernelspec": {
   "display_name": "Python 3 (ipykernel)",
   "language": "python",
   "name": "python3"
  },
  "language_info": {
   "codemirror_mode": {
    "name": "ipython",
    "version": 3
   },
   "file_extension": ".py",
   "mimetype": "text/x-python",
   "name": "python",
   "nbconvert_exporter": "python",
   "pygments_lexer": "ipython3",
   "version": "3.12.5"
  }
 },
 "nbformat": 4,
 "nbformat_minor": 5
}
