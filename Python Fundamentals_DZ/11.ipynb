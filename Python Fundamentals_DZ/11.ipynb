{
 "cells": [
  {
   "cell_type": "code",
   "execution_count": 5,
   "id": "7a3d149f-e077-41de-a650-182e4f664ad1",
   "metadata": {},
   "outputs": [
    {
     "name": "stdin",
     "output_type": "stream",
     "text": [
      "Как тебя зовут?  Olga\n",
      "Сколько тебе лет?  300\n",
      "Введите ваше место проживания:  Düsseldorf\n"
     ]
    },
    {
     "name": "stdout",
     "output_type": "stream",
     "text": [
      "1. Привет, меня зовут Olga. Мне 300 лет. Я живу в Düsseldorf.\n",
      "2. Привет, меня зовут Olga. Мне 300 лет. Я живу в Düsseldorf.\n",
      "3. Привет, меня зовут Olga. Мне 300 лет. Я живу в Düsseldorf.\n"
     ]
    }
   ],
   "source": [
    "#1\n",
    "name = input(\"Как тебя зовут? \")\n",
    "age = int(input(\"Сколько тебе лет? \"))\n",
    "city = input(\"Введите ваше место проживания: \")\n",
    "print(\"1. Привет, меня зовут {}. Мне {} лет. Я живу в {}.\".format(name, age, city))\n",
    "print(\"2. Привет, меня зовут %s. Мне %d лет. Я живу в %s.\" % ( name, age,city ))\n",
    "print(f\"3. Привет, меня зовут {name}. Мне {age} лет. Я живу в {city}.\")"
   ]
  },
  {
   "cell_type": "code",
   "execution_count": 4,
   "id": "e61618f3-3474-4bbb-b295-e2027d490b08",
   "metadata": {},
   "outputs": [
    {
     "name": "stdin",
     "output_type": "stream",
     "text": [
      "Введите первое число:  4.3215464\n",
      "Введите второе число:  2.654654654\n"
     ]
    },
    {
     "name": "stdout",
     "output_type": "stream",
     "text": [
      "Сумма: 6.98, Произведение: 11.47\n"
     ]
    }
   ],
   "source": [
    "#2\n",
    "num1 = float(input(\"Введите первое число: \"))\n",
    "num2 = float(input(\"Введите второе число: \"))\n",
    "print(f\"Сумма: {num1 + num2:.2f}, Произведение: {num1 * num2:.2f}\")"
   ]
  },
  {
   "cell_type": "code",
   "execution_count": 9,
   "id": "58702e76-c344-4347-8b1c-289c124436af",
   "metadata": {},
   "outputs": [
    {
     "name": "stdout",
     "output_type": "stream",
     "text": [
      "o\n"
     ]
    }
   ],
   "source": [
    "text= 'Hello'\n",
    "i=0\n",
    "while i < len (text) :\n",
    "    item =text[i]\n",
    "    i+=1\n",
    "print(item)"
   ]
  },
  {
   "cell_type": "code",
   "execution_count": 11,
   "id": "ba6f974a-798c-4c59-9aaf-767e23d1d27c",
   "metadata": {},
   "outputs": [
    {
     "name": "stdout",
     "output_type": "stream",
     "text": [
      "H*e*l*l*o*"
     ]
    }
   ],
   "source": [
    "text = 'Hello'\n",
    "\n",
    "for item in text:\n",
    "    print(item, end='*')"
   ]
  },
  {
   "cell_type": "code",
   "execution_count": 16,
   "id": "6e97b971-b062-43da-ac5f-8bc45863b224",
   "metadata": {},
   "outputs": [
    {
     "name": "stdout",
     "output_type": "stream",
     "text": [
      "H \n",
      "e \n",
      "l \n",
      "l \n",
      "o \n"
     ]
    }
   ],
   "source": [
    "text = 'Hello'\n",
    "\n",
    "for item in text:\n",
    "    print(item,'')"
   ]
  },
  {
   "cell_type": "code",
   "execution_count": 17,
   "id": "bce3e8f7-003f-446d-bf32-8d2e2d78d48e",
   "metadata": {},
   "outputs": [
    {
     "name": "stdout",
     "output_type": "stream",
     "text": [
      "56\n",
      "89\n",
      "12\n",
      "68\n"
     ]
    }
   ],
   "source": [
    "text = {12, 68, 89, 56}\n",
    "\n",
    "for item in text:\n",
    "    print(item)"
   ]
  },
  {
   "cell_type": "code",
   "execution_count": 20,
   "id": "9b2e67e8-41ad-419d-92e2-b989b1bc5840",
   "metadata": {},
   "outputs": [
    {
     "name": "stdout",
     "output_type": "stream",
     "text": [
      "12\n",
      "68\n",
      "89\n",
      "56\n"
     ]
    }
   ],
   "source": [
    "text = (12, 68, 89, 56)  # Кортеж\n",
    "\n",
    "for item in text:\n",
    "    print(item)"
   ]
  },
  {
   "cell_type": "code",
   "execution_count": 27,
   "id": "30be2517-cc59-4e9e-b737-78d29a7711eb",
   "metadata": {},
   "outputs": [
    {
     "name": "stdout",
     "output_type": "stream",
     "text": [
      "pltgtlbgndf\n"
     ]
    }
   ],
   "source": [
    "letters = 'plt0JFHgtlbgndfWLFNT'\n",
    "res =''\n",
    "for item in letters:\n",
    "    if item.islower():\n",
    "        res += item\n",
    "print(res)"
   ]
  },
  {
   "cell_type": "code",
   "execution_count": 25,
   "id": "ae256ab4-fb09-4c8e-8fbc-b41f08ffb5ec",
   "metadata": {},
   "outputs": [
    {
     "name": "stdout",
     "output_type": "stream",
     "text": [
      "Ablt0JFHgtlbgndfWLFNT\n"
     ]
    }
   ],
   "source": [
    "letters = 'Ablt0JFHgtlbgndfWLFNT'\n",
    "for letter in letters:\n",
    "    if letter.upper() == letter:\n",
    "        letters.replace(letter, '')\n",
    "print(letters)"
   ]
  },
  {
   "cell_type": "code",
   "execution_count": 29,
   "id": "00d01a78-7b54-422a-9e47-0eaadecd5187",
   "metadata": {},
   "outputs": [
    {
     "name": "stdout",
     "output_type": "stream",
     "text": [
      "pltgtlbgndf\n"
     ]
    }
   ],
   "source": [
    "res = ''. join(item for item in letters if item. islower())\n",
    "print(res)"
   ]
  },
  {
   "cell_type": "code",
   "execution_count": 30,
   "id": "98c0f0d6-7208-4a56-b7e1-369fc0a79b97",
   "metadata": {},
   "outputs": [
    {
     "name": "stdout",
     "output_type": "stream",
     "text": [
      "10 8 6 4\n"
     ]
    }
   ],
   "source": [
    "print(*range(10, 2, -2))"
   ]
  },
  {
   "cell_type": "code",
   "execution_count": 31,
   "id": "8fc789fc-a37a-42d9-87a6-ffcc8672bc36",
   "metadata": {},
   "outputs": [
    {
     "name": "stdout",
     "output_type": "stream",
     "text": [
      "0\n",
      "1\n",
      "2\n",
      "3\n",
      "4\n"
     ]
    }
   ],
   "source": [
    "for i in range(5):\n",
    "    print(i)"
   ]
  },
  {
   "cell_type": "code",
   "execution_count": 32,
   "id": "ac6ea51b-acbb-4dc1-aaf6-09bf724ef62e",
   "metadata": {},
   "outputs": [
    {
     "name": "stdout",
     "output_type": "stream",
     "text": [
      "4\n",
      "4\n",
      "4\n",
      "4\n",
      "4\n"
     ]
    }
   ],
   "source": [
    "for _ in range(5):\n",
    "    print(i)"
   ]
  },
  {
   "cell_type": "code",
   "execution_count": 35,
   "id": "92859afb-7fb8-422f-b068-111affa21099",
   "metadata": {},
   "outputs": [
    {
     "name": "stdout",
     "output_type": "stream",
     "text": [
      "(0, 'P') (1, 'y') (2, 't') (3, 'h') (4, 'i') (5, 'n')\n"
     ]
    }
   ],
   "source": [
    "x= 'Pythin'\n",
    "print(*enumerate(x))"
   ]
  },
  {
   "cell_type": "code",
   "execution_count": 36,
   "id": "93a8fa0c-105a-4bc5-a7f6-9a0d95ef4988",
   "metadata": {},
   "outputs": [
    {
     "name": "stdout",
     "output_type": "stream",
     "text": [
      "<enumerate object at 0x000002796830E840>\n"
     ]
    }
   ],
   "source": [
    "x= 'Pythin'\n",
    "print(enumerate(x))"
   ]
  },
  {
   "cell_type": "code",
   "execution_count": 38,
   "id": "27cf9b56-39d9-4c2e-aa64-f36f74ab69e8",
   "metadata": {},
   "outputs": [
    {
     "name": "stdout",
     "output_type": "stream",
     "text": [
      "0 12\n",
      "1 23\n",
      "2 3\n",
      "3 56\n",
      "4 67\n",
      "5 78\n",
      "\n",
      "5 78\n"
     ]
    }
   ],
   "source": [
    "x = [12, 23, 3, 56, 67, 78]\n",
    "res = ''\n",
    "for i, item in enumerate(x):\n",
    "    res += f'{i} {item}\\n'\n",
    "print(res)\n",
    "print(i, item)"
   ]
  },
  {
   "cell_type": "code",
   "execution_count": null,
   "id": "c2932849-397d-43f6-b1fd-69c6e9c34367",
   "metadata": {},
   "outputs": [],
   "source": [
    "x = ['apple', 'banana', 'orange']\n",
    "prices = [10, 20, 30]\n",
    "cart = [1, 2, 1.5]\n",
    "\n",
    "for item, price, quantity in zip(x, prices, cart):\n",
    "print(f'{item} {quantity} x {price} = {quantity * price} DKK')"
   ]
  },
  {
   "cell_type": "code",
   "execution_count": 39,
   "id": "79bf438f-e615-4d62-ba28-a99804da953c",
   "metadata": {},
   "outputs": [
    {
     "name": "stdout",
     "output_type": "stream",
     "text": [
      "apple 1 x 10 = 10 DKK\n",
      "banana 2 x 20 = 40 DKK\n",
      "orange 1.5 x 30 = 45.0 DKK\n",
      "Total: 95.0 DKK\n"
     ]
    }
   ],
   "source": [
    "x = ['apple', 'banana', 'orange']\n",
    "prices = [10, 20, 30]\n",
    "cart = [1, 2, 1.5]\n",
    "total = 0\n",
    "for item, price, quantity in zip(x, prices, cart):\n",
    "    print(f'{item} {quantity} x {price} = {quantity * price} DKK')\n",
    "    total += quantity * price\n",
    "print(f'Total: {total} DKK')"
   ]
  },
  {
   "cell_type": "code",
   "execution_count": null,
   "id": "a075ffe1-5d3c-4a05-af40-b3540fbdc5ea",
   "metadata": {},
   "outputs": [],
   "source": []
  }
 ],
 "metadata": {
  "kernelspec": {
   "display_name": "Python 3 (ipykernel)",
   "language": "python",
   "name": "python3"
  },
  "language_info": {
   "codemirror_mode": {
    "name": "ipython",
    "version": 3
   },
   "file_extension": ".py",
   "mimetype": "text/x-python",
   "name": "python",
   "nbconvert_exporter": "python",
   "pygments_lexer": "ipython3",
   "version": "3.12.5"
  }
 },
 "nbformat": 4,
 "nbformat_minor": 5
}
