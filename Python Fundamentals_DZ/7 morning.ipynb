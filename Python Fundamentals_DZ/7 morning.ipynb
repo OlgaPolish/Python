{
 "cells": [
  {
   "cell_type": "code",
   "execution_count": 1,
   "id": "b236ed19-d368-4b79-8d22-38f7d86487bb",
   "metadata": {},
   "outputs": [
    {
     "name": "stdin",
     "output_type": "stream",
     "text": [
      "Введите десятичное число:  123\n"
     ]
    },
    {
     "name": "stdout",
     "output_type": "stream",
     "text": [
      "Двоичное число 1111011\n"
     ]
    }
   ],
   "source": [
    "#1\n",
    "dec_n = int(input(\"Введите десятичное число: \"))\n",
    "bin_n = \"\"\n",
    "while dec_n > 0:\n",
    "    vrem = dec_n % 2 # 0 - делится без остатка,  1 - с остатком\n",
    "    bin_n = str(vrem) + bin_n\n",
    "    dec_n = dec_n // 2 # выполняет целочисленное деление числа dec_n на 2. Результат деления будет округлен вниз до ближайшего целого числа.\n",
    "\n",
    "print(f'Двоичное число {bin_n}')"
   ]
  },
  {
   "cell_type": "code",
   "execution_count": 31,
   "id": "ebc13bd4-851b-4817-a2f3-e6cf88407ca9",
   "metadata": {},
   "outputs": [
    {
     "name": "stdin",
     "output_type": "stream",
     "text": [
      "Введите вещественное число:  -7.8\n"
     ]
    },
    {
     "name": "stdout",
     "output_type": "stream",
     "text": [
      "Округленное значение: -8\n"
     ]
    }
   ],
   "source": [
    "#2\n",
    "#Напишите программу, принимающую число с плавающей точкой и округляющую его до\n",
    "#целого числа в соответствии с правилами школьной математики. Использовать модуль\n",
    "#math и методы из него нельзя. Учесть, что программа должна корректно работать с\n",
    "#отрицательными числами.\n",
    "num = float(input(\"Введите вещественное число: \"))\n",
    "int_n = int(num)\n",
    "dec_n = num - int_n  \n",
    "\n",
    "if abs(dec_n) >= 0.5:\n",
    "    print(\"Округленное значение:\", int_n - 1) if int_n < 0 else print(\"Округленное значение:\", int_n + 1)\n",
    "else:\n",
    "    print(\"Округленное значение:\", int_n)"
   ]
  },
  {
   "cell_type": "code",
   "execution_count": null,
   "id": "154e2e0f-62d5-423f-9ed5-1e4180f3a40f",
   "metadata": {},
   "outputs": [],
   "source": []
  }
 ],
 "metadata": {
  "kernelspec": {
   "display_name": "Python 3 (ipykernel)",
   "language": "python",
   "name": "python3"
  },
  "language_info": {
   "codemirror_mode": {
    "name": "ipython",
    "version": 3
   },
   "file_extension": ".py",
   "mimetype": "text/x-python",
   "name": "python",
   "nbconvert_exporter": "python",
   "pygments_lexer": "ipython3",
   "version": "3.12.5"
  }
 },
 "nbformat": 4,
 "nbformat_minor": 5
}
