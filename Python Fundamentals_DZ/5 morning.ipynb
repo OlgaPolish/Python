{
 "cells": [
  {
   "cell_type": "code",
   "execution_count": 16,
   "id": "0bd570db-2e76-4880-8519-0592a9d9f2dd",
   "metadata": {},
   "outputs": [
    {
     "name": "stdin",
     "output_type": "stream",
     "text": [
      "Введите первое число:  5\n",
      "Введите второе число:  2\n",
      "Введите третье число:  7\n"
     ]
    },
    {
     "name": "stdout",
     "output_type": "stream",
     "text": [
      "Числа в порядке возрастания: 2 5 7\n"
     ]
    }
   ],
   "source": [
    "num1 = int(input(\"Введите первое число: \"))\n",
    "num2 = int(input(\"Введите второе число: \"))\n",
    "num3 = int(input(\"Введите третье число: \"))\n",
    "\n",
    "# Сортируем по возрастанию\n",
    "\n",
    "if num1 > num2:\n",
    "    num1, num2 = num2, num1\n",
    "if num2 > num3:\n",
    "    num2, num3 = num3, num2\n",
    "if num1 > num2:\n",
    "    num1, num2 = num2, num1\n",
    "print(\"Числа в порядке возрастания:\",num1, num2, num3 )"
   ]
  },
  {
   "cell_type": "code",
   "execution_count": 40,
   "id": "574f9e52-d046-48d3-b381-05e4ecb34f2a",
   "metadata": {
    "editable": true,
    "slideshow": {
     "slide_type": ""
    },
    "tags": []
   },
   "outputs": [
    {
     "name": "stdin",
     "output_type": "stream",
     "text": [
      "Введите год:  2024\n"
     ]
    },
    {
     "name": "stdout",
     "output_type": "stream",
     "text": [
      "2024 год - високосный\n"
     ]
    }
   ],
   "source": [
    "# Год делится на 400 - високосный.\n",
    "# Год не делится на 100, но делится на 4 - високосный.\n",
    "# Во всех остальных случаях - не високосный.\n",
    "\n",
    "year = int(input(\"Введите год: \"))\n",
    "\n",
    "if (not year % 400) or (not year % 4 and year % 100):\n",
    "    str1 = 'високосный'\n",
    "else:\n",
    "    str1 = 'не високосный'\n",
    "print(f\"{year} год - {str1}\")\n"
   ]
  },
  {
   "cell_type": "code",
   "execution_count": null,
   "id": "0f2db8a3-ea21-49fe-9db4-81fc5cc1171d",
   "metadata": {
    "editable": true,
    "slideshow": {
     "slide_type": ""
    },
    "tags": []
   },
   "outputs": [],
   "source": []
  }
 ],
 "metadata": {
  "kernelspec": {
   "display_name": "Python 3 (ipykernel)",
   "language": "python",
   "name": "python3"
  },
  "language_info": {
   "codemirror_mode": {
    "name": "ipython",
    "version": 3
   },
   "file_extension": ".py",
   "mimetype": "text/x-python",
   "name": "python",
   "nbconvert_exporter": "python",
   "pygments_lexer": "ipython3",
   "version": "3.12.5"
  }
 },
 "nbformat": 4,
 "nbformat_minor": 5
}
