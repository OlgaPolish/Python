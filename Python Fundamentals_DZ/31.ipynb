{
 "cells": [
  {
   "cell_type": "code",
   "execution_count": 1,
   "id": "07c724da-78e2-43eb-b256-a50bcfd890c8",
   "metadata": {},
   "outputs": [
    {
     "name": "stdout",
     "output_type": "stream",
     "text": [
      "\n",
      "Привет, Анна! Тебе 25 лет.\n",
      "\n",
      "Ошибка: Аргумент 1 должен быть типа int, но получен str.\n"
     ]
    }
   ],
   "source": [
    "#  1. Напишите декоратор validate_args, который будет проверять типы аргументов функции и выводить сообщение об ошибке, \n",
    "# если переданы аргументы неправильного типа. Декоратор должен принимать ожидаемые типы аргументов в качестве параметров.\n",
    "\n",
    "def validate_args(*expected_types):\n",
    "    def decorator(func):\n",
    "        def wrapper(*args, **kwargs):\n",
    "             for i, (arg, types) in enumerate(zip(args, expected_types)):\n",
    "                if not isinstance(arg, types):\n",
    "                    print(f\"Ошибка: Аргумент {i+1} должен быть типа {types.__name__}, но получен {type(arg).__name__}.\")\n",
    "                    return\n",
    "            return func(*args, **kwargs)\n",
    "        return wrapper\n",
    "    return decorator\n",
    "\n",
    "# Пример использования:\n",
    "@validate_args(int, str)\n",
    "def greet(age, name):\n",
    "    print(f\"Привет, {name}! Тебе {age} лет.\")\n",
    "\n",
    "greet(25, \"Анна\")  # Все аргументы имеют правильные типы\n",
    "greet(\"25\", \"Анна\")  # Возникнет исключение TypeError"
   ]
  },
  {
   "cell_type": "code",
   "execution_count": 4,
   "id": "79be139f-fcb9-4959-9f25-ff8545a162f0",
   "metadata": {},
   "outputs": [
    {
     "data": {
      "text/plain": [
       "12"
      ]
     },
     "execution_count": 4,
     "metadata": {},
     "output_type": "execute_result"
    }
   ],
   "source": [
    "import logging\n",
    "\n",
    "level = logging.INFO\n",
    "handlers = [logging.FileHandler('E:/log.txt')]\n",
    "logging.basicConfig(level=level, handlers=handlers)\n",
    "\n",
    "def log_args(func):\n",
    "    def wrapper(*args):\n",
    "        res = func(*args)\n",
    "        logging.info(f'Аргументы {args}, результат {res}')\n",
    "        return res  # Возврат результата\n",
    "    return wrapper\n",
    "\n",
    "@log_args\n",
    "def add(a, b):\n",
    "    return a + b\n",
    "\n",
    "add(10, 3)\n",
    "add(5, 7)\n"
   ]
  }
 ],
 "metadata": {
  "kernelspec": {
   "display_name": "Python 3 (ipykernel)",
   "language": "python",
   "name": "python3"
  },
  "language_info": {
   "codemirror_mode": {
    "name": "ipython",
    "version": 3
   },
   "file_extension": ".py",
   "mimetype": "text/x-python",
   "name": "python",
   "nbconvert_exporter": "python",
   "pygments_lexer": "ipython3",
   "version": "3.12.5"
  }
 },
 "nbformat": 4,
 "nbformat_minor": 5
}
