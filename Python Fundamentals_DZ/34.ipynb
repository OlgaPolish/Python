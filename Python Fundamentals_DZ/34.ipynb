{
 "cells": [
  {
   "cell_type": "code",
   "execution_count": 7,
   "id": "f16adb04-cbf7-4bc7-8df4-6d046dfcf69a",
   "metadata": {},
   "outputs": [
    {
     "name": "stdout",
     "output_type": "stream",
     "text": [
      "['info@example.com', 'support@example.com']\n"
     ]
    }
   ],
   "source": [
    "# Напишите функцию extract_emails(text), которая извлекает все адреса электронной почты \n",
    "# из заданного текста и возвращает их в виде списка.\n",
    "# Пример использования:\n",
    "# text = \"Contact us at info@example.com or support@example.com for assistance.\"\n",
    "\n",
    "import re\n",
    "\n",
    "def extract_emails(text):\n",
    "    pattern = r'[a-zA-Z0-9._%+-]+@[a-zA-Z0-9.-]+\\.[a-zA-Z]{2,}'\n",
    "   \n",
    "    emails = re.findall(pattern, text)\n",
    "    return emails\n",
    "\n",
    "# Пример использования\n",
    "text = \"Contact us at info@example.com or support@example.com for assistance.\"\n",
    "emails = extract_emails(text)\n",
    "print(emails) "
   ]
  },
  {
   "cell_type": "code",
   "execution_count": 3,
   "id": "2d2af5b4-9789-4c01-91eb-23f766b2674a",
   "metadata": {},
   "outputs": [
    {
     "name": "stdout",
     "output_type": "stream",
     "text": [
      "python\n",
      "programming\n",
      "This is a sample text. We need to highlight *Python* and *programming*.\n"
     ]
    }
   ],
   "source": [
    "# Напишите функцию highlight_keywords(text, keywords), которая выделяет все вхождения\n",
    "# заданных ключевых слов в тексте, окружая их символами *. Функция должна быть регистронезависимой \n",
    "# при поиске ключевых слов.\n",
    "\n",
    "import re\n",
    "\n",
    "def highlight_keywords(text, keywords):\n",
    "    for k in keywords:\n",
    "        text=re.sub(f\"({k})\", r'*\\1*', text, flags=re.IGNORECASE)\n",
    "    return text\n",
    "\n",
    "text = \"This is a sample text. We need to highlight Python and programming.\"\n",
    "keywords = [\"python\", \"programming\"]\n",
    "highlighted_text = highlight_keywords(text, keywords)\n",
    "print(highlighted_text) \n"
   ]
  }
 ],
 "metadata": {
  "kernelspec": {
   "display_name": "Python 3 (ipykernel)",
   "language": "python",
   "name": "python3"
  },
  "language_info": {
   "codemirror_mode": {
    "name": "ipython",
    "version": 3
   },
   "file_extension": ".py",
   "mimetype": "text/x-python",
   "name": "python",
   "nbconvert_exporter": "python",
   "pygments_lexer": "ipython3",
   "version": "3.12.5"
  }
 },
 "nbformat": 4,
 "nbformat_minor": 5
}
