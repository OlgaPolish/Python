{
 "cells": [
  {
   "cell_type": "code",
   "execution_count": 29,
   "id": "04fa4fef-a567-4763-967e-dd1cb6787671",
   "metadata": {},
   "outputs": [
    {
     "name": "stdout",
     "output_type": "stream",
     "text": [
      "Введенный текст: Lorem ipsum dolor sit amet, consectetur adipiscing elit. Sed sed lacinia est.\n",
      "sed: 2\n",
      "lorem: 1\n"
     ]
    }
   ],
   "source": [
    "# 1. Напишите программу, которая подсчитывает количество вхождений каждого слова в тексте \n",
    "# и выводит на экран наиболее часто встречающиеся слова. Для решения задачи используйте \n",
    "# класс Counter из модуля collections. Создайте функцию count_words, которая принимает \n",
    "# текст в качестве аргумента и возвращает словарь с количеством вхождений каждого слова.\n",
    "# Выведите наиболее часто встречающиеся слова и их количество.\n",
    "\n",
    "from collections import Counter\n",
    "\n",
    "def count_words(text):\n",
    "    words = text.lower().replace(\",\",\"\").replace(\".\",\"\").split()\n",
    "    return Counter(words)\n",
    "\n",
    "text = \"Lorem ipsum dolor sit amet, consectetur adipiscing elit. Sed sed lacinia est.\"\n",
    "word_count = count_words(text)\n",
    "top_2 = word_count.most_common(2)  # 2 наиболее часто встречающихся слова\n",
    "print(\"Введенный текст:\", text)\n",
    "for word, count in top_2:\n",
    "    print(f\"{word}: {count}\")"
   ]
  },
  {
   "cell_type": "code",
   "execution_count": 31,
   "id": "415bbc57-f10f-40af-a1a9-dba5cf0b3379",
   "metadata": {},
   "outputs": [
    {
     "name": "stdout",
     "output_type": "stream",
     "text": [
      "Name: Alice, Age: 25, City: New York\n",
      "Name: Bob, Age: 30, City: London\n",
      "Name: Carol, Age: 35, City: Paris\n"
     ]
    }
   ],
   "source": [
    "# 2. Напишите программу, которая создает именованный кортеж Person для хранения \n",
    "# информации о человеке, включающий поля name, age и city. Создайте \n",
    "# список объектов Person и выведите информацию о каждом человеке на экран.\n",
    "\n",
    "from collections import namedtuple\n",
    "\n",
    "Person = namedtuple('Person', ['name', 'age', 'city'])\n",
    "\n",
    "people = [\n",
    "    Person(\"Alice\", 25, \"New York\"),\n",
    "    Person(\"Bob\", 30, \"London\"),\n",
    "    Person(\"Carol\", 35, \"Paris\"),\n",
    "]\n",
    "\n",
    "for person in people:\n",
    "    print(f\"Name: {person.name}, Age: {person.age}, City: {person.city}\")"
   ]
  },
  {
   "cell_type": "code",
   "execution_count": 38,
   "id": "ce7075b9-f494-4547-bc74-171489e0c858",
   "metadata": {},
   "outputs": [
    {
     "data": {
      "text/plain": [
       "'[\\n    [\\n        \"Alice\",\\n        25,\\n        \"New York\"\\n    ],\\n    [\\n        \"Bob\",\\n        30,\\n        \"London\"\\n    ],\\n    [\\n        \"Carol\",\\n        35,\\n        \"Paris\"\\n    ]\\n]'"
      ]
     },
     "execution_count": 38,
     "metadata": {},
     "output_type": "execute_result"
    }
   ],
   "source": [
    "import json\n",
    "res = json. dumps (people, indent=4)\n",
    "res"
   ]
  },
  {
   "cell_type": "code",
   "execution_count": 39,
   "id": "3a5928ac-a725-427b-bbaa-be033a5129b8",
   "metadata": {},
   "outputs": [
    {
     "name": "stdout",
     "output_type": "stream",
     "text": [
      "[['Alice', 25, 'New York'], ['Bob', 30, 'London'], ['Carol', 35, 'Paris']]\n"
     ]
    }
   ],
   "source": [
    "res = json. loads (res)\n",
    "print(res)"
   ]
  },
  {
   "cell_type": "code",
   "execution_count": 40,
   "id": "07dfec72-95ee-465c-a477-9edaf5ea988d",
   "metadata": {},
   "outputs": [
    {
     "name": "stdin",
     "output_type": "stream",
     "text": [
      "key= banana\n",
      "get (G) / setdefault (S)?  poi\n"
     ]
    },
    {
     "name": "stdout",
     "output_type": "stream",
     "text": [
      "Undefined method\n"
     ]
    }
   ],
   "source": [
    "# 3. Напишите программу, которая принимает словарь от пользователя и ключ, \n",
    "# и возвращает значение для указанного ключа с использованием метода get или setdefault. \n",
    "# Создайте функцию get_value_from_dict, которая принимает словарь и ключ \n",
    "# в качестве аргументов, и возвращает значение для указанного ключа, используя \n",
    "# метод get или setdefault в зависимости от выбранного варианта. \n",
    "# Выведите полученное значение на экран.\n",
    "\n",
    "def get_value_from_dict(my_dict, key, method) :\n",
    "    if method.lower() == 'g':\n",
    "        return my_dict.get(key)\n",
    "    \n",
    "    if method. lower() == 's':\n",
    "        return my_dict.setdefault(key, None)\n",
    "    \n",
    "    raise ValueError('Undefined method')\n",
    "\n",
    "my_dict = {'apple': 5, 'banana': 6, 'cherry': 7}\n",
    "key = input('key=')\n",
    "method = input('get (G) / setdefault (S)? ')\n",
    "\n",
    "try:\n",
    "    res = get_value_from_dict(my_dict, key, method)\n",
    "    print(res)\n",
    "    print(my_dict)\n",
    "except Exception as error:\n",
    "    print(error)"
   ]
  },
  {
   "cell_type": "code",
   "execution_count": null,
   "id": "ca0b3820-fd2e-42b4-b4f3-46de38156374",
   "metadata": {},
   "outputs": [],
   "source": []
  }
 ],
 "metadata": {
  "kernelspec": {
   "display_name": "Python 3 (ipykernel)",
   "language": "python",
   "name": "python3"
  },
  "language_info": {
   "codemirror_mode": {
    "name": "ipython",
    "version": 3
   },
   "file_extension": ".py",
   "mimetype": "text/x-python",
   "name": "python",
   "nbconvert_exporter": "python",
   "pygments_lexer": "ipython3",
   "version": "3.12.5"
  }
 },
 "nbformat": 4,
 "nbformat_minor": 5
}
