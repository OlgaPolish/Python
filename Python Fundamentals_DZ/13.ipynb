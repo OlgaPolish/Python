{
 "cells": [
  {
   "cell_type": "code",
   "execution_count": 2,
   "id": "82a70356-c51b-4921-9ed5-28ecf63d1955",
   "metadata": {},
   "outputs": [
    {
     "name": "stdin",
     "output_type": "stream",
     "text": [
      "Введите первое число:  3\n",
      "Введите второе число:  4\n"
     ]
    },
    {
     "name": "stdout",
     "output_type": "stream",
     "text": [
      "Сумма и произведение чисел: (7, 12)\n"
     ]
    }
   ],
   "source": [
    "def sum_and_product(x, y):\n",
    "    return x + y, x * y\n",
    "\n",
    "first_number = int(input(\"Введите первое число: \"))\n",
    "second_number = int(input(\"Введите второе число: \"))\n",
    "\n",
    "result = sum_and_product(first_number, second_number)\n",
    "\n",
    "print(\"Сумма и произведение чисел:\", result)"
   ]
  },
  {
   "cell_type": "code",
   "execution_count": 2,
   "id": "bd096d6d-ea60-4ef2-a10b-f6a808daee6e",
   "metadata": {},
   "outputs": [
    {
     "name": "stdin",
     "output_type": "stream",
     "text": [
      "Введите числа через запятую:  3, 7, 2, 9, 1, 5\n"
     ]
    },
    {
     "name": "stdout",
     "output_type": "stream",
     "text": [
      "Сумма чисел: 27\n",
      "Минимальное значение: 1\n",
      "Максимальное значение: 9\n"
     ]
    }
   ],
   "source": [
    "def sum_min_max(numbers):\n",
    "    total = sum(numbers)\n",
    "    min_value = min(numbers)\n",
    "    max_value = max(numbers)\n",
    "    return total, min_value, max_value\n",
    "\n",
    "input_numbers = list(map(int, input(\"Введите числа через запятую: \").split(',')))\n",
    "result = sum_min_max(input_numbers)\n",
    "\n",
    "print(\"Сумма чисел:\", result[0])\n",
    "print(\"Минимальное значение:\", result[1])\n",
    "print(\"Максимальное значение:\", result[2])"
   ]
  },
  {
   "cell_type": "code",
   "execution_count": null,
   "id": "21861a08-2994-4339-8705-e80c9113de36",
   "metadata": {},
   "outputs": [],
   "source": []
  }
 ],
 "metadata": {
  "kernelspec": {
   "display_name": "Python 3 (ipykernel)",
   "language": "python",
   "name": "python3"
  },
  "language_info": {
   "codemirror_mode": {
    "name": "ipython",
    "version": 3
   },
   "file_extension": ".py",
   "mimetype": "text/x-python",
   "name": "python",
   "nbconvert_exporter": "python",
   "pygments_lexer": "ipython3",
   "version": "3.12.5"
  }
 },
 "nbformat": 4,
 "nbformat_minor": 5
}
