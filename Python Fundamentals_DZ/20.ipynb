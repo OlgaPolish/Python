{
 "cells": [
  {
   "cell_type": "code",
   "execution_count": 13,
   "id": "d39416a2-ed3f-4a20-8ac1-89662b076816",
   "metadata": {},
   "outputs": [
    {
     "name": "stdout",
     "output_type": "stream",
     "text": [
      "{'a': [1], 'b': [2, 3], 'c': [4, 5], 'd': [6]}\n"
     ]
    }
   ],
   "source": [
    "# Напишите функцию merge_dicts, которая принимает произвольное количество словарей \n",
    "# в качестве аргументов и возвращает новый словарь, объединяющий все входные словари. \n",
    "# Если ключи повторяются, значения должны быть объединены в список. \n",
    "# Функция должна использовать аргумент **kwargs для принятия произвольного числа аргументов словаря.\n",
    "\n",
    "#  Вариант 1\n",
    "def merge_dicts(**kwargs):\n",
    "    result = {}\n",
    "\n",
    "    for d in kwargs.values():\n",
    "        for key, value in d.items():\n",
    "            # if key in result:            \n",
    "            #     result[key].append(value)\n",
    "            # else:\n",
    "            #     result[key] = [value]\n",
    "            \n",
    "            result[key] = result[key] + [value] if key in result else [value]\n",
    "\n",
    "    return result\n",
    "    \n",
    "result = merge_dicts(\n",
    "    d1={'a': 1, 'b': 2},\n",
    "    d2={'b': 3, 'c': 4},\n",
    "    d3={'c': 5, 'd': 6}\n",
    ")\n",
    "\n",
    "print(result)"
   ]
  },
  {
   "cell_type": "code",
   "execution_count": 14,
   "id": "7d802605-e3ff-46c6-b267-ede36361de98",
   "metadata": {},
   "outputs": [
    {
     "name": "stdout",
     "output_type": "stream",
     "text": [
      "{'a': [1], 'b': [2, 3], 'c': [4, 5], 'd': [6]}\n"
     ]
    }
   ],
   "source": [
    "#  Вариант 2\n",
    "\n",
    "def merge_dicts(*kwargs):\n",
    "    result = {}\n",
    "    for d in kwargs:\n",
    "        for key, value in d.items():\n",
    "            result[key] = result.get(key, []) + [value]\n",
    "    \n",
    "    return result\n",
    "    \n",
    "d1 = {'a': 1, 'b': 2}\n",
    "d2 = {'b': 3, 'c': 4}\n",
    "d3 = {'c': 5, 'd': 6}\n",
    "result = merge_dicts(d1, d2, d3)\n",
    "print(result)"
   ]
  },
  {
   "cell_type": "code",
   "execution_count": 15,
   "id": "f5d01b70-4d4f-4a9a-8db7-04d426f2c0d5",
   "metadata": {},
   "outputs": [
    {
     "name": "stdin",
     "output_type": "stream",
     "text": [
      "Введите строку:  hello\n"
     ]
    },
    {
     "name": "stdout",
     "output_type": "stream",
     "text": [
      "Количество уникальных символов: 4\n"
     ]
    }
   ],
   "source": [
    "# Напишите программу, которая принимает строку от пользователя и подсчитывает количество \n",
    "# уникальных символов в этой строке. Создайте функцию count_unique_chars, которая принимает строку \n",
    "# и возвращает количество уникальных символов. Выведите результат на экран.\n",
    "\n",
    "def count_unique_chars(input_string):\n",
    "    unique_chars = set(input_string)\n",
    "    return len(unique_chars)\n",
    "\n",
    "user_input = input(\"Введите строку: \")\n",
    "\n",
    "result = count_unique_chars(user_input)\n",
    "print(f\"Количество уникальных символов: {result}\")"
   ]
  },
  {
   "cell_type": "code",
   "execution_count": 20,
   "id": "78edce7b-12f5-41c6-8131-bca0b379bad5",
   "metadata": {},
   "outputs": [
    {
     "name": "stdout",
     "output_type": "stream",
     "text": [
      "{'Alice': 89.0, 'Bob': 80.67, 'Carol': 91.67}\n"
     ]
    }
   ],
   "source": [
    "# Напишите программу, которая создает словарь, содержащий информацию о студентах и их оценках. \n",
    "# Ключами словаря являются имена студентов, а значениями - списки оценок. \n",
    "# Создайте функцию calculate_average_grade, которая принимает словарь с оценками студентов \n",
    "# и вычисляет средний балл для каждого студента. Функция должна возвращать новый словарь, \n",
    "# в котором ключами являются имена студентов, а значениями - их средний балл. Выведите результат на экран.\n",
    "\n",
    "def calculate_average_grade(grades):\n",
    "    set1 = {}\n",
    "    for student, scores in grades.items():\n",
    "        set1[student] = round(sum(scores) / len(scores), 2)\n",
    "    return set1\n",
    "\n",
    "# Пример словаря с оценками\n",
    "dict1 = {\n",
    "    'Alice': [85, 90, 92],\n",
    "    'Bob': [78, 80, 84],\n",
    "    'Carol': [92, 88, 95]\n",
    "}\n",
    "\n",
    "# Вычисляем средний балл\n",
    "dict2 = calculate_average_grade(dict1)\n",
    "\n",
    "print(dict2)"
   ]
  },
  {
   "cell_type": "code",
   "execution_count": 45,
   "id": "706c37b7-fdb6-4098-b3ba-d1f47a2a1ea7",
   "metadata": {},
   "outputs": [
    {
     "name": "stdout",
     "output_type": "stream",
     "text": [
      "-2\n",
      "{11: True}\n",
      "7\n",
      "{11: True, 2: True}\n",
      "4\n",
      "{11: True, 2: True, 5: True}\n",
      "[2, 7]\n"
     ]
    }
   ],
   "source": [
    "def two_sum(nums, target):\n",
    "    seen = {}\n",
    "    for num in nums:\n",
    "        complement = target - num\n",
    "        if complement in seen:\n",
    "            return [complement, num]\n",
    "        seen[num] = True\n",
    "        print(complement)\n",
    "        print(seen)\n",
    "    return []\n",
    "print(two_sum([11,2, 5, 7, 11,15],9))   "
   ]
  },
  {
   "cell_type": "code",
   "execution_count": 51,
   "id": "795c2357-77e1-4904-99ad-48049db45ba3",
   "metadata": {},
   "outputs": [
    {
     "name": "stdout",
     "output_type": "stream",
     "text": [
      "Name: Alice, Age: 39, City: New York\n",
      "Name: Alice, Age: 39, City: New York\n",
      "Name: Alice, Age: 39, City: New York\n"
     ]
    }
   ],
   "source": [
    "def format_user_info(name, age, city):\n",
    "# Format user information\n",
    "    user_info = 'Name: %s, Age: %d, City: %s' % (name, age, city)\n",
    "    print (user_info)\n",
    "# Using f-string\n",
    "    user_info = f'Name: {name}, Age: {age}, City: {city}'\n",
    "    print (user_info)\n",
    "# Attempt to use .format()\n",
    "    user_info = 'Name: {0}, Age: {1}, City: {2}'.format(name, age, city)\n",
    "\n",
    "    print (user_info)\n",
    "\n",
    "# Test the function\n",
    "\n",
    "format_user_info('Alice', 39, 'New York')"
   ]
  },
  {
   "cell_type": "code",
   "execution_count": 52,
   "id": "d9286f1d-72ea-405e-9da3-0f9b70ae1b44",
   "metadata": {},
   "outputs": [
    {
     "name": "stdout",
     "output_type": "stream",
     "text": [
      "35.532000000000004\n"
     ]
    }
   ],
   "source": [
    "from typing import List, Tuple\n",
    "\n",
    "def calculate_total(items: List[Tuple[str, float, int]], tax_rate: float, discount: float) -> float:\n",
    "    total: float = 0.0\n",
    "    for item_name, price, quantity in items:\n",
    "        item_total = price * quantity\n",
    "        total += item_total\n",
    "    if discount > 0:\n",
    "        total -= total * (discount / 100)\n",
    "    return total\n",
    "\n",
    "cart_items = [('Book', 15.99, 2), ('Pen', 1.50, 5)]\n",
    "print(calculate_total(cart_items, 5, 10))"
   ]
  },
  {
   "cell_type": "code",
   "execution_count": 57,
   "id": "f36d596f-ab35-4dbc-98ee-0770f8e3cfe2",
   "metadata": {},
   "outputs": [
    {
     "name": "stdout",
     "output_type": "stream",
     "text": [
      "{'a': 0}\n",
      "{'a': 0, 'b': 1}\n",
      "{'a': 0, 'b': 1, 'c': 2}\n",
      "{'a': 3, 'b': 1, 'c': 2}\n",
      "{'a': 3, 'b': 4, 'c': 2}\n",
      "{'a': 3, 'b': 4, 'c': 5}\n",
      "{'a': 3, 'b': 6, 'c': 5}\n",
      "{'a': 3, 'b': 7, 'c': 5}\n",
      "3\n"
     ]
    }
   ],
   "source": [
    "def length_of_longest_substring(s):\n",
    "    char_index={};max_length=start=0\n",
    "    for i,char in enumerate(s):\n",
    "        if char in char_index:  #Если символ уже встречался, то:\n",
    "            start=max(start,char_index[char]+1) #Обновляется индекс начала текущей подстроки, чтобы он начинался после последнего вхождения повторяющегося символа.\n",
    "        char_index[char]=i\n",
    "        max_length=max(max_length,i-start+1) #Вычисляется длина текущей подстроки и обновляется максимальная длина, если текущая больше.\n",
    "        # print(char, max_length, start)\n",
    "        print (char_index)\n",
    "    return max_length\n",
    "print(length_of_longest_substring('abcabcbb'))"
   ]
  },
  {
   "cell_type": "code",
   "execution_count": 60,
   "id": "dc1a7480-7383-4374-9a8f-f4f075800c70",
   "metadata": {},
   "outputs": [
    {
     "name": "stdout",
     "output_type": "stream",
     "text": [
      "Great is Great \n"
     ]
    }
   ],
   "source": [
    "def my_str():\n",
    "    message = \"Python \"\n",
    "    new_msg = message + \"is \" + message\n",
    "    new_msg= new_msg.replace(message, \"Great \")\n",
    "    return new_msg\n",
    "\n",
    "print(my_str())"
   ]
  },
  {
   "cell_type": "code",
   "execution_count": 68,
   "id": "35fb9d0a-8ae3-425e-8f6e-53290f2fda0f",
   "metadata": {},
   "outputs": [
    {
     "name": "stdout",
     "output_type": "stream",
     "text": [
      "6\n"
     ]
    }
   ],
   "source": [
    "def max_subarray(nums):\n",
    "    if not nums:\n",
    "        return 0\n",
    "    current_sum = max_sum = nums[0]\n",
    "    for num in nums[1:]:\n",
    "        current_sum = max(num, current_sum + num)\n",
    "        max_sum = max(max_sum, current_sum)\n",
    "    return max_sum\n",
    "\n",
    "print(max_subarray([-2, 1, -3, 4, -1, 2, 1, -5, 4]))"
   ]
  },
  {
   "cell_type": "code",
   "execution_count": 69,
   "id": "682b931c-acdd-4d73-8f52-3dbd4732a5e8",
   "metadata": {},
   "outputs": [
    {
     "name": "stdout",
     "output_type": "stream",
     "text": [
      "True\n"
     ]
    }
   ],
   "source": [
    "def is_valid(s):\n",
    "    stack = []\n",
    "    mapping = {')': '(', ']': '[', '}': '{'}\n",
    "    for char in s:\n",
    "        if char in mapping:\n",
    "            top_element = stack.pop() if stack else '#'\n",
    "            if mapping[char] != top_element:\n",
    "                top_element = stack.pop() if stack else '#'\n",
    "                top_element = stack[-1] if stack else '#'\n",
    "                if mapping[char] != top_element:\n",
    "                    return False\n",
    "        else:\n",
    "            stack.append(char)\n",
    "    return len(stack) == 0\n",
    "\n",
    "print(is_valid('()[]{}'))"
   ]
  },
  {
   "cell_type": "code",
   "execution_count": 70,
   "id": "bff04206-2b0c-4013-be90-7eb8b6cd45c6",
   "metadata": {},
   "outputs": [
    {
     "name": "stdout",
     "output_type": "stream",
     "text": [
      "8\n"
     ]
    }
   ],
   "source": [
    "def climb_stairs(n):\n",
    "    if n <= 2:\n",
    "        return n\n",
    "    dp = [0] * (n + 1)\n",
    "    dp[1] = 1\n",
    "    dp[2] = 2\n",
    "    for i in range(3, n + 1):\n",
    "        dp[i] = dp[i - 1] + dp[i - 2]\n",
    "    return dp[n]\n",
    "\n",
    "print(climb_stairs(5))"
   ]
  },
  {
   "cell_type": "code",
   "execution_count": 73,
   "id": "7ce01952-d450-4761-8085-6e44f3c6cd85",
   "metadata": {},
   "outputs": [
    {
     "name": "stdout",
     "output_type": "stream",
     "text": [
      "{'Olha': ['Polishchuk', 58, 'Dusseldorf'], 'Vlada': ['Toporska', 18, 'Charkiv'], 'Iryna': ['Medvid', 45, 'Berlin']}\n"
     ]
    }
   ],
   "source": [
    "\n",
    "dict1 = {\n",
    "    'Olha': ['Polishchuk', 58, 'Dusseldorf'],\n",
    "    'Vlada': ['Toporska', 18, 'Charkiv'],\n",
    "    'Iryna': ['Medvid', 45, 'Berlin']\n",
    "}\n",
    "print(dict1)"
   ]
  },
  {
   "cell_type": "code",
   "execution_count": 85,
   "id": "2d2f52d5-120c-4f66-a761-dd7faac231e0",
   "metadata": {},
   "outputs": [
    {
     "name": "stdout",
     "output_type": "stream",
     "text": [
      "город проживания: Toporska: Charkiv\n",
      "Olha: 58\n",
      "Vlada: 18\n",
      "Iryna: 45\n",
      "Первый элемент: Olha: ['Polishchuk', 58, 'Dusseldorf']\n",
      "Первый элемент: Olha: ['Polishchuk', 58, 'Dusseldorf']\n",
      "Первый элемент: Olha: ['Polishchuk', 58, 'Dusseldorf']\n",
      "Olha: ['Polishchuk', 58, 'Dusseldorf']\n",
      "Vlada: ['Toporska', 18, 'Charkiv']\n",
      "Iryna: ['Medvid', 45, 'Berlin']\n"
     ]
    }
   ],
   "source": [
    "def print_ages(data):\n",
    "    for name, info in data.items():\n",
    "        age = info[1]  # Возраст находится на втором месте в списке\n",
    "        print(f\"{name}: {age}\")\n",
    "\n",
    "# Основная программа\n",
    "dict1 = {\n",
    "    'Olha': ['Polishchuk', 58, 'Dusseldorf'],\n",
    "    'Vlada': ['Toporska', 18, 'Charkiv'],\n",
    "    'Iryna': ['Medvid', 45, 'Berlin']\n",
    "}\n",
    "\n",
    "value = dict1.get('Vlada')\n",
    "print(f\"город проживания: {value[0]}: {value[2]}\")\n",
    "\n",
    "print_ages(dict1)\n",
    "first_key = next(iter(dict1))\n",
    "first_value = dict1[first_key]\n",
    "print(f\"Первый элемент: {first_key}: {first_value}\")\n",
    "\n",
    "keys = dict1.keys()\n",
    "first_key = next(iter(keys))\n",
    "print(f\"Первый элемент: {first_key}: {first_value}\")\n",
    "\n",
    "values = dict1.values()  # Получаем все значения в виде представления\n",
    "first_value = next(iter(values))  # Получаем первое значение\n",
    "print(f\"Первый элемент: {first_key}: {first_value}\")\n",
    "\n",
    "for key, value in dict1.items():\n",
    "    print(f\"{key}: {value}\")  # Перебираем все ключи и значения"
   ]
  },
  {
   "cell_type": "code",
   "execution_count": 92,
   "id": "1d4a883d-214f-4be8-8944-10d8073ecac4",
   "metadata": {},
   "outputs": [
    {
     "name": "stdout",
     "output_type": "stream",
     "text": [
      "t\n",
      "n\n",
      "y\n",
      "o\n",
      "h\n",
      "P\n"
     ]
    }
   ],
   "source": [
    "dct = set('Python')\n",
    "for item in dct:\n",
    "    print(item)"
   ]
  },
  {
   "cell_type": "code",
   "execution_count": 98,
   "id": "6ba51882-a452-4103-b201-dcf294a97fda",
   "metadata": {},
   "outputs": [
    {
     "name": "stdout",
     "output_type": "stream",
     "text": [
      "{'Tom': 0, 'Maria': 0, 'Jack': 150}\n"
     ]
    }
   ],
   "source": [
    "x = {'Tom': 0, 'Maria': 0}\n",
    "\n",
    "if 'Jack' in x:\n",
    "    x['Jack'] += 100\n",
    "else:\n",
    "    x['Jack'] = 50\n",
    "\n",
    "x['Jack'] =x.get('Jack', 0) + 100\n",
    "print(x)"
   ]
  },
  {
   "cell_type": "code",
   "execution_count": 99,
   "id": "9e243880-b866-4769-935b-f1523119f83c",
   "metadata": {},
   "outputs": [
    {
     "name": "stdout",
     "output_type": "stream",
     "text": [
      "defaultdict(<class 'list'>, {})\n",
      "5\n",
      "[]\n",
      "defaultdict(<class 'list'>, {'apple': 5, 'banana': []})\n"
     ]
    }
   ],
   "source": [
    "from collections import defaultdict\n",
    "\n",
    "x = defaultdict(list)\n",
    "print(x)\n",
    "x['apple'] = 5\n",
    "print(x['apple'])\n",
    "print(x['banana'])\n",
    "print(x)"
   ]
  },
  {
   "cell_type": "code",
   "execution_count": null,
   "id": "d41a7cf5-2d2d-4ae8-931d-a88528f94d46",
   "metadata": {},
   "outputs": [],
   "source": [
    "from collections import defaultdict\n",
    "\n",
    "fish_by_tank = defaultdict(list)\n",
    "fish_inventory = [\n",
    "(\"Sammy\", \"shark\", \"tank-a\"),\n",
    "(\"Jamie\", \"cuttlefish\", \"tank-b\"),\n",
    "(\"Mary\", \"squid\", \"tank-a\"),\n",
    "\n",
    "x = {}\n",
    "for item in fish_inventory:\n",
    "    name, breed, tank = item\n",
    "    if tank not in x:\n",
    "        x[tank] = []\n",
    "        x[tank].append ( (name, breed) )\n"
   ]
  }
 ],
 "metadata": {
  "kernelspec": {
   "display_name": "Python 3 (ipykernel)",
   "language": "python",
   "name": "python3"
  },
  "language_info": {
   "codemirror_mode": {
    "name": "ipython",
    "version": 3
   },
   "file_extension": ".py",
   "mimetype": "text/x-python",
   "name": "python",
   "nbconvert_exporter": "python",
   "pygments_lexer": "ipython3",
   "version": "3.12.5"
  }
 },
 "nbformat": 4,
 "nbformat_minor": 5
}
