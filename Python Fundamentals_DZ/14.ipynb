{
 "cells": [
  {
   "cell_type": "code",
   "execution_count": 6,
   "id": "c2478f60-9261-49a4-b778-6763b0643d16",
   "metadata": {},
   "outputs": [
    {
     "name": "stdin",
     "output_type": "stream",
     "text": [
      "Введите предложение:  Программирование это интересно и полезно\n"
     ]
    },
    {
     "name": "stdout",
     "output_type": "stream",
     "text": [
      "полезно и интересно это Программирование\n"
     ]
    }
   ],
   "source": [
    "import string\n",
    "text = input(\"Введите предложение: \")\n",
    "\n",
    "for item in string.punctuation:\n",
    "    text = text.replace(item, ' ')\n",
    "\n",
    "words = text.split()\n",
    "\n",
    "words.reverse()\n",
    "print(*words)\n"
   ]
  },
  {
   "cell_type": "code",
   "execution_count": 8,
   "id": "3f51e165-a74e-4d25-8eff-bfe9c68f5690",
   "metadata": {},
   "outputs": [
    {
     "name": "stdin",
     "output_type": "stream",
     "text": [
      "Number or Exit: 1\n",
      "Number or Exit: 2\n",
      "Number or Exit: exit\n"
     ]
    },
    {
     "name": "stdout",
     "output_type": "stream",
     "text": [
      "[1, 2]\n"
     ]
    }
   ],
   "source": [
    "res = []\n",
    "\n",
    "while (ans := input('Number or Exit:').lower().strip()) != 'exit':\n",
    "    res.append(int(ans))\n",
    "\n",
    "print(res)"
   ]
  },
  {
   "cell_type": "code",
   "execution_count": 10,
   "id": "d8cb3316-8f52-4406-a6cc-04c5fcf28054",
   "metadata": {},
   "outputs": [
    {
     "name": "stdout",
     "output_type": "stream",
     "text": [
      "1 [2, 3, 4, 5] 6\n",
      "(1, 2, 3, 4, 5, 6)\n"
     ]
    }
   ],
   "source": [
    "x = (1, 2, 3, 4, 5, 6)\n",
    "\n",
    "a, *b, c = x\n",
    "\n",
    "# *a, b, c, d, e, f =\n",
    "\n",
    "print(a, b, c)\n",
    "print(x)"
   ]
  },
  {
   "cell_type": "code",
   "execution_count": 13,
   "id": "22e7db85-736b-4721-84f7-6588411a17ee",
   "metadata": {},
   "outputs": [
    {
     "name": "stdout",
     "output_type": "stream",
     "text": [
      "Index: 0, Value: 1\n",
      "Index: 1, Value: 2\n",
      "Index: 2, Value: 3\n",
      "Index: 3, Value: 4\n",
      "Index: 4, Value: 5\n",
      "Index: 5, Value: 6\n"
     ]
    }
   ],
   "source": [
    "x = [1, 2, 3, 4, 5, 6]\n",
    "\n",
    "for index, value in enumerate(x):\n",
    "    print(f'Index: {index}, Value: {value}')"
   ]
  },
  {
   "cell_type": "code",
   "execution_count": 18,
   "id": "7df43acc-4e89-47b1-bbf7-6afe04d854fa",
   "metadata": {},
   "outputs": [
    {
     "name": "stdin",
     "output_type": "stream",
     "text": [
      "Введите числа:  1 2 3 4\n"
     ]
    },
    {
     "name": "stdout",
     "output_type": "stream",
     "text": [
      "Исходный список: [1, 2, 3, 4]\n"
     ]
    },
    {
     "name": "stdin",
     "output_type": "stream",
     "text": [
      "Введите новое число:  10\n"
     ]
    },
    {
     "name": "stdout",
     "output_type": "stream",
     "text": [
      "Список после вставки: [1, 2, 10, 3, 4]\n",
      "Список после удаления: [1, 2, 3, 4]\n",
      "Итоговый список без использования insert() и remove(): [1, 2, 3, 4]\n"
     ]
    }
   ],
   "source": [
    "input_list = input(\"Введите числа: \").split()\n",
    "numbers = list(map(int, input_list))\n",
    "\n",
    "print(\"Исходный список:\", numbers)\n",
    "\n",
    "mid = len(numbers) // 2\n",
    "\n",
    "new_number = int(input(\"Введите новое число: \"))\n",
    "numbers.insert(mid, new_number)\n",
    "\n",
    "print(\"Список после вставки:\", numbers)\n",
    "\n",
    "# numbers.remove(numbers[mid])\n",
    "del numbers[mid]\n",
    "print(\"Список после удаления:\", numbers)\n",
    "\n",
    "new_numbers = numbers[:mid] + [new_number] + numbers[mid:]\n",
    "\n",
    "\n",
    "final_numbers = new_numbers[:mid] + new_numbers[mid + 1:]\n",
    "\n",
    "print(\"Итоговый список без использования insert() и remove():\", final_numbers)"
   ]
  },
  {
   "cell_type": "code",
   "execution_count": null,
   "id": "4e9a5b43-5bed-4759-8713-6b9a4f388009",
   "metadata": {},
   "outputs": [],
   "source": []
  }
 ],
 "metadata": {
  "kernelspec": {
   "display_name": "Python 3 (ipykernel)",
   "language": "python",
   "name": "python3"
  },
  "language_info": {
   "codemirror_mode": {
    "name": "ipython",
    "version": 3
   },
   "file_extension": ".py",
   "mimetype": "text/x-python",
   "name": "python",
   "nbconvert_exporter": "python",
   "pygments_lexer": "ipython3",
   "version": "3.12.5"
  }
 },
 "nbformat": 4,
 "nbformat_minor": 5
}
