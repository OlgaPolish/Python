{
 "cells": [
  {
   "cell_type": "code",
   "execution_count": 15,
   "id": "70d0c478-29ee-4c7b-b2f1-e5c02cfae1ac",
   "metadata": {},
   "outputs": [
    {
     "name": "stdout",
     "output_type": "stream",
     "text": [
      "PriceError: -100\n"
     ]
    }
   ],
   "source": [
    "class PriceError(Exception):\n",
    "    def __init__(self, value):\n",
    "        self.value = value\n",
    "\n",
    "    def __str__(self):\n",
    "        return f'PriceError: {self.value}'\n",
    "\n",
    "class Product:\n",
    "    def __init__(self, name, price):\n",
    "        if not isinstance(price, int):\n",
    "            raise TypeError(\"Price must be an integer.\")\n",
    "\n",
    "        if price <= 0:\n",
    "            raise PriceError(price)\n",
    "\n",
    "        self.name = name\n",
    "        self.price = price\n",
    "\n",
    "try:\n",
    "    x = Product(name='A', price=-100)\n",
    "except PriceError as e:\n",
    "    print(e)\n",
    "\n"
   ]
  },
  {
   "cell_type": "code",
   "execution_count": 4,
   "id": "1580944a-5641-47c3-803b-1e7e8509d9a1",
   "metadata": {},
   "outputs": [
    {
     "name": "stdout",
     "output_type": "stream",
     "text": [
      "Hello from B\n",
      "Hello from A\n"
     ]
    }
   ],
   "source": [
    "class A:\n",
    "\n",
    "    def method(self):\n",
    "        __res = 'Hello from A'\n",
    "        return __res\n",
    "\n",
    "class B(A):\n",
    "\n",
    "    def greetings(self):\n",
    "        return 'Hello from B'\n",
    "\n",
    "x = B()\n",
    "print(x.greetings())\n",
    "print(x.method())\n"
   ]
  },
  {
   "cell_type": "code",
   "execution_count": 12,
   "id": "c950f3c7-4e99-44a5-b8d7-9754f4532f82",
   "metadata": {},
   "outputs": [
    {
     "name": "stdout",
     "output_type": "stream",
     "text": [
      "Hello from B\n",
      "Hello from A\n",
      "*Hello*\n",
      "(<class '__main__.B'>, <class '__main__.A'>, <class 'object'>)\n"
     ]
    }
   ],
   "source": [
    "class A:\n",
    "\n",
    "    def method1(self):\n",
    "        return 'Hello from A'\n",
    "\n",
    "    def method2(self):\n",
    "        return 'Hello'\n",
    "\n",
    "class B(A):\n",
    "\n",
    "    def greetings(self):\n",
    "        return 'Hello from B'\n",
    "\n",
    "    def method2(self):\n",
    "\n",
    "        res = super () . method2()\n",
    "        return f'*{res}*'\n",
    "        # return 'My new method'\n",
    "\n",
    "x = B()\n",
    "\n",
    "print(x.greetings())\n",
    "print(x.method1())\n",
    "print(x.method2())\n",
    "print(B.__mro__)"
   ]
  },
  {
   "cell_type": "code",
   "execution_count": 4,
   "id": "c938f6b5-7a6c-4827-baff-ceb85326b9c4",
   "metadata": {},
   "outputs": [
    {
     "name": "stdout",
     "output_type": "stream",
     "text": [
      "2\n",
      "4\n",
      "6\n",
      "8\n",
      "10\n"
     ]
    }
   ],
   "source": [
    "def generate_squares(x):\n",
    "    yield from (i * 2 for i in x)\n",
    "\n",
    "# N = int(input(\"Введите число:\"))\n",
    "N = 5   \n",
    "squares = generate_squares(range(1, N + 1))\n",
    "\n",
    "for square in squares:\n",
    "    print(square)"
   ]
  },
  {
   "cell_type": "code",
   "execution_count": 19,
   "id": "5e92a937-a19d-4a56-818a-28bc34cd9628",
   "metadata": {},
   "outputs": [
    {
     "name": "stdout",
     "output_type": "stream",
     "text": [
      "1\n",
      "2\n",
      "4\n",
      "8\n",
      "16\n",
      "32\n",
      "64\n",
      "128\n",
      "256\n",
      "512\n"
     ]
    }
   ],
   "source": [
    "def double_sequence_generator(start=1):\n",
    "    current = start\n",
    "    while True:\n",
    "        yield current\n",
    "        current *= 2\n",
    "\n",
    "# Примеры использования\n",
    "gen = double_sequence_generator()\n",
    "\n",
    "for _ in range(10):  # Генерируем первые 10 чисел\n",
    "    print(next(gen))"
   ]
  },
  {
   "cell_type": "code",
   "execution_count": 2,
   "id": "b0d57e90-e753-45be-9b6a-4b6c3928b245",
   "metadata": {},
   "outputs": [
    {
     "name": "stdout",
     "output_type": "stream",
     "text": [
      "000abcd\n",
      "abcdefg\n",
      "0123456\n",
      "1234567\n"
     ]
    }
   ],
   "source": [
    "def fixed_length_string_generator(strings):\n",
    "    for input_string in strings:\n",
    "        if len(input_string) > 7:\n",
    "            yield input_string[:7]\n",
    "        else:\n",
    "            yield input_string.zfill(7)\n",
    "\n",
    "# Примеры использования\n",
    "input_strings = [\"abcd\", \"abcdefgh\", \"123456\", \"1234567\"]\n",
    "for result in fixed_length_string_generator(input_strings):\n",
    "    print(result)"
   ]
  },
  {
   "cell_type": "code",
   "execution_count": 18,
   "id": "cc2b3cd0-59d3-4d1b-a7ed-e76159010b4a",
   "metadata": {},
   "outputs": [
    {
     "name": "stdout",
     "output_type": "stream",
     "text": [
      "Привет, Иван, Мария, Петр и добро пожаловать!\n"
     ]
    }
   ],
   "source": [
    "def name_subgenerator(filename):\n",
    "    with open(filename, 'r', encoding='utf-8') as file:\n",
    "        for line in file:\n",
    "            yield line.strip()  # Убираем пробелы и перевод строки\n",
    "\n",
    "def greeting_generator(filename):\n",
    "    names = name_subgenerator(filename)\n",
    "    names_list = list(names)  # Собираем все имена в список\n",
    "    if names_list:\n",
    "        greeting = \"Привет, \" + \", \".join(names_list) + \" и добро пожаловать!\"\n",
    "        yield greeting\n",
    "    else:\n",
    "        yield \"Нет имен для приветствия.\"\n",
    "\n",
    "# Пример использования\n",
    "filename = 'names.txt'  # Укажите путь к вашему файлу\n",
    "for greeting in greeting_generator(filename):\n",
    "    print(greeting)"
   ]
  },
  {
   "cell_type": "code",
   "execution_count": null,
   "id": "9cea452b-06a4-4f82-94a7-04539641aa47",
   "metadata": {},
   "outputs": [],
   "source": [
    "def fixed_length_string_generator(strings):\n",
    "    for input_string in strings:\n",
    "        if len(input_string) > 7:\n",
    "            yield input_string[:7]  # Возвращаем первые 7 символов\n",
    "        else:\n",
    "            # Добавляем нули слева до 7 символов\n",
    "            yield '0' * (7 - len(input_string)) + input_string\n",
    "\n",
    "# Примеры использования\n",
    "input_strings = [\"abcd\", \"abcdefgh\", \"123456\", \"1234567\", \"xyz\"]\n",
    "for result in fixed_length_string_generator(input_strings):\n",
    "    print(result)"
   ]
  },
  {
   "cell_type": "code",
   "execution_count": 5,
   "id": "8f98d02e-0160-4923-9efc-802ed33a8ef4",
   "metadata": {},
   "outputs": [
    {
     "name": "stdout",
     "output_type": "stream",
     "text": [
      "skjuiss\n",
      "0010348\n",
      "1234567\n"
     ]
    }
   ],
   "source": [
    "def fix_len_gen(strings, length=7, char='0'):\n",
    "    for string in strings:\n",
    "        if len(string) > length:\n",
    "            yield string[:length]\n",
    "        else:\n",
    "            yield char * (length - len(string)) + string\n",
    "\n",
    "# Пример использования\n",
    "s = ['skjuisshivn', '10348', '123456789']\n",
    "for fixed_string in fix_len_gen(s):\n",
    "    print(fixed_string)"
   ]
  },
  {
   "cell_type": "code",
   "execution_count": 25,
   "id": "3ea01b43-f011-4ee8-971d-d377f14322fa",
   "metadata": {},
   "outputs": [
    {
     "name": "stdout",
     "output_type": "stream",
     "text": [
      "Привет, Иван! Добро пожаловать!\n",
      "Привет, Мария! Добро пожаловать!\n",
      "Привет, Петр! Добро пожаловать!\n"
     ]
    }
   ],
   "source": [
    "def name_subgenerator(filename):\n",
    "    with open(filename, 'r', encoding='utf-8') as file:\n",
    "        for line in file:\n",
    "            yield line.strip()  # Убираем пробелы и символы новой строки\n",
    "\n",
    "def greeting_generator(filename):\n",
    "    names = name_subgenerator(filename)\n",
    "    names_list = list(names)   # выводим списком\n",
    "    yield f\"Привет, {', '.join(names_list[:-1])} и {names_list[-1]} добро пожаловать!\"\n",
    "\n",
    "def greeting_gen(filename):\n",
    "    names = name_subgenerator(filename)\n",
    "    for name in names: # выводим по каждому имени\n",
    "        yield f\"Привет, {name}! Добро пожаловать!\"  # Приветствие для каждого имени\n",
    "\n",
    "filename = 'names.txt'  \n",
    "for greeting in greeting_gen(filename):\n",
    "    print(greeting)"
   ]
  },
  {
   "cell_type": "code",
   "execution_count": 17,
   "id": "2bc9269b-4848-42be-81bf-81726eb29fbd",
   "metadata": {},
   "outputs": [
    {
     "name": "stdout",
     "output_type": "stream",
     "text": [
      "Клиент: Иван Иванов, Дата рождения: 1990-01-01, Номер счета: 123456789\n",
      "Клиент: Мария Петрова, Дата рождения: 1985-05-15, Номер счета: 987654321\n",
      "Клиент: Сергей Сидоров, Дата рождения: 2000-10-10, Номер счета: 555555555\n",
      "Генератор завершил работу. Ресурсы освобождены.\n"
     ]
    }
   ],
   "source": [
    "import json\n",
    "\n",
    "def client_generator(filename):\n",
    " \n",
    "    try:\n",
    "        with open(filename, 'r', encoding='utf-8') as file:\n",
    "            clients = json.load(file)\n",
    "            for client in clients:\n",
    "                yield f\"Клиент: {client['name']} {client['surname']}, Дата рождения: {client['birthdate']}, Номер счета: {client['account_number']}\"\n",
    "    except FileNotFoundError:\n",
    "        yield \"Файл не найден.\"\n",
    "    except json.JSONDecodeError:\n",
    "        yield \"Ошибка декодирования JSON.\"\n",
    "    finally:\n",
    "        print(\"Генератор завершил работу. Ресурсы освобождены.\")\n",
    "\n",
    "# Пример использования\n",
    "filename = 'customers.json'  \n",
    "for client_info in client_generator(filename):\n",
    "    print(client_info)\n"
   ]
  },
  {
   "cell_type": "code",
   "execution_count": 16,
   "id": "f1f10e38-46a9-48d0-a250-1d8984b33082",
   "metadata": {},
   "outputs": [
    {
     "name": "stdout",
     "output_type": "stream",
     "text": [
      "Файл 'customers.json' успешно создан.\n"
     ]
    }
   ],
   "source": [
    "import json\n",
    "\n",
    "# Данные о клиентах\n",
    "clients_data = [\n",
    "    {\n",
    "        \"name\": \"Иван\",\n",
    "        \"surname\": \"Иванов\",\n",
    "        \"birthdate\": \"1990-01-01\",\n",
    "        \"account_number\": \"123456789\"\n",
    "    },\n",
    "    {\n",
    "        \"name\": \"Мария\",\n",
    "        \"surname\": \"Петрова\",\n",
    "        \"birthdate\": \"1985-05-15\",\n",
    "        \"account_number\": \"987654321\"\n",
    "    },\n",
    "    {\n",
    "        \"name\": \"Сергей\",\n",
    "        \"surname\": \"Сидоров\",\n",
    "        \"birthdate\": \"2000-10-10\",\n",
    "        \"account_number\": \"555555555\"\n",
    "    }\n",
    "]\n",
    "\n",
    "# Создание JSON-файла\n",
    "filename = 'customers.json'\n",
    "with open(filename, 'w', encoding='utf-8') as file:\n",
    "    json.dump(clients_data, file, ensure_ascii=False, indent=4)\n",
    "\n",
    "print(f\"Файл '{filename}' успешно создан.\")"
   ]
  },
  {
   "cell_type": "code",
   "execution_count": null,
   "id": "d470952e-62f3-43f1-b259-59cdf369d189",
   "metadata": {},
   "outputs": [],
   "source": [
    "def sub_generator(file_name):\n",
    "    with open(file_name, 'r', encoding='utf-8') as file:  # Указываем кодировку UTF-8\n",
    "        for line in file:\n",
    "            yield line.strip()\n",
    "\n",
    "def main_generator(file_name):\n",
    "    names_generator = sub_generator(file_name)\n",
    "    names = list(names_generator)\n",
    "    yield f\"Привет, {', '.join(names[:-1])} и {names[-1]}! Добро пожаловать!\"\n",
    "\n",
    "file_name = \"names.txt\"\n",
    "greeting_generator = main_generator(file_name)\n",
    "\n",
    "for greeting in greeting_generator:\n",
    "    print(greeting)\n"
   ]
  },
  {
   "cell_type": "raw",
   "id": "4674bc98-192e-4b4c-8d31-37d7b1b04c83",
   "metadata": {},
   "source": [
    "import sys  # Импортируем модуль sys для работы с аргументами командной строки\n",
    "\n",
    "# Проверяем, передан ли аргумент '-name'\n",
    "if '-name' in sys.argv:\n",
    "    index_name = sys.argv.index('-name')  # Находим индекс аргумента '-name'\n",
    "\n",
    "# Проверяем, передан ли аргумент '-passport'\n",
    "if '-passport' in sys.argv:\n",
    "    index_passport = sys.argv.index('-passport')  # Находим индекс аргумента '-passport'\n",
    "\n",
    "# Выводим значение, следующее за аргументом '-name', если он был передан\n",
    "if '-name' in sys.argv:\n",
    "    print(sys.argv[index_name + 1])  # Выводим имя\n",
    "\n",
    "# Выводим значение, следующее за аргументом '-passport', если он был передан\n",
    "if '-passport' in sys.argv:\n",
    "    print(sys.argv[index_passport + 1])  # Выводим паспортные данные"
   ]
  },
  {
   "cell_type": "code",
   "execution_count": 7,
   "id": "afd3419a-4447-4338-8dd0-dc9ea199b4ea",
   "metadata": {},
   "outputs": [
    {
     "name": "stdout",
     "output_type": "stream",
     "text": [
      "<filter object at 0x0000018490D67F40>\n"
     ]
    }
   ],
   "source": [
    "def filter_long_words(word_sequence):\n",
    "    # Используем filter и lambda для фильтрации слов длиной больше трех\n",
    "    # return list(filter(lambda word: len(word) > 3, word_sequence))\n",
    "      return filter(lambda word: len(word) > 3, word_sequence)\n",
    "words = [\"кот\", \"собака\", \"крокодил\", \"bird\", \"antelope\"]\n",
    "long_words = filter_long_words(words)\n",
    "print(long_words)  # Вывод: ['elephant', 'bird', 'antelope']\n"
   ]
  },
  {
   "cell_type": "code",
   "execution_count": 8,
   "id": "c938674d-33e7-44dd-927c-356ef449888c",
   "metadata": {},
   "outputs": [
    {
     "name": "stdout",
     "output_type": "stream",
     "text": [
      "Это пример предложения из слов\n"
     ]
    }
   ],
   "source": [
    "def join_words_to_sentence(word_sequence):\n",
    "\n",
    "\n",
    "    # Используем join для объединения слов в одно предложение с пробелами\n",
    "    return ' '.join(word_sequence)\n",
    "\n",
    "# Пример использования\n",
    "words = [\"Это\", \"пример\", \"предложения\", \"из\", \"слов\"]\n",
    "sentence = join_words_to_sentence(words)\n",
    "print(sentence)  # Вывод: 'Это пример предложения из слов'\n",
    "\n"
   ]
  },
  {
   "cell_type": "code",
   "execution_count": null,
   "id": "2d144cb2-d9a0-4be5-8f4b-79a2b89bf17f",
   "metadata": {},
   "outputs": [],
   "source": [
    "from collections import namedtuple\n",
    "\n",
    "# Определяем поименованный кортеж для человека\n",
    "Person = namedtuple('Person', ['name', 'age'])\n",
    "\n",
    "def find_oldest_person(file_path):\n",
    "    oldest_person = None\n",
    "    max_age = -1\n",
    "\n",
    "    with open(file_path, 'r') as file:\n",
    "        for line in file:\n",
    "            name, age_str = line.strip().split(';')\n",
    "            person = Person(name.strip(), int(age_str.strip()))\n",
    "            if person.age > max_age:\n",
    "                max_age = person.age\n",
    "                oldest_person = person\n",
    "\n",
    "    print(f\"Самый старший человек: {oldest_person.name}\")\n",
    "\n",
    "def list_people_above_25(file_path):\n",
    "    people_above_25 = []\n",
    "\n",
    "    with open(file_path, 'r') as file:\n",
    "        for line in file:\n",
    "            name, age_str = line.strip().split(';')\n",
    "            person = Person(name.strip(), int(age_str.strip()))\n",
    "            if person.age > 25:\n",
    "                people_above_25.append(person.name)\n",
    "\n",
    "    print(\"Люди старше 25 лет:\", people_above_25)\n",
    "\n",
    "# Пример использования\n",
    "file_path = 'people.txt'  # Путь к вашему файлу\n",
    "\n",
    "# Находим самого старшего человека\n",
    "find_oldest_person(file_path)\n",
    "\n",
    "# Печатаем список людей старше 25 лет\n",
    "list_people_above_25(file_path)\n"
   ]
  },
  {
   "cell_type": "code",
   "execution_count": 14,
   "id": "780e1561-df98-455c-a3e2-b40ded7bd46c",
   "metadata": {},
   "outputs": [
    {
     "name": "stdout",
     "output_type": "stream",
     "text": [
      "['Sergey', '35']\n",
      "Sergey\n"
     ]
    }
   ],
   "source": [
    "# 5. Дан текстовый файл, где каждая строка описывает человека в формате\n",
    "# <Name>; <Age>\n",
    "# Sergey;35\n",
    "# Ivan;25\n",
    "# Svetlana;20\n",
    "# Maria;27\n",
    "# Нужно написать программу, которая печатает имя самого старшего человека.\n",
    "# Поменяйте программу так, чтобы она печатала список людей, чем возраст больше 25 лет. \n",
    "\n",
    "def max_age(words):    \n",
    "    with open(words, 'r') as file:\n",
    "        person = (line.strip().split(';') for line in file)\n",
    "        # print(person)\n",
    "        old_person = max(person, key = lambda item: item[1])\n",
    "    print(old_person)\n",
    "    return old_person[0]\n",
    "    \n",
    "\n",
    "res = max_age('name_age.txt')\n",
    "\n",
    "print(res)"
   ]
  },
  {
   "cell_type": "code",
   "execution_count": 11,
   "id": "55bbe4d1-1ae2-45e8-a60d-8104c59de34d",
   "metadata": {},
   "outputs": [
    {
     "name": "stdout",
     "output_type": "stream",
     "text": [
      "Person(name='Sergey', age=35)\n",
      "Sergey\n"
     ]
    }
   ],
   "source": [
    "from collections import namedtuple\n",
    "\n",
    "# Определяем поименованный кортеж для человека\n",
    "Person = namedtuple('Person', ['name', 'age'])\n",
    "\n",
    "def max_age(words):\n",
    "    with open(words, 'r') as file:\n",
    "        # Преобразуем каждую строку в объект Person\n",
    "        person = (Person(name.strip(), int(age.strip())) for name, age in (line.strip().split(';') for line in file))\n",
    "        \n",
    "        # Находим самого старшего человека\n",
    "        old_person = max(person, key=lambda item: item.age)\n",
    "    \n",
    "    print(old_person)\n",
    "    return old_person.name\n",
    "\n",
    "res = max_age('people.txt')\n",
    "\n",
    "print(res)\n"
   ]
  },
  {
   "cell_type": "code",
   "execution_count": 13,
   "id": "3c13a4df-b96c-4f6a-880e-394bf456d723",
   "metadata": {},
   "outputs": [
    {
     "name": "stdout",
     "output_type": "stream",
     "text": [
      "Person(name='Sergey', age=35)\n"
     ]
    }
   ],
   "source": [
    "from collections import namedtuple\n",
    "\n",
    "Person = namedtuple('Person', ['name', 'age'])\n",
    "\n",
    "def max_age(words):    \n",
    "    with open(words, 'r') as file:\n",
    "        person = (Person(name.strip(), int(age.strip())) for name, age in (line.strip().split(';') for line in file))\n",
    "        old_person = max(person, key = lambda item: item.age)\n",
    "        # print(old_person)\n",
    "        return old_person\n",
    "\n",
    "\n",
    "res = max_age('name_age.txt')\n",
    "\n",
    "print(res)"
   ]
  },
  {
   "cell_type": "code",
   "execution_count": null,
   "id": "6d0cbd4c-5810-4bd1-8c52-2d836dce07cb",
   "metadata": {},
   "outputs": [],
   "source": [
    "from collections import namedtuple\n",
    "\n",
    "# Определяем поименованный кортеж для человека\n",
    "Person = namedtuple('Person', ['name', 'age'])\n",
    "\n",
    "def people_over_25(words):\n",
    "    with open(words, 'r') as file:\n",
    "        # Преобразуем каждую строку в объект Person\n",
    "        people = (Person(name.strip(), int(age.strip())) for name, age in (line.strip().split(';') for line in file))\n",
    "        \n",
    "        # Фильтруем людей старше 25 лет\n",
    "        people_over_25 = list(filter(lambda person: person.age > 25, people))\n",
    "    \n",
    "    return people_over_25\n",
    "\n",
    "# Получаем список людей старше 25 лет\n",
    "result = people_over_25('people.txt')\n",
    "\n",
    "# Печатаем каждого человека на новой строке\n",
    "for person in result:\n",
    "    print(person)\n"
   ]
  }
 ],
 "metadata": {
  "kernelspec": {
   "display_name": "Python 3 (ipykernel)",
   "language": "python",
   "name": "python3"
  },
  "language_info": {
   "codemirror_mode": {
    "name": "ipython",
    "version": 3
   },
   "file_extension": ".py",
   "mimetype": "text/x-python",
   "name": "python",
   "nbconvert_exporter": "python",
   "pygments_lexer": "ipython3",
   "version": "3.12.5"
  }
 },
 "nbformat": 4,
 "nbformat_minor": 5
}
