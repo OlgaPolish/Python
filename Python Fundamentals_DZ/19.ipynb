{
 "cells": [
  {
   "cell_type": "code",
   "execution_count": 3,
   "id": "17ba6eae-749c-4f60-8ca0-2fbd581b7828",
   "metadata": {},
   "outputs": [
    {
     "name": "stdout",
     "output_type": "stream",
     "text": [
      "Анаграммы: [['cat', 'tac', 'act'], ['dog', 'god']]\n"
     ]
    }
   ],
   "source": [
    "# Создайте функцию anagrams, которая принимает список слов в качестве аргумента \n",
    "# и возвращает список анаграмм. Используйте множества и сортировку букв в слове \n",
    "# для проверки на анаграмму. Выведите результат на экран.\n",
    "\n",
    "def anagrams(words):\n",
    "    anagrams_set = {}\n",
    "    for word in words:\n",
    "        sorted_word = ''.join(sorted(word))\n",
    "        anagrams_set[sorted_word] = anagrams_set[sorted_word] + [word] if sorted_word in anagrams_set else [word]\n",
    "    return list(anagrams_set.values())\n",
    "\n",
    "words = ['cat', 'dog', 'tac', 'god', 'act']\n",
    "result = anagrams(words)\n",
    "print(\"Анаграммы:\", result)"
   ]
  },
  {
   "cell_type": "code",
   "execution_count": 1,
   "id": "068d4842-8ad8-4aa9-a4d9-7a4e2f3835bf",
   "metadata": {},
   "outputs": [
    {
     "name": "stdout",
     "output_type": "stream",
     "text": [
      "True\n"
     ]
    }
   ],
   "source": [
    "# Напишите функцию is_subset, которая принимает два множества set1 и set2 \n",
    "# и проверяет, является ли set1 подмножеством set2. Функция должна возвращать True, \n",
    "# если все элементы из set1 содержатся в set2, и False в противном случае. \n",
    "# Функция должна быть реализована без использования встроенных методов issubset или <=\n",
    "\n",
    "def is_subset(set1, set2):\n",
    "    for element in set1:\n",
    "        if element not in set2:\n",
    "            return False\n",
    "    return True\n",
    "\n",
    "set1 = {1, 2, 3}\n",
    "set2 = {1, 2, 3, 4, 5}\n",
    "\n",
    "print(is_subset(set1, set2))"
   ]
  },
  {
   "cell_type": "code",
   "execution_count": null,
   "id": "e2bd8b56-dcee-4b30-aab3-693eb3ef066a",
   "metadata": {},
   "outputs": [],
   "source": []
  }
 ],
 "metadata": {
  "kernelspec": {
   "display_name": "Python 3 (ipykernel)",
   "language": "python",
   "name": "python3"
  },
  "language_info": {
   "codemirror_mode": {
    "name": "ipython",
    "version": 3
   },
   "file_extension": ".py",
   "mimetype": "text/x-python",
   "name": "python",
   "nbconvert_exporter": "python",
   "pygments_lexer": "ipython3",
   "version": "3.12.5"
  }
 },
 "nbformat": 4,
 "nbformat_minor": 5
}
