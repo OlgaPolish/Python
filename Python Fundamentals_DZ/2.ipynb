{
 "cells": [
  {
   "cell_type": "code",
   "execution_count": 1,
   "id": "0dcb1a2b-62c6-475e-9cbd-16c1e5d28d81",
   "metadata": {},
   "outputs": [
    {
     "name": "stdout",
     "output_type": "stream",
     "text": [
      "-1\n"
     ]
    }
   ],
   "source": [
    "import operator\n",
    "\n",
    "def get_operator(op: str):\n",
    "    if '+' == op:\n",
    "        return operator.add\n",
    "    if '-' == op:\n",
    "        return lambda a, b: a - b\n",
    "\n",
    "print(get_operator('-')(2, 3))\n"
   ]
  },
  {
   "cell_type": "code",
   "execution_count": 3,
   "id": "b1636e71-53db-46e2-80ac-de884599c981",
   "metadata": {},
   "outputs": [
    {
     "name": "stdout",
     "output_type": "stream",
     "text": [
      "(1, 2, 3, 4)\n",
      "(1, 2, 3, 4, 5)\n"
     ]
    }
   ],
   "source": [
    "x = (1, 2, 3, 4)\n",
    "y = x + (5, )\n",
    "print(x)\n",
    "print(y)"
   ]
  },
  {
   "cell_type": "code",
   "execution_count": 6,
   "id": "b59ac8cb-eced-41c8-b6b1-4f7824916310",
   "metadata": {},
   "outputs": [
    {
     "name": "stdout",
     "output_type": "stream",
     "text": [
      "[0, 2, 4, 6, 8, 10, 12, 14, 16, 18]\n"
     ]
    }
   ],
   "source": [
    "def my_gen():\n",
    "    for i in range(10):\n",
    "        yield i * 2\n",
    "\n",
    "print(list(my_gen()))\n",
    "\n",
    "     "
   ]
  },
  {
   "cell_type": "code",
   "execution_count": null,
   "id": "c2712b6e-719e-48ca-88d3-1edd39b098a3",
   "metadata": {},
   "outputs": [],
   "source": [
    "def my_gen():\n",
    "    for i in range(10):\n",
    "        yield i * 2\n",
    "\n",
    "print(list(my_gen))"
   ]
  },
  {
   "cell_type": "code",
   "execution_count": 7,
   "id": "36b1493c-ffa1-4abe-93d5-dcc3eb68114f",
   "metadata": {},
   "outputs": [
    {
     "name": "stdout",
     "output_type": "stream",
     "text": [
      "0 13\n",
      "1 14\n",
      "2 15\n",
      "3 16\n",
      "4 17\n",
      "5 18\n",
      "6 19\n",
      "7 20\n",
      "8 21\n",
      "9 22\n",
      "10 23\n",
      "11 24\n",
      "12 25\n",
      "13 26\n",
      "14 27\n",
      "15 28\n",
      "16 29\n",
      "17 30\n",
      "18 31\n",
      "19 32\n",
      "20 33\n"
     ]
    }
   ],
   "source": [
    "for index, value in zip(range(0, 21), range(13, 34)):\n",
    "    print(index, value)"
   ]
  },
  {
   "cell_type": "code",
   "execution_count": null,
   "id": "aeb73857-f15a-4b29-a421-5ed132f64c71",
   "metadata": {},
   "outputs": [],
   "source": []
  }
 ],
 "metadata": {
  "kernelspec": {
   "display_name": "Python 3 (ipykernel)",
   "language": "python",
   "name": "python3"
  },
  "language_info": {
   "codemirror_mode": {
    "name": "ipython",
    "version": 3
   },
   "file_extension": ".py",
   "mimetype": "text/x-python",
   "name": "python",
   "nbconvert_exporter": "python",
   "pygments_lexer": "ipython3",
   "version": "3.12.5"
  }
 },
 "nbformat": 4,
 "nbformat_minor": 5
}
