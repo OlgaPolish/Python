{
 "cells": [
  {
   "cell_type": "code",
   "execution_count": null,
   "id": "df4c52ac-2eac-40ec-9d3e-7949f2734a8c",
   "metadata": {},
   "outputs": [],
   "source": [
    "1. Использование пользовательских индексов в Series:\n",
    "Напишите программу, которая:\n",
    "- Запрашивает у пользователя ввод чисел, разделенных пробелами.\n",
    "- Преобразует введенные данные в объект Series, используя в качестве индексов буквы алфавита начиная с 'a'.\n",
    "- Выводит созданный объект Series на экран."
   ]
  },
  {
   "cell_type": "code",
   "execution_count": 10,
   "id": "449347f4-a49a-4883-aa43-c411bffd9070",
   "metadata": {
    "scrolled": true
   },
   "outputs": [
    {
     "name": "stdin",
     "output_type": "stream",
     "text": [
      "Введите числа, разделенные пробелами: 5 15 25 35\n"
     ]
    },
    {
     "name": "stdout",
     "output_type": "stream",
     "text": [
      "a     5\n",
      "b    15\n",
      "c    25\n",
      "d    35\n",
      "dtype: object\n"
     ]
    }
   ],
   "source": [
    "import pandas as pd\n",
    "import string\n",
    "data_str = input(\"Введите числа, разделенные пробелами:\").split()\n",
    "'''\n",
    "Вместо использования цикла for, я использую срез строки string.ascii_lowercase,\n",
    "чтобы создать список индексов = кол-ву введенных чисел.\n",
    "'''\n",
    "id = list(string.ascii_lowercase[:len(data_str)])\n",
    "data = pd.Series(data_str, index=id)\n",
    "print(data)"
   ]
  },
  {
   "cell_type": "code",
   "execution_count": null,
   "id": "42d56dc5-97a0-460e-834f-59603e88256b",
   "metadata": {},
   "outputs": [],
   "source": [
    "2. Создание и индексация DataFrame:\n",
    "Напишите программу, которая:\n",
    "- Запрашивает у пользователя данные для создания DataFrame. Данные включают в себя имена столбцов и строки значений, вводимые через пробел.\n",
    "- Создает DataFrame с использованием введенных данных.\n",
    "- Выводит созданный DataFrame на экран.\n",
    "- Запрашивает у пользователя имя столбца, по которому необходимо отфильтровать данные.\n",
    "- Выводит значения указанного столбца."
   ]
  },
  {
   "cell_type": "code",
   "execution_count": 14,
   "id": "24bcc0c7-a147-40c7-9380-1cb9bc3cf249",
   "metadata": {},
   "outputs": [
    {
     "name": "stdin",
     "output_type": "stream",
     "text": [
      "Введите имена столбцов:  A B C D\n",
      "Введите данные (для окончания введите 'end'):  11 22 33 44\n",
      "Введите данные (для окончания введите 'end'):  55 66 77 88\n",
      "Введите данные (для окончания введите 'end'):  end\n"
     ]
    },
    {
     "name": "stdout",
     "output_type": "stream",
     "text": [
      "    A   B   C   D\n",
      "0  11  22  33  44\n",
      "1  55  66  77  88\n"
     ]
    },
    {
     "name": "stdin",
     "output_type": "stream",
     "text": [
      "\n",
      "Введите имя столбца для отображения:  A\n"
     ]
    },
    {
     "name": "stdout",
     "output_type": "stream",
     "text": [
      "0    11\n",
      "1    55\n",
      "Name: A, dtype: object\n"
     ]
    }
   ],
   "source": [
    "import pandas as pd\n",
    "\n",
    "keys = input(\"Введите имена столбцов: \").split()\n",
    "array = []\n",
    "while True:\n",
    "    row = input(\"Введите данные (для окончания введите 'end'): \") \n",
    "    if row.lower() == 'end': \n",
    "        break\n",
    "    array.append(row.split())\n",
    "df = pd.DataFrame(array,columns=keys)\n",
    "print(df)\n",
    "\n",
    "key = input(\"\\nВведите имя столбца для отображения: \")\n",
    "if key in df.columns:\n",
    "    print(df[key])\n",
    "else:\n",
    "    print(f\"Столбец '{key}' не найден.\")"
   ]
  }
 ],
 "metadata": {
  "kernelspec": {
   "display_name": "Python 3 (ipykernel)",
   "language": "python",
   "name": "python3"
  },
  "language_info": {
   "codemirror_mode": {
    "name": "ipython",
    "version": 3
   },
   "file_extension": ".py",
   "mimetype": "text/x-python",
   "name": "python",
   "nbconvert_exporter": "python",
   "pygments_lexer": "ipython3",
   "version": "3.12.5"
  }
 },
 "nbformat": 4,
 "nbformat_minor": 5
}
