{
 "cells": [
  {
   "cell_type": "code",
   "execution_count": 4,
   "id": "dbece895-3f3b-4167-a5c8-2a0da151b4b4",
   "metadata": {},
   "outputs": [],
   "source": [
    "import numpy as np\n",
    "# Вектор ежедневных расходов (в евро)\n",
    "daily_expenses = np.array([10, 20, 15, 10, 30, 50, 50])\n",
    "# Температура воздуха по месяцам (в градусах Цельсия)\n",
    "temperature = np.array([1, 2, 6, 11, 16, 19, 21, 21, 16, 11, 6, 2])"
   ]
  },
  {
   "cell_type": "code",
   "execution_count": 6,
   "id": "9d459539-e77d-4758-a862-73ee2768f768",
   "metadata": {},
   "outputs": [
    {
     "name": "stdout",
     "output_type": "stream",
     "text": [
      "[11.  22.  16.5 11.  33.  55.  55. ]\n",
      "[33.8 35.6 42.8 51.8 60.8 66.2 69.8 69.8 60.8 51.8 42.8 35.6]\n"
     ]
    }
   ],
   "source": [
    "# Перевод ежедневных расходов в доллары\n",
    "print(daily_expenses * 1.1)\n",
    "# [11. 22. 16.5 11. 33. 55. 55. ]\n",
    "# Перевод температуры в Фаренгейты\n",
    "print(1.8 * temperature + 32)\n",
    "# [33.8 35.6 42.8 51.8 60.8 66.2 69.8 69.8 60.8 51.8 42.8 35.6]"
   ]
  },
  {
   "cell_type": "code",
   "execution_count": 7,
   "id": "a7aa5d2e-1d9f-45c1-a9c3-0b571632787b",
   "metadata": {},
   "outputs": [
    {
     "name": "stdout",
     "output_type": "stream",
     "text": [
      "[3500 5500 9500 4100 4600 4400 5600 6200 8500 4100 9500 6000]\n",
      "[ 3772.65  5893.8  10174.5   4493.6   5004.34  4766.96  6191.36  6767.92\n",
      "  9083.1   4330.01 10263.8   6541.2 ]\n"
     ]
    }
   ],
   "source": [
    "# Доходы мужа по месяцам (в евро)\n",
    "income_m = np.array([2000, 3000, 3500, 3000, 3000, 2500, 3500, 2000, 2500, 3000, 3500, 4000])\n",
    "# Доходы жены по месяцам (в евро)\n",
    "income_f = np.array([1500, 2500, 6000, 1100, 1600, 1900, 2100, 4200, 6000, 1100, 6000, 2000])\n",
    "# Курс евро к доллару по месяцам\n",
    "eur2usd = np.array([1.0779, 1.0716, 1.071, 1.096, 1.0879, 1.0834, 1.1056, 1.0916, 1.0686, 1.0561,\n",
    "1.0804, 1.0902])\n",
    "# Семейный доход в евро\n",
    "income = income_m + income_f\n",
    "print(income)\n",
    "# [3500 5500 9500 4100 4600 4400 5600 6200 8500 4100 9500 6000]\n",
    "# Семейный доход в долларах\n",
    "income_usd = income * eur2usd\n",
    "print(income_usd)\n",
    "# [ 3772.65 5893.8 10174.5 4493.6 5004.34 4766.96 6191.36 6767.92\n",
    "# 9083.1 4330.01 10263.8 6541.2 ]"
   ]
  },
  {
   "cell_type": "code",
   "execution_count": null,
   "id": "23e771f9-5507-45dd-8796-a11e224d1896",
   "metadata": {},
   "outputs": [],
   "source": [
    "# Кондитерская производит несколько видов десертов.\n",
    "# Для каждого необходимы мука, яйца и сахар, но в разном количестве.\n",
    "# Необходимое количество описать матрицей, в которой каждая строка описывает одну партию какого-то десерта,\n",
    "# при этом первый столбец показывает количество муки в килограммах, второй столбец – количество яиц в штуках,\n",
    "# третий – количество сахара в килограммах."
   ]
  },
  {
   "cell_type": "code",
   "execution_count": 8,
   "id": "8c809a35-40b4-4cda-9b58-3ec6c3d05423",
   "metadata": {},
   "outputs": [
    {
     "name": "stdout",
     "output_type": "stream",
     "text": [
      "[[ 0.5  6.   0.1]\n",
      " [ 1.  10.   0.5]\n",
      " [ 0.3 10.   0.6]\n",
      " [ 0.5  7.   0.3]]\n"
     ]
    }
   ],
   "source": [
    "# Расход продуктов\n",
    "goods = np.array([[0.5, 6, 0.1],\n",
    " [1, 10, 0.5],\n",
    " [0.3, 10, 0.6],\n",
    " [0.5, 7, 0.3]])\n",
    "print(goods)"
   ]
  },
  {
   "cell_type": "code",
   "execution_count": 22,
   "id": "41bc0b4b-1330-486c-bb1c-872bcb29bd1e",
   "metadata": {},
   "outputs": [
    {
     "name": "stdout",
     "output_type": "stream",
     "text": [
      "[[1.783]\n",
      " [3.39 ]\n",
      " [2.953]\n",
      " [2.179]]\n",
      "10.305000000000001\n"
     ]
    }
   ],
   "source": [
    "# Пусть у нас также известна стоимость килограмма муки, одного яйца и килограмма сахара.\n",
    "prices = np.array([0.75, 0.22, 0.88])\n",
    "prices_col = prices.reshape(3,1)\n",
    "expenses = goods @ prices_col\n",
    "print(expenses)\n",
    "total_costs = expenses.sum()\n",
    "print(total_costs)"
   ]
  },
  {
   "cell_type": "code",
   "execution_count": 29,
   "id": "1738dfc2-0f98-4901-8626-617aa1588a4b",
   "metadata": {},
   "outputs": [
    {
     "name": "stdout",
     "output_type": "stream",
     "text": [
      "[[ 850]\n",
      " [1125]]\n",
      "[[39500]\n",
      " [49575]]\n"
     ]
    }
   ],
   "source": [
    "# Фирма закупает ноутбуки и стационарные компьютеры для оборудования офисов на двух этажах\n",
    "# здания.\n",
    "# ● На первом этаже планируется поставить 20 стационарных компьютеров и 20 ноутбуков.\n",
    "# ● На втором этаже – 12 стационарных компьютеров и 35 ноутбуков.\n",
    "# Компьютер стоит 850 евро, ноутбук – 1125 евро.\n",
    "# 1. Запишите матрицу А, описывающую количество компьютеров и ноутбуков на каждом\n",
    "# этаже.\n",
    "# 2. Запишите вектор-столбец с ценами компьютеров и ноутбуков.\n",
    "# 3. С помощью матричных операций вычислите стоимость оборудования на каждом этаже.\n",
    "\n",
    "A = np.array([[20, 20], \n",
    "              [12, 35]])\n",
    "\n",
    "prices = np.array([[850], [1125]])\n",
    "print(prices)\n",
    "\n",
    "print(A @ prices)"
   ]
  },
  {
   "cell_type": "code",
   "execution_count": null,
   "id": "96495690-757f-4bb1-88af-1fabc4c65a66",
   "metadata": {},
   "outputs": [],
   "source": [
    "C: C @ A = E -- определение C = A ** (-1)\n",
    "\n",
    "A @ X = B -- задача найти X\n",
    "=====\n",
    "C @ A @ X = C @ B\n",
    "E @ X = C @ B\n",
    "X = C @ B"
   ]
  },
  {
   "cell_type": "code",
   "execution_count": 30,
   "id": "c290ffa0-aeb3-4043-a76b-131de3e7c1fe",
   "metadata": {},
   "outputs": [
    {
     "name": "stdout",
     "output_type": "stream",
     "text": [
      "[[ 1.00000000e+00  1.38777878e-16]\n",
      " [-1.11022302e-16  1.00000000e+00]]\n",
      "[[ 1.00000000e+00  0.00000000e+00]\n",
      " [-1.38777878e-17  1.00000000e+00]]\n"
     ]
    }
   ],
   "source": [
    "equipment = np.array([[20, 20], [12, 35]])\n",
    "\n",
    "inverse = np.linalg.inv(equipment) # обратная матрица\n",
    "\n",
    "# print(inverse) # A ** (-1)\n",
    "print(inverse @ equipment)\n",
    "print(equipment @ inverse) \n",
    "# A @ (A ** (-1)) = E то и  \n",
    "# (A ** (-1)) @ A  = E"
   ]
  },
  {
   "cell_type": "code",
   "execution_count": 33,
   "id": "00d95356-0c4b-4fb8-9dfd-4bb17605969e",
   "metadata": {},
   "outputs": [
    {
     "data": {
      "text/plain": [
       "array([[ 869.56521739],\n",
       "       [1130.43478261]])"
      ]
     },
     "execution_count": 33,
     "metadata": {},
     "output_type": "execute_result"
    }
   ],
   "source": [
    "# Фирма закупает ноутбуки и стационарные компьютеры для оборудования офисов на двух этажах здания.\n",
    "# ● На первом этаже планируется поставить 20 стационарных компьютеров и 20 ноутбуков.\n",
    "# ● На втором этаже – 12 стационарных компьютеров и 35 ноутбуков.\n",
    "# Стоимость оборудования первого этажа должна составить 40000 евро, а второго этажа – 50000.\n",
    "\n",
    "equipment = np.array([[20, 20], [12, 35]])\n",
    "expenses = np.array([[40000], [50000]])\n",
    "\n",
    "inverse = np.linalg.inv(equipment)\n",
    "\n",
    "x = inverse @ expenses # цены на компьютеры и ноутбуки\n",
    "x"
   ]
  },
  {
   "cell_type": "code",
   "execution_count": 32,
   "id": "6dd3e45c-129f-4325-97b0-26da80f3c7a6",
   "metadata": {},
   "outputs": [
    {
     "data": {
      "text/plain": [
       "array([[40000.],\n",
       "       [50000.]])"
      ]
     },
     "execution_count": 32,
     "metadata": {},
     "output_type": "execute_result"
    }
   ],
   "source": [
    "# Выполните проверку, что полученный вектор цен удовлетворяет матричному уравнению –\n",
    "# подставьте значения в уравнения или выполните умножение матрицы на этот столбец.\n",
    "\n",
    "equipment @ x"
   ]
  },
  {
   "cell_type": "code",
   "execution_count": 37,
   "id": "9416bcdb-d68a-4e64-8c78-f4eb7761b8d1",
   "metadata": {},
   "outputs": [
    {
     "name": "stdout",
     "output_type": "stream",
     "text": [
      "459.9999999999997\n"
     ]
    }
   ],
   "source": [
    "equipment = np.array([[20, 20], [12, 35]])\n",
    "# equipment = np.array([[20, 20], [30, 30]])\n",
    "det = np.linalg.det(np.array([[20, 20], [12, 35]]))\n",
    "\n",
    "print(det)"
   ]
  },
  {
   "cell_type": "code",
   "execution_count": null,
   "id": "73921fe6-00de-4341-9239-d37952fda3ad",
   "metadata": {},
   "outputs": [],
   "source": [
    "Матрица goods, как в примере выше, описывает количество муки, яиц и сахара в трех видах десертов некоторой\n",
    "кондитерской. Известно, что затраты на выпечку первого десерта составляют 2 евро, второго – 4 евро, третьего –\n",
    "3 евро.\n",
    "Найдите, сколько должны стоить мука, яйца и сахар для такой себестоимости десертов."
   ]
  },
  {
   "cell_type": "code",
   "execution_count": 43,
   "id": "b8759555-d864-4a92-948c-51dc5467dc65",
   "metadata": {},
   "outputs": [
    {
     "name": "stdout",
     "output_type": "stream",
     "text": [
      "Определитель матрицы goods: -1.50\n",
      "[[1.6 ]\n",
      " [0.18]\n",
      " [1.2 ]]\n",
      "Решение системы уравнений:\n",
      "Стоимость муки: 1.60 евро\n",
      "Стоимость яиц: 0.18 евро\n",
      "Стоимость сахара: 1.20 евро\n"
     ]
    }
   ],
   "source": [
    "import numpy as np\n",
    "\n",
    "# Матрица расхода продуктов\n",
    "goods = np.array([[0.5, 6, 0.1],\n",
    "                   [1, 10, 0.5],\n",
    "                   [0.3, 10, 0.6]])\n",
    "\n",
    "# Затраты на выпечку десертов\n",
    "costs = np.array([2, 4, 3])\n",
    "\n",
    "# Вычисляем определитель матрицы goods\n",
    "det_goods = np.linalg.det(goods)\n",
    "print(f\"Определитель матрицы goods: {det_goods:.2f}\")\n",
    "\n",
    "# Если определитель не равен нулю, решаем систему уравнений\n",
    "if det_goods != 0:\n",
    "    # Находим обратную матрицу\n",
    "    goods_inv = np.linalg.inv(goods)\n",
    "    \n",
    "    # Решаем систему уравнений\n",
    "    solution = (goods_inv @ costs).reshape(3,1)\n",
    "    print(solution)\n",
    "    \n",
    "    print(\"Решение системы уравнений:\")\n",
    "    print(f\"Стоимость муки: {solution[0,0]:.2f} евро\")\n",
    "    print(f\"Стоимость яиц: {solution[1,0]:.2f} евро\") \n",
    "    print(f\"Стоимость сахара: {solution[2,0]:.2f} евро\")\n",
    "else:\n",
    "    print(\"Определитель матрицы равен нулю, система уравнений не имеет единственного решения.\")\n"
   ]
  },
  {
   "cell_type": "code",
   "execution_count": 44,
   "id": "b4cabe45-d14f-4216-bc90-3f9a473ef9ba",
   "metadata": {},
   "outputs": [
    {
     "name": "stdout",
     "output_type": "stream",
     "text": [
      "Средние значения по столбцам: [-3.         -0.66666667]\n",
      "Дисперсия по столбцам: [16.66666667 10.88888889]\n",
      "Средние значения по строкам: [-1.5 -2.5 -1.5]\n",
      "Дисперсия по строкам: [12.25 30.25  2.25]\n"
     ]
    }
   ],
   "source": [
    "import numpy as np\n",
    "\n",
    "arr = np.random.randint(-10, 10, size=(3, 2))  \n",
    "\n",
    "mean_columns = np.mean(arr, axis=0)  # Средние значения по столбцам\n",
    "mean_rows = np.mean(arr, axis=1)     # Средние значения по строкам\n",
    "variance_columns = np.var(arr, axis=0)  # Дисперсия по столбцам\n",
    "variance_rows = np.var(arr, axis=1)     # Дисперсия по строкам\n",
    "print(f\"Средние значения по столбцам: {mean_columns}\")\n",
    "print(f\"Дисперсия по столбцам: {variance_columns}\")\n",
    "print(f\"Средние значения по строкам: {mean_rows}\")\n",
    "print(f\"Дисперсия по строкам: {variance_rows}\")"
   ]
  },
  {
   "cell_type": "code",
   "execution_count": 47,
   "id": "22858254-4013-42bc-8b9f-2562897104e9",
   "metadata": {},
   "outputs": [
    {
     "name": "stdout",
     "output_type": "stream",
     "text": [
      "[[ 0.2567261   0.2145499   1.10187585 ... -0.8114663  -3.58530788\n",
      "   3.21367622]\n",
      " [ 4.1662421   0.69411747  3.18684085 ...  1.40803225  1.29756314\n",
      "   4.7958164 ]\n",
      " [ 2.43414533 -2.57690952  1.56202907 ...  1.28850037  5.51255557\n",
      "  -0.18552503]\n",
      " ...\n",
      " [ 4.80679686  4.26161583  0.48772412 ...  1.61665197  3.27592167\n",
      "  -1.22131779]\n",
      " [ 3.80960026 -0.01326456  1.96983264 ...  0.87362663 -0.55881422\n",
      "   3.10777425]\n",
      " [ 1.48739383  2.49342043 -0.5585912  ...  4.00167813  1.86013086\n",
      "   2.40823385]]\n"
     ]
    },
    {
     "data": {
      "text/plain": [
       "array([1.02558895, 1.00632397, 1.05287546, ..., 1.00715175, 1.00981987,\n",
       "       0.92022126], shape=(2000,))"
      ]
     },
     "execution_count": 47,
     "metadata": {},
     "output_type": "execute_result"
    }
   ],
   "source": [
    "norm = np.random.normal(1, 2, size=(1000, 2000))  \n",
    "print(norm)\n",
    "norm.mean(axis = 0)"
   ]
  },
  {
   "cell_type": "code",
   "execution_count": 48,
   "id": "80781bac-8375-462d-b1a5-45dec43b159d",
   "metadata": {},
   "outputs": [
    {
     "data": {
      "text/plain": [
       "array([3.87249513, 3.84525372, 4.52235772, ..., 4.23996667, 3.81814362,\n",
       "       3.72603541], shape=(2000,))"
      ]
     },
     "execution_count": 48,
     "metadata": {},
     "output_type": "execute_result"
    }
   ],
   "source": [
    "norm.var(axis = 0)"
   ]
  },
  {
   "cell_type": "code",
   "execution_count": 54,
   "id": "72be2882-f88a-4eb9-8b22-0f58a9701b54",
   "metadata": {},
   "outputs": [
    {
     "name": "stdin",
     "output_type": "stream",
     "text": [
      "количество точек:  10\n"
     ]
    },
    {
     "name": "stdout",
     "output_type": "stream",
     "text": [
      "[[-0.70063572  1.26783113]\n",
      " [-0.93453354  2.05300655]\n",
      " [ 0.9324513  -0.20260742]\n",
      " [-0.3888605   0.16646431]\n",
      " [-0.38924809 -0.85205203]\n",
      " [ 1.88846838  0.64372182]\n",
      " [-0.06641171 -0.44146192]\n",
      " [ 0.85817539 -0.05162305]\n",
      " [-0.43732582  0.07157016]\n",
      " [ 0.47436886 -0.18593512]]\n",
      " ---- \n",
      "[0.12364485 0.24689144]\n",
      " ---- \n",
      "0.12364485394307803\n",
      "0.2468914422775832\n",
      " ---- \n",
      "0.8430316037429709\n"
     ]
    }
   ],
   "source": [
    "import numpy as np\n",
    "N = int(input(\"количество точек: \"))\n",
    "\n",
    "n_arr = np.random.normal(size=(N, 2))\n",
    "print(n_arr)\n",
    "print(\" ---- \")\n",
    "mean_arr = n_arr.mean(axis=0)\n",
    "print(mean_arr)\n",
    "av_x = mean_arr[0]\n",
    "print(\" ---- \")\n",
    "print(av_x)\n",
    "\n",
    "av_y = mean_arr[1]\n",
    "print(av_y)\n",
    "\n",
    "print(\" ---- \")\n",
    "\n",
    "std_arr = n_arr.std(axis=0)\n",
    "\n",
    "std_x = std_arr[0]\n",
    "print(std_x)\n",
    "\n",
    "std_y = std_arr[1]"
   ]
  },
  {
   "cell_type": "code",
   "execution_count": null,
   "id": "38a0a70b-dd7d-4442-9711-b0254269fa48",
   "metadata": {},
   "outputs": [],
   "source": []
  }
 ],
 "metadata": {
  "kernelspec": {
   "display_name": "Python 3 (ipykernel)",
   "language": "python",
   "name": "python3"
  },
  "language_info": {
   "codemirror_mode": {
    "name": "ipython",
    "version": 3
   },
   "file_extension": ".py",
   "mimetype": "text/x-python",
   "name": "python",
   "nbconvert_exporter": "python",
   "pygments_lexer": "ipython3",
   "version": "3.12.5"
  }
 },
 "nbformat": 4,
 "nbformat_minor": 5
}
