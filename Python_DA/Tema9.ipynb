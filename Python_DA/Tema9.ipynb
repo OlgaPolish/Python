{
 "cells": [
  {
   "cell_type": "code",
   "execution_count": 2,
   "id": "94cca89a-18bb-4636-adf4-36064889c4a9",
   "metadata": {},
   "outputs": [
    {
     "data": {
      "text/plain": [
       "2016-01-01    1.0\n",
       "2016-01-02    3.0\n",
       "2016-01-03    5.0\n",
       "2016-01-04    NaN\n",
       "2016-01-05    6.0\n",
       "2016-01-06    8.0\n",
       "Freq: D, dtype: float64"
      ]
     },
     "execution_count": 2,
     "metadata": {},
     "output_type": "execute_result"
    }
   ],
   "source": [
    "import pandas as pd\n",
    "import numpy as np\n",
    "\n",
    "l = [1, 3, 5, np.nan, 6, 8]\n",
    "d = pd.date_range('20160101', periods=6)\n",
    "d\n",
    "# DatetimeIndex(['2016-01-01', '2016-01-02', '2016-01-03', '2016-01-04',\n",
    "# '2016-01-05', '2016-01-06'],\n",
    "# dtype='datetime64[ns]', freq='D')\n",
    "s = pd.Series(l, index=d)\n",
    "s"
   ]
  },
  {
   "cell_type": "code",
   "execution_count": 3,
   "id": "204c0dea-d677-4968-adad-6de7a5c68eaf",
   "metadata": {},
   "outputs": [
    {
     "data": {
      "text/plain": [
       "2016-01-03    5.0\n",
       "2016-01-05    6.0\n",
       "2016-01-06    8.0\n",
       "dtype: float64"
      ]
     },
     "execution_count": 3,
     "metadata": {},
     "output_type": "execute_result"
    }
   ],
   "source": [
    "s[s>3]"
   ]
  },
  {
   "cell_type": "code",
   "execution_count": 4,
   "id": "d5f2f0e5-476f-4419-aaac-dcd32ab76bd2",
   "metadata": {},
   "outputs": [
    {
     "data": {
      "text/plain": [
       "0    1.0\n",
       "1    3.0\n",
       "2    5.0\n",
       "3    NaN\n",
       "4    6.0\n",
       "5    8.0\n",
       "dtype: float64"
      ]
     },
     "execution_count": 4,
     "metadata": {},
     "output_type": "execute_result"
    }
   ],
   "source": [
    "s = pd.Series(l)\n",
    "s"
   ]
  },
  {
   "cell_type": "code",
   "execution_count": 6,
   "id": "efb50b55-bb5d-4c34-b4c3-793e18576654",
   "metadata": {},
   "outputs": [
    {
     "data": {
      "text/plain": [
       "{0: 1.0, 1: 3.0, 2: 5.0, 3: nan, 4: 6.0, 5: 8.0}"
      ]
     },
     "execution_count": 6,
     "metadata": {},
     "output_type": "execute_result"
    }
   ],
   "source": [
    "s.values, type(s.values)\n",
    "# (array([ 1., 3., 5., nan, 6., 8.]), numpy.ndarray)\n",
    "s.to_dict()\n",
    "# {0: 1.0, 1: 3.0, 2: 5.0, 3: nan, 4: 6.0, 5: 8.0}"
   ]
  },
  {
   "cell_type": "code",
   "execution_count": null,
   "id": "5cd398f9-66e2-4167-b401-87a46e234bf9",
   "metadata": {},
   "outputs": [],
   "source": [
    "s.index\n",
    "# RangeIndex(start=0, stop=6, step=1)"
   ]
  },
  {
   "cell_type": "code",
   "execution_count": 7,
   "id": "fd1e3af2-d7cd-4e13-9496-9b1dd4b113ef",
   "metadata": {},
   "outputs": [
    {
     "data": {
      "text/plain": [
       "count    5.000000\n",
       "mean     4.600000\n",
       "std      2.701851\n",
       "min      1.000000\n",
       "25%      3.000000\n",
       "50%      5.000000\n",
       "75%      6.000000\n",
       "max      8.000000\n",
       "dtype: float64"
      ]
     },
     "execution_count": 7,
     "metadata": {},
     "output_type": "execute_result"
    }
   ],
   "source": [
    "# Что делает s.describe():\n",
    "# count: количество ненулевых значений.\n",
    "# mean: среднее значение.\n",
    "# std: стандартное отклонение.\n",
    "# min: минимальное значение.\n",
    "# 25%: 25-й процентиль (первый квартиль).\n",
    "# 50%: медиана (50-й процентиль).\n",
    "# 75%: 75-й процентиль (третий квартиль).\n",
    "# max: максимальное значение\n",
    "s.describe()"
   ]
  },
  {
   "cell_type": "code",
   "execution_count": 8,
   "id": "54be8d73-b4ef-4a6d-ac8e-cf0e98e50f62",
   "metadata": {},
   "outputs": [
    {
     "data": {
      "text/plain": [
       "np.float64(5.0)"
      ]
     },
     "execution_count": 8,
     "metadata": {},
     "output_type": "execute_result"
    }
   ],
   "source": [
    "s = pd.Series([1, 3, 5, np.nan, 6, 8])\n",
    "s[2]"
   ]
  },
  {
   "cell_type": "code",
   "execution_count": 11,
   "id": "c0e671d8-5fd9-4744-8e65-5e01f1c3784b",
   "metadata": {},
   "outputs": [
    {
     "data": {
      "text/plain": [
       "0    1.0\n",
       "1    3.0\n",
       "2    7.0\n",
       "3    NaN\n",
       "4    6.0\n",
       "5    8.0\n",
       "dtype: float64"
      ]
     },
     "execution_count": 11,
     "metadata": {},
     "output_type": "execute_result"
    }
   ],
   "source": [
    "s[2] = 7 \n",
    "s"
   ]
  },
  {
   "cell_type": "code",
   "execution_count": 12,
   "id": "350c6379-64bb-4b3e-8fa1-363fb7ed6d7a",
   "metadata": {},
   "outputs": [
    {
     "data": {
      "text/plain": [
       "2    7.0\n",
       "3    NaN\n",
       "4    6.0\n",
       "dtype: float64"
      ]
     },
     "execution_count": 12,
     "metadata": {},
     "output_type": "execute_result"
    }
   ],
   "source": [
    "s[2:5]\n"
   ]
  },
  {
   "cell_type": "code",
   "execution_count": 13,
   "id": "0f0c32ea-dcf9-4812-86f1-58e824522b91",
   "metadata": {},
   "outputs": [
    {
     "data": {
      "text/plain": [
       "1    3.0\n",
       "2    7.0\n",
       "3    NaN\n",
       "4    6.0\n",
       "5    8.0\n",
       "dtype: float64"
      ]
     },
     "execution_count": 13,
     "metadata": {},
     "output_type": "execute_result"
    }
   ],
   "source": [
    "s1 = s[1:]\n",
    "s1"
   ]
  },
  {
   "cell_type": "code",
   "execution_count": 14,
   "id": "30af36af-44c2-4a08-ab2a-77aa9011c115",
   "metadata": {},
   "outputs": [
    {
     "data": {
      "text/plain": [
       "0    1.0\n",
       "1    3.0\n",
       "2    7.0\n",
       "3    NaN\n",
       "4    6.0\n",
       "dtype: float64"
      ]
     },
     "execution_count": 14,
     "metadata": {},
     "output_type": "execute_result"
    }
   ],
   "source": [
    "s2 = s[:-1]\n",
    "s2"
   ]
  },
  {
   "cell_type": "code",
   "execution_count": 15,
   "id": "c8a06350-8215-4ae5-9fc7-6079c6c9d9c3",
   "metadata": {},
   "outputs": [
    {
     "data": {
      "text/plain": [
       "0     NaN\n",
       "1     6.0\n",
       "2    14.0\n",
       "3     NaN\n",
       "4    12.0\n",
       "5     NaN\n",
       "dtype: float64"
      ]
     },
     "execution_count": 15,
     "metadata": {},
     "output_type": "execute_result"
    }
   ],
   "source": [
    "s1 + s2"
   ]
  },
  {
   "cell_type": "code",
   "execution_count": 16,
   "id": "eda19457-d7a0-4538-b739-f67b99efebef",
   "metadata": {},
   "outputs": [
    {
     "data": {
      "text/plain": [
       "(pandas.core.series.Series, pandas.core.series.Series)"
      ]
     },
     "execution_count": 16,
     "metadata": {},
     "output_type": "execute_result"
    }
   ],
   "source": [
    "np.exp(s1)\n",
    "type(np.exp(s)), type(s)"
   ]
  },
  {
   "cell_type": "code",
   "execution_count": 17,
   "id": "fd372d75-2f8f-45fe-98c5-1ce6fe52e980",
   "metadata": {},
   "outputs": [
    {
     "name": "stdout",
     "output_type": "stream",
     "text": [
      "6\n",
      "[3 7]\n",
      "[[3 4]\n",
      " [7 8]]\n"
     ]
    }
   ],
   "source": [
    "cube = np.array([[[1, 2], [3, 4]], [[5, 6], [7, 8]]])\n",
    "print(cube[1, 0, 1])\n",
    "print(cube[:, 1, 0])\n",
    "print(cube[:, 1])"
   ]
  },
  {
   "cell_type": "code",
   "execution_count": 18,
   "id": "684e7a51-e7db-4d93-a48e-786e9f08e7be",
   "metadata": {},
   "outputs": [
    {
     "name": "stdout",
     "output_type": "stream",
     "text": [
      "0   NaN\n",
      "1   NaN\n",
      "2   NaN\n",
      "3   NaN\n",
      "4   NaN\n",
      "5   NaN\n",
      "dtype: float64\n",
      "Series([], dtype: float64)\n"
     ]
    }
   ],
   "source": [
    "s = pd.Series([1, 2, 3, 4, 5, 6])\n",
    "t = s[2:]+s[:2]\n",
    "print(t)\n",
    "print(t.dropna())"
   ]
  },
  {
   "cell_type": "code",
   "execution_count": null,
   "id": "95b9ca94-77cc-4dd2-9f55-019499c37f60",
   "metadata": {},
   "outputs": [],
   "source": [
    "Посчитайте кумулятивное среднее квадратов разностей соседних элементов набора s.\n",
    "От них можно избавиться при помощи метода dropna."
   ]
  },
  {
   "cell_type": "code",
   "execution_count": 22,
   "id": "82e87fc1-fbeb-40e7-b3d7-eaaa9986ed20",
   "metadata": {},
   "outputs": [
    {
     "name": "stdout",
     "output_type": "stream",
     "text": [
      "0    NaN\n",
      "1    1.0\n",
      "2    7.0\n",
      "3   -3.0\n",
      "4    4.0\n",
      "dtype: float64\n",
      "0     NaN\n",
      "1     1.0\n",
      "2    49.0\n",
      "3     9.0\n",
      "4    16.0\n",
      "dtype: float64\n",
      "1     1.000000\n",
      "2    25.000000\n",
      "3    19.666667\n",
      "4    18.750000\n",
      "dtype: float64\n"
     ]
    }
   ],
   "source": [
    "import pandas as pd\n",
    "\n",
    "# Пример набора данных\n",
    "s = pd.Series([1, 2, 9, 6, 10])\n",
    "\n",
    "# Вычисление разностей\n",
    "differences = s.diff()\n",
    "print(differences)\n",
    "# Возведение в квадрат\n",
    "squared_differences = differences ** 2\n",
    "print(squared_differences)\n",
    "# Кумулятивное среднее\n",
    "cumulative_mean = squared_differences.cumsum() / (squared_differences.notna().cumsum())\n",
    "\n",
    "# Удаление NaN значений\n",
    "cumulative_mean_cleaned = cumulative_mean.dropna()\n",
    "\n",
    "print(cumulative_mean_cleaned)\n"
   ]
  },
  {
   "cell_type": "code",
   "execution_count": 25,
   "id": "b711bd51-feef-48c8-a988-37122216ed4a",
   "metadata": {},
   "outputs": [
    {
     "data": {
      "text/html": [
       "<div>\n",
       "<style scoped>\n",
       "    .dataframe tbody tr th:only-of-type {\n",
       "        vertical-align: middle;\n",
       "    }\n",
       "\n",
       "    .dataframe tbody tr th {\n",
       "        vertical-align: top;\n",
       "    }\n",
       "\n",
       "    .dataframe thead th {\n",
       "        text-align: right;\n",
       "    }\n",
       "</style>\n",
       "<table border=\"1\" class=\"dataframe\">\n",
       "  <thead>\n",
       "    <tr style=\"text-align: right;\">\n",
       "      <th></th>\n",
       "      <th>x</th>\n",
       "      <th>y</th>\n",
       "      <th>z</th>\n",
       "    </tr>\n",
       "  </thead>\n",
       "  <tbody>\n",
       "    <tr>\n",
       "      <th>0</th>\n",
       "      <td>-1</td>\n",
       "      <td>0</td>\n",
       "      <td>1</td>\n",
       "    </tr>\n",
       "    <tr>\n",
       "      <th>9</th>\n",
       "      <td>-1</td>\n",
       "      <td>1</td>\n",
       "      <td>0</td>\n",
       "    </tr>\n",
       "    <tr>\n",
       "      <th>5</th>\n",
       "      <td>0</td>\n",
       "      <td>0</td>\n",
       "      <td>-1</td>\n",
       "    </tr>\n",
       "    <tr>\n",
       "      <th>1</th>\n",
       "      <td>0</td>\n",
       "      <td>0</td>\n",
       "      <td>0</td>\n",
       "    </tr>\n",
       "    <tr>\n",
       "      <th>3</th>\n",
       "      <td>0</td>\n",
       "      <td>0</td>\n",
       "      <td>0</td>\n",
       "    </tr>\n",
       "    <tr>\n",
       "      <th>4</th>\n",
       "      <td>0</td>\n",
       "      <td>0</td>\n",
       "      <td>0</td>\n",
       "    </tr>\n",
       "    <tr>\n",
       "      <th>7</th>\n",
       "      <td>0</td>\n",
       "      <td>0</td>\n",
       "      <td>0</td>\n",
       "    </tr>\n",
       "    <tr>\n",
       "      <th>8</th>\n",
       "      <td>0</td>\n",
       "      <td>0</td>\n",
       "      <td>0</td>\n",
       "    </tr>\n",
       "    <tr>\n",
       "      <th>6</th>\n",
       "      <td>0</td>\n",
       "      <td>0</td>\n",
       "      <td>2</td>\n",
       "    </tr>\n",
       "    <tr>\n",
       "      <th>2</th>\n",
       "      <td>1</td>\n",
       "      <td>0</td>\n",
       "      <td>0</td>\n",
       "    </tr>\n",
       "  </tbody>\n",
       "</table>\n",
       "</div>"
      ],
      "text/plain": [
       "   x  y  z\n",
       "0 -1  0  1\n",
       "9 -1  1  0\n",
       "5  0  0 -1\n",
       "1  0  0  0\n",
       "3  0  0  0\n",
       "4  0  0  0\n",
       "7  0  0  0\n",
       "8  0  0  0\n",
       "6  0  0  2\n",
       "2  1  0  0"
      ]
     },
     "execution_count": 25,
     "metadata": {},
     "output_type": "execute_result"
    }
   ],
   "source": [
    "# Сгенерируйте массив точек в 3D, создайте по нему датафрейм и отсортируйте строки в порядке\n",
    "# следования осей.\n",
    "pd.DataFrame(np.random.normal(size=(10, 3)).astype(int), columns=['x', 'y', 'z']).sort_values(by=['x', 'y', 'z']) That's all. is this from now? Switch to Orkut. No, no, no. You know, I love"
   ]
  },
  {
   "cell_type": "code",
   "execution_count": 28,
   "id": "2da4a8f9-4b57-46ab-b892-832293991d4d",
   "metadata": {},
   "outputs": [
    {
     "data": {
      "text/html": [
       "<div>\n",
       "<style scoped>\n",
       "    .dataframe tbody tr th:only-of-type {\n",
       "        vertical-align: middle;\n",
       "    }\n",
       "\n",
       "    .dataframe tbody tr th {\n",
       "        vertical-align: top;\n",
       "    }\n",
       "\n",
       "    .dataframe thead th {\n",
       "        text-align: right;\n",
       "    }\n",
       "</style>\n",
       "<table border=\"1\" class=\"dataframe\">\n",
       "  <thead>\n",
       "    <tr style=\"text-align: right;\">\n",
       "      <th></th>\n",
       "      <th>one</th>\n",
       "      <th>two</th>\n",
       "      <th>three</th>\n",
       "    </tr>\n",
       "  </thead>\n",
       "  <tbody>\n",
       "    <tr>\n",
       "      <th>a</th>\n",
       "      <td>0.0</td>\n",
       "      <td>0</td>\n",
       "      <td>0.735327</td>\n",
       "    </tr>\n",
       "    <tr>\n",
       "      <th>b</th>\n",
       "      <td>1.0</td>\n",
       "      <td>1</td>\n",
       "      <td>-0.693545</td>\n",
       "    </tr>\n",
       "    <tr>\n",
       "      <th>c</th>\n",
       "      <td>NaN</td>\n",
       "      <td>2</td>\n",
       "      <td>1.498307</td>\n",
       "    </tr>\n",
       "    <tr>\n",
       "      <th>d</th>\n",
       "      <td>2.0</td>\n",
       "      <td>3</td>\n",
       "      <td>0.330720</td>\n",
       "    </tr>\n",
       "    <tr>\n",
       "      <th>e</th>\n",
       "      <td>3.0</td>\n",
       "      <td>4</td>\n",
       "      <td>1.093429</td>\n",
       "    </tr>\n",
       "    <tr>\n",
       "      <th>f</th>\n",
       "      <td>4.0</td>\n",
       "      <td>5</td>\n",
       "      <td>0.730899</td>\n",
       "    </tr>\n",
       "    <tr>\n",
       "      <th>g</th>\n",
       "      <td>5.0</td>\n",
       "      <td>6</td>\n",
       "      <td>-0.367907</td>\n",
       "    </tr>\n",
       "  </tbody>\n",
       "</table>\n",
       "</div>"
      ],
      "text/plain": [
       "   one  two     three\n",
       "a  0.0    0  0.735327\n",
       "b  1.0    1 -0.693545\n",
       "c  NaN    2  1.498307\n",
       "d  2.0    3  0.330720\n",
       "e  3.0    4  1.093429\n",
       "f  4.0    5  0.730899\n",
       "g  5.0    6 -0.367907"
      ]
     },
     "execution_count": 28,
     "metadata": {},
     "output_type": "execute_result"
    }
   ],
   "source": [
    "d = {'one': pd.Series(range(6), index=list('abdefg')),\n",
    " 'two': pd.Series(range(7), index=list('abcdefg')),\n",
    " 'three': pd.Series(np.random.normal(size=7), index=list('abcdefg'))}\n",
    "df = pd.DataFrame(d)\n",
    "df"
   ]
  },
  {
   "cell_type": "code",
   "execution_count": 37,
   "id": "c7dbadb7-4b68-4015-8770-0e12e0f5e19e",
   "metadata": {},
   "outputs": [
    {
     "name": "stdout",
     "output_type": "stream",
     "text": [
      "   one  two     three\n",
      "a  0.0  0.0 -0.359411\n",
      "b  1.0  1.0  1.166335\n",
      "c  NaN  2.0  2.130503\n",
      "d  2.0  3.0 -1.510119\n",
      "e  3.0  4.0 -0.012951\n",
      "f  4.0  5.0  0.152515\n",
      "g  5.0  6.0       NaN\n",
      "k  NaN  NaN  0.589751\n"
     ]
    }
   ],
   "source": [
    "data = {\n",
    "    'one': [0.0, 1.0, np.nan, 2.0, 3.0, 4.0, 5.0, np.nan],\n",
    "    'two': [0.0, 1.0, 2.0, 3.0, 4.0, 5.0, 6.0, np.nan],\n",
    "    'three': [-0.359411, 1.166335, 2.130503, -1.510119, -0.012951, 0.152515, np.nan, 0.589751]\n",
    "}\n",
    "\n",
    "df = pd.DataFrame(data, index=['a', 'b', 'c', 'd', 'e', 'f', 'g', 'k'])\n",
    "\n",
    "print(df)"
   ]
  },
  {
   "cell_type": "code",
   "execution_count": 38,
   "id": "74e4fb67-64cb-4877-9bb5-6c897335b2b3",
   "metadata": {},
   "outputs": [
    {
     "name": "stdout",
     "output_type": "stream",
     "text": [
      "a    0.0\n",
      "b    1.0\n",
      "c    NaN\n",
      "d    2.0\n",
      "e    3.0\n",
      "f    4.0\n",
      "g    5.0\n",
      "k    NaN\n",
      "Name: one, dtype: float64\n",
      "Index(['a', 'b', 'c', 'd', 'e', 'f', 'g', 'k'], dtype='object')\n",
      "one\n",
      "2.0\n"
     ]
    }
   ],
   "source": [
    "print(df.one)  # К столбцу можно обращаться как к полю объекта, если имя столбца позволяет это сделать (= является строкой)\n",
    "print(df['one'].index)  # Индекс полученного одномерного набора данных.\n",
    "print(df['one'].name)  # Можно получить имя данного столбца\n",
    "print(df['one']['d'])  # Получение элемента массива. Сначала надо указать столбец, потом строку\n",
    "# df['c']['one'] # А наоборот нельзя! (Эта строка закомментирована, так как она не работает)"
   ]
  },
  {
   "cell_type": "code",
   "execution_count": 41,
   "id": "4f5ccd7a-0ed8-42c0-a8c0-22a9b77f1775",
   "metadata": {},
   "outputs": [
    {
     "name": "stdout",
     "output_type": "stream",
     "text": [
      "   one  two     three\n",
      "b  1.0  1.0  1.166335\n",
      "c  NaN  2.0  2.130503\n",
      "d  2.0  3.0 -1.510119\n",
      "   one  two     three\n",
      "b  1.0  1.0  1.166335\n",
      "c  NaN  2.0  2.130503\n",
      "   one     three\n",
      "a  0.0 -0.359411\n",
      "b  1.0  1.166335\n",
      "c  NaN  2.130503\n",
      "d  2.0 -1.510119\n",
      "e  3.0 -0.012951\n",
      "f  4.0  0.152515\n",
      "g  5.0       NaN\n",
      "k  NaN  0.589751\n"
     ]
    },
    {
     "data": {
      "text/plain": [
       "a    0.0\n",
       "b    1.0\n",
       "c    NaN\n",
       "d    2.0\n",
       "e    3.0\n",
       "f    4.0\n",
       "g    5.0\n",
       "k    NaN\n",
       "Name: one, dtype: float64"
      ]
     },
     "metadata": {},
     "output_type": "display_data"
    },
    {
     "data": {
      "text/html": [
       "<div>\n",
       "<style scoped>\n",
       "    .dataframe tbody tr th:only-of-type {\n",
       "        vertical-align: middle;\n",
       "    }\n",
       "\n",
       "    .dataframe tbody tr th {\n",
       "        vertical-align: top;\n",
       "    }\n",
       "\n",
       "    .dataframe thead th {\n",
       "        text-align: right;\n",
       "    }\n",
       "</style>\n",
       "<table border=\"1\" class=\"dataframe\">\n",
       "  <thead>\n",
       "    <tr style=\"text-align: right;\">\n",
       "      <th></th>\n",
       "      <th>one</th>\n",
       "    </tr>\n",
       "  </thead>\n",
       "  <tbody>\n",
       "    <tr>\n",
       "      <th>a</th>\n",
       "      <td>0.0</td>\n",
       "    </tr>\n",
       "    <tr>\n",
       "      <th>b</th>\n",
       "      <td>1.0</td>\n",
       "    </tr>\n",
       "    <tr>\n",
       "      <th>c</th>\n",
       "      <td>NaN</td>\n",
       "    </tr>\n",
       "    <tr>\n",
       "      <th>d</th>\n",
       "      <td>2.0</td>\n",
       "    </tr>\n",
       "    <tr>\n",
       "      <th>e</th>\n",
       "      <td>3.0</td>\n",
       "    </tr>\n",
       "    <tr>\n",
       "      <th>f</th>\n",
       "      <td>4.0</td>\n",
       "    </tr>\n",
       "    <tr>\n",
       "      <th>g</th>\n",
       "      <td>5.0</td>\n",
       "    </tr>\n",
       "    <tr>\n",
       "      <th>k</th>\n",
       "      <td>NaN</td>\n",
       "    </tr>\n",
       "  </tbody>\n",
       "</table>\n",
       "</div>"
      ],
      "text/plain": [
       "   one\n",
       "a  0.0\n",
       "b  1.0\n",
       "c  NaN\n",
       "d  2.0\n",
       "e  3.0\n",
       "f  4.0\n",
       "g  5.0\n",
       "k  NaN"
      ]
     },
     "metadata": {},
     "output_type": "display_data"
    }
   ],
   "source": [
    "# Примеры доступа к данным\n",
    "print(df['b':'d'])  # Права граница включена!\n",
    "print(df[1:3])      # Диапазон целых чисел не включает правую границу\n",
    "# Эта команда будет выдавать ошибку, потому что обратиться по номеру к индексу нельзя.:\n",
    "# print(df[1])        # Обращение по индексу ошибка!\n",
    "\n",
    "# Срез нескольких столбцов\n",
    "print(df[['one', 'three']])  # Выводит столбцы 'one' и 'three'\n",
    "\n",
    "# Использование display для вывода\n",
    "from IPython.display import display\n",
    "display(df['one'])          # Выводит столбец 'one'\n",
    "display(df[['one']])       # Выводит DataFrame с одним столбцом 'one'"
   ]
  },
  {
   "cell_type": "code",
   "execution_count": 46,
   "id": "7cad0a70-3c72-4353-9fcc-c7f40f4c67d2",
   "metadata": {},
   "outputs": [
    {
     "name": "stdout",
     "output_type": "stream",
     "text": [
      "Строка с индексом 'b':\n",
      "one      1.000000\n",
      "two      1.000000\n",
      "three    1.166335\n",
      "Name: b, dtype: float64\n",
      "\n",
      "df.loc['b', 'one'] Значение в ячейке с индексом строки 'b' и столбца 'one':\n",
      "1.0\n",
      "\n",
      "df['one']['b'] То же значение, но другим способом: \n",
      "1.0\n",
      "\n",
      "df.loc['a':'b', 'one'] Значения в столбце 'one' для строк с индексами от 'a' до 'b':\n",
      "a    0.0\n",
      "b    1.0\n",
      "Name: one, dtype: float64\n",
      "\n",
      "Все столбцы для строк с индексами от 'a' до 'b':\n",
      "   one  two     three\n",
      "a  0.0  0.0 -0.359411\n",
      "b  1.0  1.0  1.166335\n",
      "\n",
      "df.loc[:, 'one'] Все значения в столбце 'one':\n",
      "a    0.0\n",
      "b    1.0\n",
      "c    NaN\n",
      "d    2.0\n",
      "e    3.0\n",
      "f    4.0\n",
      "g    5.0\n",
      "k    NaN\n",
      "Name: one, dtype: float64\n",
      "\n",
      "df.iloc[2] Строка с числовым индексом 2:\n",
      "one           NaN\n",
      "two      2.000000\n",
      "three    2.130503\n",
      "Name: c, dtype: float64\n",
      "\n",
      "df.iloc[1:3] Строки с числовыми индексами от 1 до 2:\n",
      "   one  two     three\n",
      "b  1.0  1.0  1.166335\n",
      "c  NaN  2.0  2.130503\n",
      "\n",
      "df.iloc[1:3, 0:2] Значения в столбцах от 0 до 1 для строк от 1 до 2:\n",
      "   one  two\n",
      "b  1.0  1.0\n",
      "c  NaN  2.0\n"
     ]
    }
   ],
   "source": [
    "# Получение строки с индексом 'b'\n",
    "print(\"Строка с индексом 'b':\")\n",
    "print(df.loc['b'])\n",
    "\n",
    "# Получение значения в ячейке с индексом строки 'b' и столбца 'one'\n",
    "print(\"\\ndf.loc['b', 'one'] Значение в ячейке с индексом строки 'b' и столбца 'one':\")\n",
    "print(df.loc['b', 'one'])\n",
    "\n",
    "# Получение значения в ячейке с индексом строки 'b' и столбца 'one' (альтернативный способ)\n",
    "print(\"\\ndf['one']['b'] То же значение, но другим способом: \")\n",
    "print(df['one']['b'])\n",
    "\n",
    "# Получение значений в столбце 'one' для строк с индексами от 'a' до 'b' (включительно)\n",
    "print(\"\\ndf.loc['a':'b', 'one'] Значения в столбце 'one' для строк с индексами от 'a' до 'b':\")\n",
    "print(df.loc['a':'b', 'one'])\n",
    "\n",
    "# Получение всех столбцов для строк с индексами от 'a' до 'b' (включительно)\n",
    "print(\"\\ndf.loc['a':'b', :] Все столбцы для строк с индексами от 'a' до 'b':\")\n",
    "print(df.loc['a':'b', :])\n",
    "\n",
    "# Получение всех значений в столбце 'one'\n",
    "print(\"\\ndf.loc[:, 'one'] Все значения в столбце 'one':\")\n",
    "print(df.loc[:, 'one'])\n",
    "\n",
    "# Получение строки с числовым индексом 2 (третья строка)\n",
    "print(\"\\ndf.iloc[2] Строка с числовым индексом 2:\")\n",
    "print(df.iloc[2])\n",
    "\n",
    "# Получение строк с числовыми индексами от 1 до 2 (включительно)\n",
    "print(\"\\ndf.iloc[1:3] Строки с числовыми индексами от 1 до 2:\")\n",
    "print(df.iloc[1:3])\n",
    "\n",
    "# Получение значений в столбцах с индексами от 0 до 1 (включительно) \n",
    "# для строк с индексами от 1 до 2 (включительно)\n",
    "print(\"\\ndf.iloc[1:3, 0:2] Значения в столбцах от 0 до 1 для строк от 1 до 2:\")\n",
    "print(df.iloc[1:3, 0:2])\n",
    "\n"
   ]
  },
  {
   "cell_type": "code",
   "execution_count": 47,
   "id": "2e33823a-68d6-4c75-9c88-d839bffadb77",
   "metadata": {},
   "outputs": [
    {
     "data": {
      "text/html": [
       "<div>\n",
       "<style scoped>\n",
       "    .dataframe tbody tr th:only-of-type {\n",
       "        vertical-align: middle;\n",
       "    }\n",
       "\n",
       "    .dataframe tbody tr th {\n",
       "        vertical-align: top;\n",
       "    }\n",
       "\n",
       "    .dataframe thead th {\n",
       "        text-align: right;\n",
       "    }\n",
       "</style>\n",
       "<table border=\"1\" class=\"dataframe\">\n",
       "  <thead>\n",
       "    <tr style=\"text-align: right;\">\n",
       "      <th></th>\n",
       "      <th>one</th>\n",
       "      <th>two</th>\n",
       "      <th>three</th>\n",
       "    </tr>\n",
       "  </thead>\n",
       "  <tbody>\n",
       "    <tr>\n",
       "      <th>b</th>\n",
       "      <td>1.0</td>\n",
       "      <td>1.0</td>\n",
       "      <td>1.166335</td>\n",
       "    </tr>\n",
       "    <tr>\n",
       "      <th>c</th>\n",
       "      <td>NaN</td>\n",
       "      <td>2.0</td>\n",
       "      <td>2.130503</td>\n",
       "    </tr>\n",
       "    <tr>\n",
       "      <th>f</th>\n",
       "      <td>4.0</td>\n",
       "      <td>5.0</td>\n",
       "      <td>0.152515</td>\n",
       "    </tr>\n",
       "    <tr>\n",
       "      <th>k</th>\n",
       "      <td>NaN</td>\n",
       "      <td>NaN</td>\n",
       "      <td>0.589751</td>\n",
       "    </tr>\n",
       "  </tbody>\n",
       "</table>\n",
       "</div>"
      ],
      "text/plain": [
       "   one  two     three\n",
       "b  1.0  1.0  1.166335\n",
       "c  NaN  2.0  2.130503\n",
       "f  4.0  5.0  0.152515\n",
       "k  NaN  NaN  0.589751"
      ]
     },
     "execution_count": 47,
     "metadata": {},
     "output_type": "execute_result"
    }
   ],
   "source": [
    "df[df.three > 0]\n"
   ]
  },
  {
   "cell_type": "code",
   "execution_count": 50,
   "id": "6d412bd6-cfcb-4cec-b8ef-1123cc061683",
   "metadata": {},
   "outputs": [
    {
     "name": "stdout",
     "output_type": "stream",
     "text": [
      "     one    two  three\n",
      "a   True   True   True\n",
      "b   True   True   True\n",
      "c  False   True   True\n",
      "d   True   True   True\n",
      "e   True   True   True\n",
      "f   True   True   True\n",
      "g   True   True  False\n",
      "k  False  False   True\n"
     ]
    }
   ],
   "source": [
    "print(df.notna())"
   ]
  },
  {
   "cell_type": "code",
   "execution_count": 54,
   "id": "fe66f44d-ab06-4397-a2b5-9e9f1faba34f",
   "metadata": {},
   "outputs": [
    {
     "name": "stdout",
     "output_type": "stream",
     "text": [
      "   one  two     three\n",
      "a  0.0  0.0 -0.359411\n",
      "b  1.0  1.0  1.166335\n",
      "d  2.0  3.0 -1.510119\n",
      "e  3.0  4.0 -0.012951\n",
      "f  4.0  5.0  0.152515\n"
     ]
    }
   ],
   "source": [
    "print(df.dropna())"
   ]
  },
  {
   "cell_type": "code",
   "execution_count": 52,
   "id": "d96d74c6-9174-4377-8e47-47ed19cc22f7",
   "metadata": {},
   "outputs": [
    {
     "name": "stdout",
     "output_type": "stream",
     "text": [
      "   one  two     three\n",
      "a  0.0  0.0 -0.359411\n",
      "b  1.0  1.0  1.166335\n",
      "c  NaN  2.0  2.130503\n",
      "d  2.0  3.0 -1.510119\n",
      "e  3.0  4.0 -0.012951\n",
      "f  4.0  5.0  0.152515\n",
      "g  5.0  6.0       NaN\n",
      "k  NaN  NaN  0.589751\n"
     ]
    }
   ],
   "source": [
    "print(df)"
   ]
  },
  {
   "cell_type": "code",
   "execution_count": null,
   "id": "fb237eff-1871-4315-ace2-46d5928703a8",
   "metadata": {},
   "outputs": [],
   "source": []
  }
 ],
 "metadata": {
  "kernelspec": {
   "display_name": "Python 3 (ipykernel)",
   "language": "python",
   "name": "python3"
  },
  "language_info": {
   "codemirror_mode": {
    "name": "ipython",
    "version": 3
   },
   "file_extension": ".py",
   "mimetype": "text/x-python",
   "name": "python",
   "nbconvert_exporter": "python",
   "pygments_lexer": "ipython3",
   "version": "3.12.5"
  }
 },
 "nbformat": 4,
 "nbformat_minor": 5
}
