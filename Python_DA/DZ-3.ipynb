{
 "cells": [
  {
   "cell_type": "code",
   "execution_count": 1,
   "id": "166702ce-e20c-474a-9bf4-f29dc1d798aa",
   "metadata": {},
   "outputs": [],
   "source": [
    "# 1. Сравнение производительности операций над массивами:\n",
    "# Напишите программу, которая:\n",
    "# - Генерирует два больших одномерных массива с 1 миллионом элементов каждый, заполненных случайными числами.\n",
    "# - Сначала выполняет поэлементное сложение этих массивов, используя циклы Python.\n",
    "# - Затем выполняет ту же операцию, используя возможности NumPy.\n",
    "# - Измеряет и выводит время выполнения каждого подхода."
   ]
  },
  {
   "cell_type": "code",
   "execution_count": 2,
   "id": "cc4248b6-e4bb-4b43-8e2c-0b2761e0762b",
   "metadata": {},
   "outputs": [
    {
     "name": "stdout",
     "output_type": "stream",
     "text": [
      "Время выполнения сложения с использованием цикла Python: 0.11710 секунды.\n",
      "Время выполнения сложения с использованием NumPy: 0.00300 секунды.\n"
     ]
    }
   ],
   "source": [
    "import numpy as np\n",
    "import time\n",
    "import random\n",
    "\n",
    "array1 = [random.randint(0, 100) for i in range(1000000)]\n",
    "array2 = [random.randint(0, 100) for i in range(1000000)]\n",
    "\n",
    "# Python\n",
    "start_time = time.time()\n",
    "result_python = [array1[i] + array2[i] for i in range(1000000)]\n",
    "python_time = time.time() - start_time\n",
    "\n",
    "np_array1 = np.array(array1)\n",
    "np_array2 = np.array(array2)\n",
    "\n",
    "# NumPy\n",
    "start_time = time.time()\n",
    "result_numpy = np_array1 + np_array2\n",
    "numpy_time = time.time() - start_time\n",
    "\n",
    "print(f\"Время выполнения сложения с использованием цикла Python: {python_time:.5f} секунды.\")\n",
    "print(f\"Время выполнения сложения с использованием NumPy: {numpy_time:.5f} секунды.\")"
   ]
  },
  {
   "cell_type": "code",
   "execution_count": null,
   "id": "96b80025-1220-40e5-8033-6ed7360701c4",
   "metadata": {},
   "outputs": [],
   "source": [
    "# 2. Анализ расположения данных в памяти:\n",
    "# Создать большой двумерный массив и исследовать, как изменение порядка (C-style и Fortran-style) влияет на производительность операций сложения и умножения."
   ]
  },
  {
   "cell_type": "code",
   "execution_count": 4,
   "id": "42f3acef-346d-4ba7-979d-9d5c4825bf93",
   "metadata": {},
   "outputs": [
    {
     "name": "stdout",
     "output_type": "stream",
     "text": [
      "C-style array:\n",
      "[[0.21341603 0.90537502 0.70586423 ... 0.73891679 0.57243447 0.57314938]\n",
      " [0.87222758 0.92770146 0.93791558 ... 0.39910295 0.26337649 0.75203973]\n",
      " [0.39520065 0.6426213  0.29467523 ... 0.0861484  0.71970661 0.49296207]\n",
      " ...\n",
      " [0.76380399 0.83627547 0.30582895 ... 0.89404588 0.97984545 0.69010114]\n",
      " [0.93523059 0.49003165 0.68126953 ... 0.86181824 0.12705569 0.6884622 ]\n",
      " [0.98908781 0.4985884  0.53744445 ... 0.40776905 0.0931404  0.24513826]]\n",
      "\n",
      "Fortran-style array:\n",
      "[[0.21341603 0.87222758 0.39520065 ... 0.76380399 0.93523059 0.98908781]\n",
      " [0.90537502 0.92770146 0.6426213  ... 0.83627547 0.49003165 0.4985884 ]\n",
      " [0.70586423 0.93791558 0.29467523 ... 0.30582895 0.68126953 0.53744445]\n",
      " ...\n",
      " [0.73891679 0.39910295 0.0861484  ... 0.89404588 0.86181824 0.40776905]\n",
      " [0.57243447 0.26337649 0.71970661 ... 0.97984545 0.12705569 0.0931404 ]\n",
      " [0.57314938 0.75203973 0.49296207 ... 0.69010114 0.6884622  0.24513826]]\n"
     ]
    }
   ],
   "source": [
    "import numpy as np\n",
    "import time\n",
    "n = 10000\n",
    "rand_list = np.random.rand(n * n)\n",
    "c_array = rand_list.reshape(n, n)\n",
    "f_array = rand_list.reshape(n, n, order='F')\n",
    "print(\"C-style array:\")\n",
    "print(c_array)\n",
    "print(\"\\nFortran-style array:\")\n",
    "print(f_array)"
   ]
  },
  {
   "cell_type": "code",
   "execution_count": 36,
   "id": "b0c54074-4372-4354-8b81-e87ebd416be7",
   "metadata": {},
   "outputs": [
    {
     "name": "stdout",
     "output_type": "stream",
     "text": [
      "317 ms ± 17.5 ms per loop (mean ± std. dev. of 7 runs, 1 loop each)\n"
     ]
    }
   ],
   "source": [
    "%%timeit\n",
    "c_array + c_array"
   ]
  },
  {
   "cell_type": "code",
   "execution_count": 37,
   "id": "605388b9-03ad-426f-b825-1160c9699049",
   "metadata": {},
   "outputs": [
    {
     "name": "stdout",
     "output_type": "stream",
     "text": [
      "324 ms ± 22.3 ms per loop (mean ± std. dev. of 7 runs, 1 loop each)\n"
     ]
    }
   ],
   "source": [
    "%%timeit \n",
    "f_array + f_array"
   ]
  },
  {
   "cell_type": "code",
   "execution_count": 38,
   "id": "1b3882c0-9627-45f8-8270-5250dd7f1d52",
   "metadata": {},
   "outputs": [
    {
     "name": "stdout",
     "output_type": "stream",
     "text": [
      "311 ms ± 9.75 ms per loop (mean ± std. dev. of 7 runs, 1 loop each)\n"
     ]
    }
   ],
   "source": [
    "%%timeit \n",
    "c_array * c_array"
   ]
  },
  {
   "cell_type": "code",
   "execution_count": 40,
   "id": "aa36afc7-9065-4104-b273-a969f5200116",
   "metadata": {},
   "outputs": [
    {
     "name": "stdout",
     "output_type": "stream",
     "text": [
      "311 ms ± 4.98 ms per loop (mean ± std. dev. of 7 runs, 1 loop each)\n"
     ]
    }
   ],
   "source": [
    "%%timeit \n",
    "f_array * f_array"
   ]
  },
  {
   "cell_type": "code",
   "execution_count": null,
   "id": "024851bb-3993-4206-abdd-60138a95ada5",
   "metadata": {},
   "outputs": [],
   "source": [
    "# 3. Обратная матрица и определитель:\n",
    "# Напишите программу, которая:\n",
    "# - Запрашивает у пользователя размер квадратной матрицы N.\n",
    "# - Генерирует квадратную матрицу размером N x N, заполненную случайными числами от -10 до 10.\n",
    "# - Выводит сгенерированную матрицу на экран.\n",
    "# - Вычисляет и выводит определитель матрицы.\n",
    "# - Если определитель не равен нулю, программа должна вычислить и вывести обратную матрицу. В противном случае, программа должна сообщить, что обратной матрицы не существует."
   ]
  },
  {
   "cell_type": "code",
   "execution_count": 34,
   "id": "b2b544d8-2c64-4506-802a-feecc0928440",
   "metadata": {},
   "outputs": [
    {
     "name": "stdin",
     "output_type": "stream",
     "text": [
      "Введите размер матрицы N:  3\n"
     ]
    },
    {
     "name": "stdout",
     "output_type": "stream",
     "text": [
      "\n",
      "Сгенерированная матрица:\n",
      "[[ 9 -4  1]\n",
      " [ 6  1  2]\n",
      " [ 0  8  7]]\n",
      "\n",
      "Определитель: 135.0\n",
      "\n",
      "Обратная матрица:\n",
      "[[-0.06666667  0.26666667 -0.06666667]\n",
      " [-0.31111111  0.46666667 -0.08888889]\n",
      " [ 0.35555556 -0.53333333  0.24444444]]\n"
     ]
    }
   ],
   "source": [
    "n = int(input(\"Введите размер матрицы N: \"))\n",
    "\n",
    "matrix = np.random.randint(-10, 11, size=(n, n))\n",
    "\n",
    "print(\"\\nСгенерированная матрица:\")\n",
    "print(matrix)\n",
    "\n",
    "det = np.linalg.det(matrix)\n",
    "print(\"\\nОпределитель:\", round(det, 2))\n",
    "\n",
    "if det != 0:\n",
    "    inv_matrix = np.linalg.inv(matrix)\n",
    "    print(\"\\nОбратная матрица:\")\n",
    "    print(inv_matrix)\n",
    "else:\n",
    "    print(\"\\nОбратной матрицы не существует.\")"
   ]
  },
  {
   "cell_type": "code",
   "execution_count": null,
   "id": "89dfd797-9271-4994-b4ca-c8e72cca9fbe",
   "metadata": {},
   "outputs": [],
   "source": []
  }
 ],
 "metadata": {
  "kernelspec": {
   "display_name": "Python 3 (ipykernel)",
   "language": "python",
   "name": "python3"
  },
  "language_info": {
   "codemirror_mode": {
    "name": "ipython",
    "version": 3
   },
   "file_extension": ".py",
   "mimetype": "text/x-python",
   "name": "python",
   "nbconvert_exporter": "python",
   "pygments_lexer": "ipython3",
   "version": "3.12.5"
  }
 },
 "nbformat": 4,
 "nbformat_minor": 5
}
