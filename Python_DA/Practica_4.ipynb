{
 "cells": [
  {
   "cell_type": "code",
   "execution_count": null,
   "id": "8752ad5e-a1ce-4b18-a007-095f797191c1",
   "metadata": {},
   "outputs": [],
   "source": [
    "Напишите программу, которая генерирует Series c данными о ежедневных доходах от\n",
    "трейдинга за прошлый год (индексы – это даты, суммы дохода – случайные, но учтите, что они\n",
    "могут быть и отрицательными).\n",
    "Программа должны вывести:\n",
    "○ Годовую доходность.\n",
    "○ Среднюю дневную доходность.\n",
    "○ Медианную дневную доходность.\n",
    "○ Наивысшую дневную доходность.\n",
    "○ Наибольший дневной убыток."
   ]
  },
  {
   "cell_type": "code",
   "execution_count": 2,
   "id": "57179883-3496-4984-9e9a-90bbe0a33026",
   "metadata": {},
   "outputs": [
    {
     "name": "stdout",
     "output_type": "stream",
     "text": [
      "Годовая доходность: -962.20\n",
      "Средняя дневная доходность: -2.64\n",
      "Медианная дневная доходность: -1.62\n",
      "Наивысшая дневная доходность: 98.76\n",
      "Наибольший дневной убыток: -99.46\n"
     ]
    }
   ],
   "source": [
    "import pandas as pd\n",
    "import numpy as np\n",
    "from datetime import datetime, timedelta\n",
    "\n",
    "# Генерация Series с данными о ежедневных доходах\n",
    "start_date = datetime(2022, 1, 1)\n",
    "end_date = datetime(2022, 12, 31)\n",
    "dates = pd.date_range(start_date, end_date)\n",
    "daily_returns = pd.Series(np.random.uniform(-100, 100, len(dates)), index=dates)\n",
    "\n",
    "# Вывод годовой доходности\n",
    "annual_return = daily_returns.sum()\n",
    "print(f\"Годовая доходность: {annual_return:.2f}\")\n",
    "\n",
    "# Вывод средней дневной доходности\n",
    "avg_daily_return = daily_returns.mean()\n",
    "print(f\"Средняя дневная доходность: {avg_daily_return:.2f}\")\n",
    "\n",
    "# Вывод медианной дневной доходности\n",
    "median_daily_return = daily_returns.median()\n",
    "print(f\"Медианная дневная доходность: {median_daily_return:.2f}\")\n",
    "\n",
    "# Вывод наивысшей дневной доходности\n",
    "max_daily_return = daily_returns.max()\n",
    "print(f\"Наивысшая дневная доходность: {max_daily_return:.2f}\")\n",
    "\n",
    "# Вывод наибольшего дневного убытка\n",
    "min_daily_return = daily_returns.min()\n",
    "print(f\"Наибольший дневной убыток: {min_daily_return:.2f}\")\n"
   ]
  },
  {
   "cell_type": "code",
   "execution_count": null,
   "id": "e705e335-dcc7-4505-9350-91c3198191b8",
   "metadata": {},
   "outputs": [],
   "source": []
  }
 ],
 "metadata": {
  "kernelspec": {
   "display_name": "Python 3 (ipykernel)",
   "language": "python",
   "name": "python3"
  },
  "language_info": {
   "codemirror_mode": {
    "name": "ipython",
    "version": 3
   },
   "file_extension": ".py",
   "mimetype": "text/x-python",
   "name": "python",
   "nbconvert_exporter": "python",
   "pygments_lexer": "ipython3",
   "version": "3.12.5"
  }
 },
 "nbformat": 4,
 "nbformat_minor": 5
}
