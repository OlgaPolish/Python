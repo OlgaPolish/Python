{
 "cells": [
  {
   "cell_type": "code",
   "execution_count": 2,
   "id": "48a3ee50-9a63-4442-a6ef-5d57c112687e",
   "metadata": {},
   "outputs": [
    {
     "name": "stdin",
     "output_type": "stream",
     "text": [
      "Введите первый массив:  1 2 3 \n",
      "Введите второй массив:  4 5 6\n"
     ]
    },
    {
     "name": "stdout",
     "output_type": "stream",
     "text": [
      "Результат сложения: [5 7 9]\n"
     ]
    }
   ],
   "source": [
    "import numpy as np\n",
    "# 1. Сложение двух массивов:\n",
    "#    Напишите программу, которая:\n",
    "#    - Запрашивает у пользователя ввод двух одномерных массивов одинаковой длины. Массивы вводятся в виде чисел, разделенных пробелами.\n",
    "#    - Преобразует введенные строки в массивы NumPy.\n",
    "#    - Складывает два массива поэлементно.\n",
    "#    - Выводит результат сложения на экран.\n",
    "\n",
    "arr1 = input(\"Введите первый массив: \")\n",
    "arr2 = input(\"Введите второй массив: \")\n",
    "\n",
    "arr1 = np.array(list(map(int, arr1.split())))\n",
    "arr2 = np.array(list(map(int, arr2.split())))\n",
    "\n",
    "print(f\"Результат сложения: {arr1 + arr2}\")"
   ]
  },
  {
   "cell_type": "code",
   "execution_count": 3,
   "id": "57b86048-9fc4-43c3-9435-757597415366",
   "metadata": {},
   "outputs": [
    {
     "name": "stdin",
     "output_type": "stream",
     "text": [
      "Введите размер массивов:  3\n"
     ]
    },
    {
     "name": "stdout",
     "output_type": "stream",
     "text": [
      "Первый массив: [9, 6, 5]\n",
      "Второй массив: [8, 3, 2]\n",
      "Результат умножения:[72 18 10]\n"
     ]
    }
   ],
   "source": [
    "import random as rd\n",
    "# 2. Поэлементное умножение массивов:\n",
    "#    Напишите программу, которая:\n",
    "#    - Запрашивает у пользователя размер массивов N.\n",
    "#    - Генерирует два одномерных массива длины N с случайными целыми числами от 1 до 10.\n",
    "#    - Выводит оба сгенерированных массива на экран.\n",
    "#    - Выполняет поэлементное умножение массивов.\n",
    "#    - Выводит результат умножения на экран.\n",
    "\n",
    "n = int(input(\"Введите размер массивов: \"))\n",
    "\n",
    "arr1 = [rd.randint(1, 10) for _ in range(n)]\n",
    "arr2 = [rd.randint(1, 10) for _ in range(n)]\n",
    "\n",
    "print(f\"Первый массив: {arr1}\")\n",
    "print(f\"Второй массив: {arr2}\")\n",
    "\n",
    "print(f\"Результат умножения:{np.array(arr1) * np.array(arr2)}\")"
   ]
  },
  {
   "cell_type": "code",
   "execution_count": 3,
   "id": "e39b5724-a441-4ab6-8b6b-7b39351501bf",
   "metadata": {},
   "outputs": [
    {
     "name": "stdin",
     "output_type": "stream",
     "text": [
      "Введите количество элементов массива:  4\n"
     ]
    },
    {
     "name": "stdout",
     "output_type": "stream",
     "text": [
      "Сгенерированный массив: [58, 86, 69, 86]\n"
     ]
    },
    {
     "name": "stdin",
     "output_type": "stream",
     "text": [
      "Введите число для умножения:  2\n"
     ]
    },
    {
     "name": "stdout",
     "output_type": "stream",
     "text": [
      "Измененный массив: [116 172 138 172]\n"
     ]
    }
   ],
   "source": [
    "# 3. Создание и модификация массива:\n",
    "#    Напишите программу, которая:\n",
    "#    - Запрашивает у пользователя количество элементов массива N.\n",
    "#    - Генерирует одномерный массив длины N, заполненный случайными числами от 0 до 100.\n",
    "#    - Выводит сгенерированный массив на экран.\n",
    "#    - Запрашивает у пользователя число X.\n",
    "#    - Умножает каждый элемент массива на число X.\n",
    "#    - Выводит измененный массив на экран.\n",
    "\n",
    "n = int(input(\"Введите количество элементов массива: \"))\n",
    "\n",
    "arr = [rd.randint(1, 100) for _ in range(n)]\n",
    "print(f\"Сгенерированный массив: {arr}\")\n",
    "\n",
    "x = int(input(\"Введите число для умножения: \"))\n",
    "modified_arr = np.array(arr) * x\n",
    "\n",
    "print(f\"Измененный массив: {modified_arr}\")"
   ]
  },
  {
   "cell_type": "code",
   "execution_count": null,
   "id": "a6a722c3-b534-4ea9-b49b-e9393e6d3c21",
   "metadata": {},
   "outputs": [],
   "source": []
  }
 ],
 "metadata": {
  "kernelspec": {
   "display_name": "Python 3 (ipykernel)",
   "language": "python",
   "name": "python3"
  },
  "language_info": {
   "codemirror_mode": {
    "name": "ipython",
    "version": 3
   },
   "file_extension": ".py",
   "mimetype": "text/x-python",
   "name": "python",
   "nbconvert_exporter": "python",
   "pygments_lexer": "ipython3",
   "version": "3.12.5"
  }
 },
 "nbformat": 4,
 "nbformat_minor": 5
}
