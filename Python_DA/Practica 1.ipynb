{
 "cells": [
  {
   "cell_type": "code",
   "execution_count": 3,
   "id": "4346a9b1-f1ba-4089-bde5-606bcb086606",
   "metadata": {},
   "outputs": [
    {
     "name": "stdout",
     "output_type": "stream",
     "text": [
      "[[  9  20  33  48]\n",
      " [ 45  60  77  96]\n",
      " [ 81 100 121 144]\n",
      " [117 140 165 192]]\n",
      "[[-1  0  1  2]\n",
      " [-1  0  1  2]\n",
      " [-1  0  1  2]\n",
      " [-1  0  1  2]]\n"
     ]
    }
   ],
   "source": [
    "import numpy as np\n",
    "a = np.arange(16).reshape(4,4)\n",
    "matrix = np.array([[1, 2, 3, 4], \n",
    "                   [5, 6, 7, 8],\n",
    "                   [9, 10, 11, 12],\n",
    "                   [13, 14, 15, 16]])\n",
    "\n",
    "third_row = matrix[2]\n",
    "result_1 = matrix * third_row\n",
    "print(result_1)\n",
    "\n",
    "second_column = matrix[:, 1]\n",
    "result_2 = matrix - second_column.reshape(4, 1)\n",
    "print(result_2)"
   ]
  },
  {
   "cell_type": "code",
   "execution_count": null,
   "id": "2f8e174d-d2cc-4199-a284-da5ecaddb9b7",
   "metadata": {},
   "outputs": [],
   "source": [
    "# 1. Напишите программу, которая:\n",
    "# a. Запрашивает у пользователя ввод двух списков – в первом 5 элементов, во втором 4.\n",
    "# Списки вводятся в виде чисел, разделенных пробелами.\n",
    "# b. Объединяет введенные списки в один новый список из 9 элементов.\n",
    "# c. Преобразует полученный список в массив NumPy.\n",
    "# d. Вычисляет минимальное, среднее и максимальное значение для полученного массива."
   ]
  },
  {
   "cell_type": "code",
   "execution_count": 19,
   "id": "8ab0084a-219f-464a-bfd2-856422677369",
   "metadata": {},
   "outputs": [
    {
     "name": "stdin",
     "output_type": "stream",
     "text": [
      "list1:  1 2 3 4 5\n",
      "list2:  1 2 3 4\n"
     ]
    },
    {
     "name": "stdout",
     "output_type": "stream",
     "text": [
      "combined_list: [1 2 3 4 5 1 2 3 4]\n",
      "min_value: 1\n",
      "mean_value: 2.7777777777777777\n",
      "max_value : 5\n"
     ]
    }
   ],
   "source": [
    "list1 = input(\"list1: \").split()\n",
    "list1 = [int(x) for x in list1]\n",
    "\n",
    "list2 = input(\"list2: \").split()\n",
    "list2 = [int(x) for x in list2]\n",
    "\n",
    "array = np.array(list1 + list2)\n",
    "min_value = np.min(array)\n",
    "mean_value = np.mean(array)\n",
    "max_value = np.max(array)\n",
    "\n",
    "print(\"combined_list:\", array)\n",
    "print(\"min_value:\", min_value)\n",
    "print(\"mean_value:\", mean_value)\n",
    "print(\"max_value :\", max_value)\n"
   ]
  },
  {
   "cell_type": "code",
   "execution_count": null,
   "id": "3316b9cb-fac7-45a6-8bc0-8091327a6eb1",
   "metadata": {},
   "outputs": [],
   "source": [
    "2. С помощью функции np.linspace создайте массив из 9 элементов со значениями между\n",
    "средним и максимальным из предыдущей задачи. Найдите поэлементную сумму массивов из\n",
    "первой и второй задачи."
   ]
  },
  {
   "cell_type": "code",
   "execution_count": 20,
   "id": "928dd11e-1a77-4191-b3bd-69ac29bb5ff0",
   "metadata": {},
   "outputs": [
    {
     "name": "stdout",
     "output_type": "stream",
     "text": [
      "Массив из 9 элементов [2.77777778 3.05555556 3.33333333 3.61111111 3.88888889 4.16666667\n",
      " 4.44444444 4.72222222 5.        ]\n",
      "Сумма массивов: [3.77777778 5.05555556 6.33333333 7.61111111 8.88888889 5.16666667\n",
      " 6.44444444 7.72222222 9.        ]\n"
     ]
    }
   ],
   "source": [
    "linspace_array = np.linspace(mean_value, max_value, 9)\n",
    "print(\"Массив из 9 элементов\", linspace_array)\n",
    "sum_array = array + linspace_array\n",
    "print(\"Сумма массивов:\", sum_array)"
   ]
  },
  {
   "cell_type": "code",
   "execution_count": null,
   "id": "c8715113-df0d-44db-b8e3-ef6bdfcf49c1",
   "metadata": {},
   "outputs": [],
   "source": [
    "3. Создайте массив из десяти элементов 1, 2, …, 10. С помощью функции cumprod вычислите\n",
    "кумулятивные произведения элементов этого массива."
   ]
  },
  {
   "cell_type": "code",
   "execution_count": 44,
   "id": "eba81877-f374-4135-8ce5-30efa0c37cee",
   "metadata": {},
   "outputs": [
    {
     "name": "stdout",
     "output_type": "stream",
     "text": [
      "[ 1  2  3  4  5  6  7  8  9 10]\n",
      "Кумулятивные произведения элементов массива: [      1       2       6      24     120     720    5040   40320  362880\n",
      " 3628800]\n"
     ]
    }
   ],
   "source": [
    "array_10 = np.arange(1, 11)\n",
    "print(array_10)\n",
    "cumulative_product = np.cumprod(array_10)\n",
    "print(\"Кумулятивные произведения элементов массива:\", cumulative_product)\n"
   ]
  },
  {
   "cell_type": "code",
   "execution_count": null,
   "id": "485ea679-8c7d-4955-97e4-f9bfb468d22a",
   "metadata": {},
   "outputs": [],
   "source": [
    "4. Напишите программу, которая:\n",
    "    a. Запрашивает у пользователя ввод трех списков, каждый из трех элементов.\n",
    "    Списки вводятся в виде чисел, разделенных пробелами.\n",
    "    b. Создает список из полученных списков.\n",
    "    c. Преобразует полученный двумерный список в двумерный массив NumPy\n",
    "    (назовем его матрицей А).\n",
    "    d. Вычисляет среднее значение для полученного массива."
   ]
  },
  {
   "cell_type": "code",
   "execution_count": 23,
   "id": "a743008b-89bb-4551-bb16-179080d0d48a",
   "metadata": {},
   "outputs": [
    {
     "name": "stdin",
     "output_type": "stream",
     "text": [
      "Введите список 1):  1 2 3\n",
      "Введите список 2):  4 5 6 \n",
      "Введите список 3):  7 8 9\n"
     ]
    },
    {
     "name": "stdout",
     "output_type": "stream",
     "text": [
      "Матрица A:\n",
      "[[1 2 3]\n",
      " [4 5 6]\n",
      " [7 8 9]]\n",
      "Среднее значение матрицы A: 5.0\n"
     ]
    }
   ],
   "source": [
    "lists = []\n",
    "for i in range(3):\n",
    "    lst = list(map(int, input(f\"Введите список {i + 1}): \").split()))\n",
    "    lists.append(lst)\n",
    "matrix_A = np.array(lists)\n",
    "print(\"Матрица A:\")\n",
    "print(matrix_A)\n",
    "mean_A = np.mean(matrix_A)\n",
    "print(\"Среднее значение матрицы A:\", mean_A)"
   ]
  },
  {
   "cell_type": "code",
   "execution_count": null,
   "id": "57cc52b9-5c41-4906-96b6-80835622506e",
   "metadata": {},
   "outputs": [],
   "source": [
    "    5. Продолжите предыдущую программу. Далее она:\n",
    "    a. Создает матрицу такого же размера, но заполненную вычисленным средним\n",
    "    значением (назовем ее матрицей B).\n",
    "    b. Разделите матрицу A на матрицу B - это будет матрица С.\n",
    "    c. Создайте новую матрицу, заполненную логическими значениями – True, если\n",
    "    элемент матрицы С больше 1, False – если меньше 1.\n"
   ]
  },
  {
   "cell_type": "code",
   "execution_count": 22,
   "id": "c9788949-717a-426c-a98b-581485f6e4d0",
   "metadata": {},
   "outputs": [
    {
     "name": "stdout",
     "output_type": "stream",
     "text": [
      "Матрица B:\n",
      "[[5. 5. 5.]\n",
      " [5. 5. 5.]\n",
      " [5. 5. 5.]]\n",
      "Матрица C:\n",
      "[[0.2 0.4 0.6]\n",
      " [0.8 1.  1.2]\n",
      " [1.4 1.6 1.8]]\n",
      "Логическая матрица (C > 1):\n",
      "[[False False False]\n",
      " [False False  True]\n",
      " [ True  True  True]]\n"
     ]
    }
   ],
   "source": [
    "matrix_B = np.full(matrix_A.shape, mean_A)\n",
    "print(\"Матрица B:\")\n",
    "print(matrix_B)\n",
    "\n",
    "matrix_C = matrix_A / matrix_B\n",
    "print(\"Матрица C:\")\n",
    "print(matrix_C)\n",
    "\n",
    "logic_matrix = matrix_C > 1\n",
    "print(\"Логическая матрица (C > 1):\")\n",
    "print(logic_matrix)\n"
   ]
  },
  {
   "cell_type": "code",
   "execution_count": null,
   "id": "6f547acc-d278-4bb2-be72-eeed8f91563e",
   "metadata": {},
   "outputs": [],
   "source": [
    "6. Продолжите предыдущую программу. Далее она:\n",
    "    a. Объединяет матрицы A и B в две новые матрицы – одну размера 3х6, другую – 6х3.\n",
    "    b. Запрашивает у пользователя два числа - x и y.\n",
    "    c. Первую матрицу умножает на x, из второй вычитает y."
   ]
  },
  {
   "cell_type": "code",
   "execution_count": 30,
   "id": "e87821e2-79de-40f7-82a6-c5180d3bcf3b",
   "metadata": {},
   "outputs": [
    {
     "name": "stdin",
     "output_type": "stream",
     "text": [
      "Введите x:  2 \n",
      "Введите y:  3\n"
     ]
    },
    {
     "name": "stdout",
     "output_type": "stream",
     "text": [
      "Результат умножения на x:\n",
      "[[ 2.  4.  6. 10. 10. 10.]\n",
      " [ 8. 10. 12. 10. 10. 10.]\n",
      " [14. 16. 18. 10. 10. 10.]]\n",
      "Результат вычитания y:\n",
      "[[-2. -1.  0.]\n",
      " [ 1.  2.  3.]\n",
      " [ 4.  5.  6.]\n",
      " [ 2.  2.  2.]\n",
      " [ 2.  2.  2.]\n",
      " [ 2.  2.  2.]]\n"
     ]
    }
   ],
   "source": [
    "combi_m_1 = np.hstack((matrix_A, matrix_B))\n",
    "combi_m_2 = np.vstack((matrix_A, matrix_B))\n",
    "\n",
    "x = int(input(\"Введите x: \"))\n",
    "y = int(input(\"Введите y: \"))\n",
    "res1 = combi_m_1  * x\n",
    "res2 = combi_m_2 - y\n",
    "\n",
    "print(\"Результат умножения на x:\")\n",
    "print (res1)\n",
    "\n",
    "print(\"Результат вычитания y:\")\n",
    "print (res2)\n"
   ]
  },
  {
   "cell_type": "code",
   "execution_count": null,
   "id": "a2db8cd4-794a-4e39-b22f-411f9dbb7788",
   "metadata": {},
   "outputs": [],
   "source": [
    "# Вариант решения 2 предыдущей задачи 6\n",
    "combi_m_1 = concatenate((matrix_A, matrix_B),axis = 0) # по оси Х\n",
    "combi_m_2 = concatenate((matrix_A, matrix_B),axis = 1) # по оси Y\n",
    "\n",
    "x = int(input(\"Введите x: \"))\n",
    "y = int(input(\"Введите y: \"))\n",
    "res1 = combi_m_1  * x\n",
    "res2 = combi_m_2 - y\n",
    "\n",
    "print(\"Результат умножения на x:\")\n",
    "print (res1)\n",
    "\n",
    "print(\"Результат вычитания y:\")\n",
    "print (res2)"
   ]
  },
  {
   "cell_type": "code",
   "execution_count": null,
   "id": "ad93b3d4-8e4c-4af5-b79c-fb8bf339295c",
   "metadata": {},
   "outputs": [],
   "source": [
    "7. Напишите программу, которая запрашивает у пользователя три числа и создает трехмерный\n",
    "массив соответствующей размерности, заполненный случайными числами. Выведите массив\n",
    "на экран."
   ]
  },
  {
   "cell_type": "code",
   "execution_count": 36,
   "id": "f74f2cad-0f5b-4b50-892b-090cf6b2204a",
   "metadata": {},
   "outputs": [
    {
     "name": "stdin",
     "output_type": "stream",
     "text": [
      "Введите  X:  2\n",
      "Введите  Y:  3\n",
      "Введите  Z:  4\n"
     ]
    },
    {
     "name": "stdout",
     "output_type": "stream",
     "text": [
      "[[[ 5  9  7  4]\n",
      "  [ 2  1  1  9]\n",
      "  [ 9  8  2  4]]\n",
      "\n",
      " [[ 6  9 10  9]\n",
      "  [ 2  5  3  9]\n",
      "  [ 9  9  3  1]]]\n"
     ]
    }
   ],
   "source": [
    "x = int(input(\"Введите  X: \"))\n",
    "y = int(input(\"Введите  Y: \"))\n",
    "z = int(input(\"Введите  Z: \"))\n",
    "\n",
    "arr3 = np.random.randint(1, 11, size=(x, y, z))  \n",
    "print(arr3)"
   ]
  },
  {
   "cell_type": "code",
   "execution_count": 38,
   "id": "1524aee6-bb2c-447c-b263-41fc6060ccd7",
   "metadata": {},
   "outputs": [
    {
     "name": "stdout",
     "output_type": "stream",
     "text": [
      "[[[21 65 44 82]\n",
      "  [83 40 77 53]\n",
      "  [83 34 52  4]]\n",
      "\n",
      " [[84  8 84 81]\n",
      "  [ 8 86 42 74]\n",
      "  [92 86 20 48]]]\n"
     ]
    }
   ],
   "source": [
    "import random as rd\n",
    "arr3_2 = [[[rd.randint(1, 100) for k in range(z)] for j in range(y)] for i in range(x)]\n",
    "arr3_2 = np.array(arr3_2)\n",
    "print(arr3_2)"
   ]
  },
  {
   "cell_type": "code",
   "execution_count": 46,
   "id": "cbf87a0f-801a-4552-a93a-2962cbd87c2a",
   "metadata": {},
   "outputs": [
    {
     "name": "stdin",
     "output_type": "stream",
     "text": [
      "Введите  X:  2\n",
      "Введите  Y:  3\n",
      "Введите  Z:  1\n"
     ]
    },
    {
     "name": "stdout",
     "output_type": "stream",
     "text": [
      "[5.56885901 6.02971418 1.10893652 5.87642366 8.60541866 4.28083923]\n"
     ]
    },
    {
     "data": {
      "text/plain": [
       "array([[[5.56885901],\n",
       "        [6.02971418],\n",
       "        [1.10893652]],\n",
       "\n",
       "       [[5.87642366],\n",
       "        [8.60541866],\n",
       "        [4.28083923]]])"
      ]
     },
     "execution_count": 46,
     "metadata": {},
     "output_type": "execute_result"
    }
   ],
   "source": [
    "x = int(input(\"Введите  X: \"))\n",
    "y = int(input(\"Введите  Y: \"))\n",
    "z = int(input(\"Введите  Z: \"))\n",
    "rd_list = [rd.uniform(0, 10) for i in range (x * y * z)]\n",
    "\n",
    "arr = np.array(rd_list)\n",
    "print(arr)\n",
    "arr = arr.reshape(x,y,z)\n",
    "arr"
   ]
  },
  {
   "cell_type": "code",
   "execution_count": 40,
   "id": "aa93279a-4211-4b67-b6d7-5e2f3dcb6319",
   "metadata": {},
   "outputs": [
    {
     "name": "stdout",
     "output_type": "stream",
     "text": [
      "[2.2 3.3]\n",
      "[101.    3.3]\n",
      "[  1.1 101.    3.3   4.4   5.5]\n"
     ]
    }
   ],
   "source": [
    "x = np.array([1.1, 2.2, 3.3, 4.4, 5.5])\n",
    "s = x[1:3:1]\n",
    "print(s)\n",
    "# [2.2 3.3]\n",
    "s[0] = 101\n",
    "print(s)\n",
    "# [101. 3.3]\n",
    "print(x)\n"
   ]
  },
  {
   "cell_type": "code",
   "execution_count": null,
   "id": "753e3860-aaa3-4026-9558-a299419c6ae7",
   "metadata": {},
   "outputs": [],
   "source": []
  }
 ],
 "metadata": {
  "kernelspec": {
   "display_name": "Python 3 (ipykernel)",
   "language": "python",
   "name": "python3"
  },
  "language_info": {
   "codemirror_mode": {
    "name": "ipython",
    "version": 3
   },
   "file_extension": ".py",
   "mimetype": "text/x-python",
   "name": "python",
   "nbconvert_exporter": "python",
   "pygments_lexer": "ipython3",
   "version": "3.12.5"
  }
 },
 "nbformat": 4,
 "nbformat_minor": 5
}
