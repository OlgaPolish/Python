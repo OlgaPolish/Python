{
 "cells": [
  {
   "cell_type": "code",
   "execution_count": null,
   "id": "fe7a9564-b66e-4223-b4b4-265067d4dff4",
   "metadata": {},
   "outputs": [],
   "source": [
    "1. Напишите программу, которая:\n",
    "a. Запрашивает у пользователя ввод двух списков – в первом 5 элементов, во втором 4.\n",
    "Списки вводятся в виде чисел, разделенных пробелами.\n",
    "b. Объединяет введенные списки в один новый список из 9 элементов.\n",
    "c. Преобразует полученный список в массив NumPy.\n",
    "d. Трансформирует одномерный массив в матрицу размера 3х3. Обозначим эту матрицу\n",
    "Х.\n",
    "e. Выводит полученную матрицу."
   ]
  },
  {
   "cell_type": "code",
   "execution_count": 2,
   "id": "8ece2678-98ae-42fa-aa20-597c4825fa39",
   "metadata": {},
   "outputs": [
    {
     "name": "stdin",
     "output_type": "stream",
     "text": [
      "Введите 5 чисел :  1 2 3 4 5\n",
      "Введите 4 числа :  6 7 8 9\n"
     ]
    },
    {
     "name": "stdout",
     "output_type": "stream",
     "text": [
      "Матрица X:\n",
      "[[1 2 3]\n",
      " [4 5 6]\n",
      " [7 8 9]]\n"
     ]
    }
   ],
   "source": [
    "import numpy as np\n",
    "\n",
    "list1 = [int(x) for x in input(\"Введите 5 чисел : \").split()]\n",
    "list2 = [int(x) for x in input(\"Введите 4 числа : \").split()]\n",
    "\n",
    "combined_list = list1 + list2\n",
    "arr = np.array(combined_list)\n",
    "\n",
    "matrix_X = arr.reshape(3, 3)\n",
    "print(\"Матрица X:\")\n",
    "print(matrix_X)"
   ]
  },
  {
   "cell_type": "code",
   "execution_count": null,
   "id": "6cf39cef-f6c9-40e1-90a2-39e32eebfb97",
   "metadata": {},
   "outputs": [],
   "source": [
    "2. Продолжение предыдущей задачи. Далее она:\n",
    "a. В каждой строке и в каждом столбце находит среднее, максимум, минимум, сумму,\n",
    "произведение.\n",
    "b. Для всей матрицы находит среднее, максимум, минимум, сумму, произведение и след.\n",
    "c. Выводит транспонированную матрицу для матрицы Х."
   ]
  },
  {
   "cell_type": "code",
   "execution_count": 3,
   "id": "63d7fc28-c7a3-4a65-bd6c-136455c32e7c",
   "metadata": {},
   "outputs": [
    {
     "name": "stdout",
     "output_type": "stream",
     "text": [
      "\n",
      "По строкам и столбцам:\n",
      "Строки:\n",
      "Mean: [4. 5. 6.]\n",
      "Max: [7 8 9]\n",
      "Min: [1 2 3]\n",
      "Sum: [12 15 18]\n",
      "Prod: [ 28  80 162]\n",
      "Столбцы:\n",
      "Mean: [2. 5. 8.]\n",
      "Max: [3 6 9]\n",
      "Min: [1 4 7]\n",
      "Sum: [ 6 15 24]\n",
      "Prod: [  6 120 504]\n",
      "\n",
      "Для всей матрицы:\n",
      "Mean: 5.0\n",
      "Max: 9\n",
      "Min: 1\n",
      "Sum: 45\n",
      "Prod: 362880\n",
      "Trace: 15\n",
      "\n",
      "Транспонированная матрица:\n",
      "[[1 4 7]\n",
      " [2 5 8]\n",
      " [3 6 9]]\n"
     ]
    }
   ],
   "source": [
    "print(\"\\nПо строкам и столбцам:\")\n",
    "for axis in [0, 1]:\n",
    "    print(f\"{'Строки' if axis == 0 else 'Столбцы'}:\")\n",
    "    print(f\"Mean: {np.mean(matrix_X, axis=axis)}\")\n",
    "    print(f\"Max: {np.max(matrix_X, axis=axis)}\")\n",
    "    print(f\"Min: {np.min(matrix_X, axis=axis)}\")\n",
    "    print(f\"Sum: {np.sum(matrix_X, axis=axis)}\")\n",
    "    print(f\"Prod: {np.prod(matrix_X, axis=axis)}\")\n",
    "\n",
    "print(\"\\nДля всей матрицы:\")\n",
    "print(f\"Mean: {np.mean(matrix_X)}\")\n",
    "print(f\"Max: {np.max(matrix_X)}\")\n",
    "print(f\"Min: {np.min(matrix_X)}\")\n",
    "print(f\"Sum: {np.sum(matrix_X)}\")\n",
    "print(f\"Prod: {np.prod(matrix_X)}\")\n",
    "print(f\"Trace: {np.trace(matrix_X)}\")\n",
    "\n",
    "matrix_X_T = matrix_X.T\n",
    "print(\"\\nТранспонированная матрица:\")\n",
    "print(matrix_X_T)"
   ]
  },
  {
   "cell_type": "code",
   "execution_count": null,
   "id": "22251fdb-fdf8-431f-93f5-2605de61f1f8",
   "metadata": {},
   "outputs": [],
   "source": [
    "# 3. Продолжение предыдущей задачи. Далее она:\n",
    "# a. Генерирует массив из трех случайных элементов. Этот вектор-строку\n",
    "# обозначим А.\n",
    "# b. Трансформирует вектор-строку в вектор-столбец. Его обозначим B.\n",
    "# c. Матрицу Х умножает на вектор-строку А.\n",
    "# d. Матрицу Х умножает на вектор-столбец B.\n",
    "# e. Выполняет матричное умножение матриц из предыдущих пунктов."
   ]
  },
  {
   "cell_type": "code",
   "execution_count": 4,
   "id": "08e96f28-3e71-4447-950c-3debb23251cd",
   "metadata": {},
   "outputs": [
    {
     "name": "stdout",
     "output_type": "stream",
     "text": [
      "Матрица X:\n",
      "[[1 2 3]\n",
      " [4 5 6]\n",
      " [7 8 9]]\n",
      "\n",
      "Вектор-строка A:\n",
      "[10  7  4]\n",
      "\n",
      "Вектор-столбец B:\n",
      "[[10]\n",
      " [ 7]\n",
      " [ 4]]\n",
      "\n",
      "Умножение матрицы X на вектор-строку A:\n",
      "[[10 14 12]\n",
      " [40 35 24]\n",
      " [70 56 36]]\n",
      "\n",
      "Умножение матрицы X на вектор-столбец B:\n",
      "[[10 20 30]\n",
      " [28 35 42]\n",
      " [28 32 36]]\n",
      "\n",
      "Матричное умножение результатов из пунктов c и d:\n",
      "[[ 828 1074 1320]\n",
      " [2052 2793 3534]\n",
      " [3276 4512 5748]]\n"
     ]
    }
   ],
   "source": [
    "import random as rd\n",
    "\n",
    "print(\"Матрица X:\")\n",
    "print(matrix_X)\n",
    "\n",
    "# vector_A = np.array([rd.uniform(0, 10) for i in range (3)])\n",
    "vector_A = np.random.randint(1, 11, size=3)\n",
    "print(\"\\nВектор-строка A:\")\n",
    "print(vector_A)\n",
    "\n",
    "vector_B = vector_A[:, np.newaxis]\n",
    "print(\"\\nВектор-столбец B:\")\n",
    "print(vector_B)\n",
    "\n",
    "result_c = matrix_X * vector_A\n",
    "print(\"\\nУмножение матрицы X на вектор-строку A:\")\n",
    "print(result_c)\n",
    "\n",
    "result_d = matrix_X * vector_B\n",
    "print(\"\\nУмножение матрицы X на вектор-столбец B:\")\n",
    "print(result_d)\n",
    "\n",
    "result_e = result_c @ result_d\n",
    "print(\"\\nМатричное умножение результатов из пунктов c и d:\")\n",
    "print(result_e)"
   ]
  },
  {
   "cell_type": "code",
   "execution_count": null,
   "id": "6ae65055-1bc7-439c-b2e6-904acff05fae",
   "metadata": {},
   "outputs": [],
   "source": [
    "4. Продолжение предыдущей задачи. Далее она:\n",
    "a. Запрашивает у пользователя число i от 0 до 2.\n",
    "b. Выводит строку i из матрицы Х.\n",
    "c. Выводит столбец i из матрицы Х."
   ]
  },
  {
   "cell_type": "code",
   "execution_count": 5,
   "id": "fc61c807-29c7-405a-948a-4df6aa3e1b71",
   "metadata": {},
   "outputs": [
    {
     "name": "stdin",
     "output_type": "stream",
     "text": [
      "Введите число i от 0 до 2:  0\n"
     ]
    },
    {
     "name": "stdout",
     "output_type": "stream",
     "text": [
      "Матрица X:\n",
      "[[1 2 3]\n",
      " [4 5 6]\n",
      " [7 8 9]]\n",
      "\n",
      "Строка 0 из матрицы X:\n",
      "[1 2 3]\n",
      "\n",
      "Столбец 0 из матрицы X:\n",
      "[1 4 7]\n"
     ]
    }
   ],
   "source": [
    "i = int(input(\"Введите число i от 0 до 2: \"))\n",
    "print(\"Матрица X:\")\n",
    "print(matrix_X)\n",
    "print(f\"\\nСтрока {i} из матрицы X:\")\n",
    "print(matrix_X[i,])\n",
    "\n",
    "print(f\"\\nСтолбец {i} из матрицы X:\")\n",
    "print(matrix_X[:, i])"
   ]
  },
  {
   "cell_type": "code",
   "execution_count": null,
   "id": "68ef56fe-9f6a-44e4-a58b-483c3273cbc4",
   "metadata": {},
   "outputs": [],
   "source": [
    "5. Создайте матрицу 5х5 из чисел от 1 до 25. Из этой матрицы извлеките две подматрицы: С\n",
    "размера 2х3 из левого верхнего угла исходной матрицы, и В размера 3х2 из правого нижнего\n",
    "угла исходной матрицы. Найдите матричное произведение С на B и B на С.\n",
    "Вопросы для обсуждения:\n",
    "● Можно ли выполнить поэлементное умножение матриц B и С?\n",
    "● Подумайте, как нужно преобразовать одну из этих матриц, чтобы поэлементное умножение\n",
    "стало возможно. Выполните эту операцию."
   ]
  },
  {
   "cell_type": "code",
   "execution_count": 6,
   "id": "0db3b78a-c0e8-4311-b35d-5c8fdf61490b",
   "metadata": {},
   "outputs": [
    {
     "name": "stdout",
     "output_type": "stream",
     "text": [
      "\n",
      "Исходная матрица 5x5:\n",
      "[[ 1  2  3  4  5]\n",
      " [ 6  7  8  9 10]\n",
      " [11 12 13 14 15]\n",
      " [16 17 18 19 20]\n",
      " [21 22 23 24 25]]\n",
      "\n",
      "Подматрица C (2x3):\n",
      "[[1 2 3]\n",
      " [6 7 8]]\n",
      "\n",
      "Подматрица B (3x2):\n",
      "[[14 15]\n",
      " [19 20]\n",
      " [24 25]]\n",
      "\n",
      "Произведение C на B:\n",
      "[[124 130]\n",
      " [409 430]]\n",
      "\n",
      "Произведение B на C:\n",
      "[[104 133 162]\n",
      " [139 178 217]\n",
      " [174 223 272]]\n",
      "\n",
      "Поэлементное произведение B(транспонированная) на C:\n",
      "[[ 14  38  72]\n",
      " [ 90 140 200]]\n"
     ]
    }
   ],
   "source": [
    "matrix_5x5 = np.arange(1, 26).reshape(5, 5)\n",
    "print(\"\\nИсходная матрица 5x5:\")\n",
    "print(matrix_5x5)\n",
    "\n",
    "submatrix_C = matrix_5x5[:2, :3] # строки от 0 до 1 (не включая 2) и столбцы от 0 до 3 до конца (столбцы 0,1,2)\n",
    "submatrix_B = matrix_5x5[2:, 3:] # строки с 2: до конца (строки 3,4,5) и столбцы с 3 до конца (столбцы 4,5)\n",
    "\n",
    "print(\"\\nПодматрица C (2x3):\")\n",
    "print(submatrix_C) \n",
    "print(\"\\nПодматрица B (3x2):\")\n",
    "print(submatrix_B)\n",
    "\n",
    "print(\"\\nПроизведение C на B:\")\n",
    "print(submatrix_C @ submatrix_B)\n",
    "\n",
    "print(\"\\nПроизведение B на C:\")\n",
    "print(submatrix_B @ submatrix_C)\n",
    "\n",
    "submatrix_B_T = submatrix_B.T\n",
    "print(\"\\nПоэлементное произведение B(транспонированная) на C:\")\n",
    "print(submatrix_B_T * submatrix_C)"
   ]
  },
  {
   "cell_type": "code",
   "execution_count": null,
   "id": "ab4d5665-c3cb-41cb-bb8b-75bc7d8a947c",
   "metadata": {},
   "outputs": [],
   "source": [
    "6. Запросите у пользователя ввод трех чисел – x, y, z. Создайте трехмерный массив размера\n",
    "x*y*z и заполните его числами от 10 до 20 с подходящим шагом. Выведите его. Запросите у\n",
    "пользователя координаты элемента этого тензора и его новое значение. Замените\n",
    "выбранный элемент на новое значение.\n",
    "Вычислите среднее, максимум, минимум, сумму, произведение по каждой оси."
   ]
  },
  {
   "cell_type": "code",
   "execution_count": 12,
   "id": "cfab7c69-bf92-4aa4-84fc-c6729527b8ca",
   "metadata": {},
   "outputs": [
    {
     "name": "stdin",
     "output_type": "stream",
     "text": [
      "Введите размерность x:  2\n",
      "Введите размерность y:  2\n",
      "Введите размерность z:  3\n"
     ]
    },
    {
     "name": "stdout",
     "output_type": "stream",
     "text": [
      "Трехмерный массив:\n",
      "[[[10 10 11]\n",
      "  [12 13 14]]\n",
      "\n",
      " [[15 16 17]\n",
      "  [18 19 20]]]\n"
     ]
    },
    {
     "name": "stdin",
     "output_type": "stream",
     "text": [
      "Введите координаты элемента (x, y, z) через запятую:  0,0,1\n",
      "Введите новое значение:  55\n"
     ]
    },
    {
     "name": "stdout",
     "output_type": "stream",
     "text": [
      "Измененный массив:\n",
      "[[[10 55 11]\n",
      "  [12 13 14]]\n",
      "\n",
      " [[15 16 17]\n",
      "  [18 19 20]]]\n",
      "\n",
      "--- По оси 0 ---\n",
      "Среднее:\n",
      "[[12.5 35.5 14. ]\n",
      " [15.  16.  17. ]]\n",
      "Максимум:\n",
      "[[15 55 17]\n",
      " [18 19 20]]\n",
      "Минимум:\n",
      "[[10 16 11]\n",
      " [12 13 14]]\n",
      "Сумма:\n",
      "[[25 71 28]\n",
      " [30 32 34]]\n",
      "Произведение:\n",
      "[[150 880 187]\n",
      " [216 247 280]]\n",
      "\n",
      "--- По оси 1 ---\n",
      "Среднее:\n",
      "[[11.  34.  12.5]\n",
      " [16.5 17.5 18.5]]\n",
      "Максимум:\n",
      "[[12 55 14]\n",
      " [18 19 20]]\n",
      "Минимум:\n",
      "[[10 13 11]\n",
      " [15 16 17]]\n",
      "Сумма:\n",
      "[[22 68 25]\n",
      " [33 35 37]]\n",
      "Произведение:\n",
      "[[120 715 154]\n",
      " [270 304 340]]\n",
      "\n",
      "--- По оси 2 ---\n",
      "Среднее:\n",
      "[[25.33333333 13.        ]\n",
      " [16.         19.        ]]\n",
      "Максимум:\n",
      "[[55 14]\n",
      " [17 20]]\n",
      "Минимум:\n",
      "[[10 12]\n",
      " [15 18]]\n",
      "Сумма:\n",
      "[[76 39]\n",
      " [48 57]]\n",
      "Произведение:\n",
      "[[6050 2184]\n",
      " [4080 6840]]\n"
     ]
    }
   ],
   "source": [
    "import numpy as np\n",
    "\n",
    "x = int(input(\"Введите размерность x: \"))\n",
    "y = int(input(\"Введите размерность y: \"))\n",
    "z = int(input(\"Введите размерность z: \"))\n",
    "\n",
    "array_3d = np.linspace(10, 20, num=x*y*z).reshape(x, y, z)\n",
    "# array_3d = array_3d.astype(np.int8)\n",
    "\n",
    "print(\"Трехмерный массив:\")\n",
    "print(array_3d)\n",
    "\n",
    "coords = input(\"Введите координаты элемента (x, y, z) через запятую: \")\n",
    "new_value = int(input(\"Введите новое значение: \"))\n",
    "\n",
    "x_crd, y_crd, z_crd = map(int, coords.split(','))\n",
    "\n",
    "if 0 <= x_crd < x and 0 <= y_crd < y and 0 <= z_crd < z:\n",
    "    array_3d[x_crd, y_crd, z_crd] = new_value\n",
    "else:\n",
    "    print(\"Ошибка: координаты выходят за пределы массива.\")\n",
    "    \n",
    "print(\"Измененный массив:\")\n",
    "print(array_3d)\n",
    "for axis_num in range(array_3d.ndim):\n",
    "    print(f\"\\n--- По оси {axis_num} ---\")\n",
    "    print(f\"Среднее:\\n{np.mean(array_3d, axis=axis_num)}\")\n",
    "    print(f\"Максимум:\\n{np.max(array_3d, axis=axis_num)}\")\n",
    "    print(f\"Минимум:\\n{np.min(array_3d, axis=axis_num)}\")\n",
    "    print(f\"Сумма:\\n{np.sum(array_3d, axis=axis_num)}\")\n",
    "    print(f\"Произведение:\\n{np.prod(array_3d, axis=axis_num)}\")\n"
   ]
  },
  {
   "cell_type": "code",
   "execution_count": 13,
   "id": "65ffa30e-0a15-4ad9-a264-2f3abbe1d912",
   "metadata": {},
   "outputs": [
    {
     "name": "stdout",
     "output_type": "stream",
     "text": [
      "Результат вертикальной конкатенации:\n",
      "[[1 2]\n",
      " [3 4]\n",
      " [5 6]]\n",
      "\n",
      "Результат горизонтальной конкатенации:\n",
      "[[1 2 5]\n",
      " [3 4 6]]\n"
     ]
    }
   ],
   "source": [
    "# Создаем два массива\n",
    "array1 = np.array([[1, 2], [3, 4]])\n",
    "array2 = np.array([[5, 6]])\n",
    "\n",
    "# Конкатенация по оси 0 (по вертикали)\n",
    "result_vertical = np.concatenate((array1, array2), axis=0)\n",
    "\n",
    "# Конкатенация по оси 1 (по горизонтали)\n",
    "result_horizontal = np.concatenate((array1, array2.T), axis=1)\n",
    "\n",
    "print(\"Результат вертикальной конкатенации:\")\n",
    "print(result_vertical)\n",
    "\n",
    "print(\"\\nРезультат горизонтальной конкатенации:\")\n",
    "print(result_horizontal)"
   ]
  },
  {
   "cell_type": "code",
   "execution_count": null,
   "id": "0596a994-3d13-4f02-a2b9-2012b27f1891",
   "metadata": {},
   "outputs": [],
   "source": []
  }
 ],
 "metadata": {
  "kernelspec": {
   "display_name": "Python 3 (ipykernel)",
   "language": "python",
   "name": "python3"
  },
  "language_info": {
   "codemirror_mode": {
    "name": "ipython",
    "version": 3
   },
   "file_extension": ".py",
   "mimetype": "text/x-python",
   "name": "python",
   "nbconvert_exporter": "python",
   "pygments_lexer": "ipython3",
   "version": "3.12.5"
  }
 },
 "nbformat": 4,
 "nbformat_minor": 5
}
