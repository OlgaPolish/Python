{
 "cells": [
  {
   "cell_type": "code",
   "execution_count": null,
   "id": "300be66f-c3f5-4f32-ae2d-8532ab98390d",
   "metadata": {},
   "outputs": [],
   "source": [
    "1. Напишите программу, которая:\n",
    "● Запрашивает у пользователя ввод одномерного массива, элементы которого\n",
    "вводятся в виде чисел, разделенных пробелами.\n",
    "● Преобразует введенную строку в массив NumPy.\n",
    "● Запрашивает у пользователя индекс элемента, который необходимо извлечь из\n",
    "массива.\n",
    "● Выводит значение элемента по запрошенному индексу.\n",
    "● Запрашивает у пользователя ввод диапазона индексов в формате `начало:конец`,\n",
    "чтобы извлечь срез массива.\n",
    "● Выводит срез массива"
   ]
  },
  {
   "cell_type": "code",
   "execution_count": 1,
   "id": "2e5e8f07-0d28-4866-8523-439cddbf2937",
   "metadata": {},
   "outputs": [
    {
     "name": "stdin",
     "output_type": "stream",
     "text": [
      "Введите массив (числа, разделенные пробелами):  1 2 3 4 5\n",
      "Введите индекс элемента:  2\n"
     ]
    },
    {
     "name": "stdout",
     "output_type": "stream",
     "text": [
      "Элемент с индексом 2: 3\n"
     ]
    },
    {
     "name": "stdin",
     "output_type": "stream",
     "text": [
      "Введите диапазон индексов (два числа, разделенные пробелами):  1 4 \n"
     ]
    },
    {
     "name": "stdout",
     "output_type": "stream",
     "text": [
      "Срез массива: [2 3 4]\n"
     ]
    }
   ],
   "source": [
    "import numpy as np\n",
    "\n",
    "user_input = input(\"Введите массив (числа, разделенные пробелами): \").split()\n",
    "array = np.array(user_input, dtype=int)\n",
    "\n",
    "index = int(input(\"Введите индекс элемента: \"))\n",
    "\n",
    "print(f\"Элемент с индексом {index}: {array[index]}\")\n",
    "\n",
    "range_input = input(\"Введите диапазон индексов (два числа, разделенные пробелами): \").split()\n",
    "start, end = map(int, range_input)\n",
    "\n",
    "slice_array = array[start:end]\n",
    "print(f\"Срез массива: {slice_array}\")"
   ]
  },
  {
   "cell_type": "code",
   "execution_count": null,
   "id": "f24b8d0f-7d9b-4cff-8ce4-c29ca7324ca2",
   "metadata": {},
   "outputs": [],
   "source": [
    "2. Напишите программу, которая:\n",
    "● Запрашивает у пользователя размеры матрицы MxN.\n",
    "● Генерирует две матрицы указанных размеров, заполненные случайными числами от 0\n",
    "до 9.\n",
    "● Выводит обе сгенерированные матрицы на экран.\n",
    "● Выполняет и выводит результат одной из следующих операций (на выбор\n",
    "пользователя): сложение матриц, умножение матриц, транспонирование одной из\n",
    "матриц.\n",
    "● Если выбрано умножение, убедитесь, что размеры матриц соответствуют правилам\n",
    "матричного умножения."
   ]
  },
  {
   "cell_type": "code",
   "execution_count": 13,
   "id": "7ac7e9c6-3bb6-4aa9-8e1b-d71cee5f5464",
   "metadata": {},
   "outputs": [
    {
     "name": "stdin",
     "output_type": "stream",
     "text": [
      "Введите количество строк (M):  3\n",
      "Введите количество столбцов (N):  3\n"
     ]
    },
    {
     "name": "stdout",
     "output_type": "stream",
     "text": [
      "\n",
      "Матрица A:\n",
      "[[9 8 5]\n",
      " [6 4 7]\n",
      " [7 0 1]]\n",
      "\n",
      "Матрица B:\n",
      "[[3 3 0]\n",
      " [6 3 6]\n",
      " [8 0 2]]\n"
     ]
    },
    {
     "name": "stdin",
     "output_type": "stream",
     "text": [
      "\n",
      "Выберите операцию (сложение (+), умножение (*), транспонирование A(ta), транспонирование B(tb):  *\n"
     ]
    },
    {
     "name": "stdout",
     "output_type": "stream",
     "text": [
      "\n",
      "Результат умножения матриц:\n",
      "[[27 24  0]\n",
      " [36 12 42]\n",
      " [56  0  2]]\n"
     ]
    }
   ],
   "source": [
    "import numpy as np\n",
    "import random as rd\n",
    "m = int(input(\"Введите количество строк (M): \"))\n",
    "n = int(input(\"Введите количество столбцов (N): \"))\n",
    "\n",
    "matrix_a = np.random.randint(0, 10, size=(m, n))\n",
    "matrix_b = np.random.randint(0, 10, size=(m, n))\n",
    "\n",
    "print(\"\\nМатрица A:\")\n",
    "print(matrix_a)\n",
    "print(\"\\nМатрица B:\")\n",
    "print(matrix_b)\n",
    "\n",
    "operation = input(\"\\nВыберите операцию (сложение (+), умножение (*), транспонирование A(ta), транспонирование B(tb): \").lower()\n",
    "\n",
    "if operation == \"+\":\n",
    "    result = matrix_a + matrix_b\n",
    "    print(\"\\nРезультат сложения матриц:\")\n",
    "    print(result)\n",
    "elif operation == \"*\":\n",
    "    if n == m:\n",
    "        result = matrix_a * matrix_b \n",
    "        print(\"\\nРезультат умножения матриц:\")\n",
    "        print(result)\n",
    "    else:\n",
    "        print(\"\\nОшибка: размеры матриц не соответствуют правилам матричного умножения.\")\n",
    "\n",
    "elif operation == \"ta\":\n",
    "    result = matrix_a.T\n",
    "    print(\"\\nТранспонированная матрица A:\")\n",
    "    print(result)\n",
    "elif operation == \"tb\":\n",
    "    result = matrix_b.T\n",
    "    print(\"\\nТранспонированная матрица B:\")\n",
    "    print(result)\n",
    "else:\n",
    "    print(\"\\nОшибка: неверная операция.\")\n"
   ]
  },
  {
   "cell_type": "code",
   "execution_count": null,
   "id": "6c6aeade-efe2-4a33-a6f4-9c5fd633e6b9",
   "metadata": {},
   "outputs": [],
   "source": []
  }
 ],
 "metadata": {
  "kernelspec": {
   "display_name": "Python 3 (ipykernel)",
   "language": "python",
   "name": "python3"
  },
  "language_info": {
   "codemirror_mode": {
    "name": "ipython",
    "version": 3
   },
   "file_extension": ".py",
   "mimetype": "text/x-python",
   "name": "python",
   "nbconvert_exporter": "python",
   "pygments_lexer": "ipython3",
   "version": "3.12.5"
  }
 },
 "nbformat": 4,
 "nbformat_minor": 5
}
